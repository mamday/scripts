{
 "cells": [
  {
   "cell_type": "markdown",
   "metadata": {},
   "source": [
    "## The Problem: Imagine that you manage the design and technology for a collection of 256 advertising placements with a single publisher with websites devoted to golf; in this context a publisher is simply a website owner. Each placement is called an ad-unit and is associated with the ad-unit id= 1::256. The term ’ad-call’ is used to label the event when your server is asked for the data required to render the ad-unit for the user. Each ad-unit can be rendered in one of two treatments, called treatment 0 or 1. Perhaps treatments 0 and 1 differ in the size of the advertiser logos. Your technology group has afforded you a knob for each ad-unit, in the form of a number p[0:1]. Upon an ad-call for ad-uniti, your adserver draws a random number, and if this number is less than p then treatment 1 is shown, else treatment 0 is shown. To simplify this problem, assume that each adunit has exactly 1,000 ad-calls per day, and that each of the 256,000 ad-calls each day is due to a distinct user. Upon the ad-call, the user can interact with the ad-unit for an arbitrary number of seconds. For each second of interaction, an advertiser pays the publisher a cps (cost-per-second) c_ai which is a value specific to each ad-unit id_i and treatment id_a. You have an agreement with the publisher, that each day, the total advertiser spend divided by the total number of seconds of interaction, is no less than 0.20. Additionally, you have an internal requirement, that each day, the total number of adcalls (summed over all ad-units) with treatment 0 is equal to the number of adcalls with treatment 1.Your task is to choose the values of p_1::p_256 to maximize the expected total number of seconds of interaction (sum over all adcalls) that occur tomorrow, while guaranteeing both the publisher agreement and the internal requirement (in expectation)."
   ]
  },
  {
   "cell_type": "code",
   "execution_count": 1,
   "metadata": {
    "collapsed": false
   },
   "outputs": [
    {
     "name": "stderr",
     "output_type": "stream",
     "text": [
      "/usr/local/lib/python2.7/dist-packages/matplotlib/font_manager.py:273: UserWarning: Matplotlib is building the font cache using fc-list. This may take a moment.\n",
      "  warnings.warn('Matplotlib is building the font cache using fc-list. This may take a moment.')\n"
     ]
    }
   ],
   "source": [
    "import numpy \n",
    "import matplotlib \n",
    "from matplotlib import pyplot\n",
    "import seaborn as sns \n",
    "import pandas\n",
    "%matplotlib inline"
   ]
  },
  {
   "cell_type": "code",
   "execution_count": 2,
   "metadata": {
    "collapsed": true
   },
   "outputs": [],
   "source": [
    "ad_info = pandas.read_json(\"data/ad_calls.json\")"
   ]
  },
  {
   "cell_type": "code",
   "execution_count": 3,
   "metadata": {
    "collapsed": false
   },
   "outputs": [
    {
     "data": {
      "text/plain": [
       "Index([u'ad_unit_id', u'cost_per_second', u'n_seconds', u'treatment_id'], dtype='object')"
      ]
     },
     "execution_count": 3,
     "metadata": {},
     "output_type": "execute_result"
    }
   ],
   "source": [
    "ad_info.keys()"
   ]
  },
  {
   "cell_type": "markdown",
   "metadata": {},
   "source": [
    "#### Casually glancing through the file I see that treatment 0 always costs 0.32 c/s and 1 costs 0.16 c/s. Reformat the table so I can get the average values for treatment 0 and 1 for each of the ad_unit_ids (pandas pivot table automatically aggregates the entries by the mean for the table value)"
   ]
  },
  {
   "cell_type": "code",
   "execution_count": 4,
   "metadata": {
    "collapsed": true
   },
   "outputs": [],
   "source": [
    "ad_mean_pivot = pandas.pivot_table(ad_info,values='n_seconds', index=['ad_unit_id'],columns=['treatment_id'])"
   ]
  },
  {
   "cell_type": "code",
   "execution_count": 5,
   "metadata": {
    "collapsed": false
   },
   "outputs": [
    {
     "name": "stdout",
     "output_type": "stream",
     "text": [
      "7.63993288107\n"
     ]
    }
   ],
   "source": [
    "test = ad_info['n_seconds'][(ad_info['ad_unit_id']==0)&(ad_info['treatment_id']==1)]\n",
    "print numpy.mean(test)"
   ]
  },
  {
   "cell_type": "code",
   "execution_count": 6,
   "metadata": {
    "collapsed": false
   },
   "outputs": [
    {
     "data": {
      "text/html": [
       "<div style=\"max-height:1000px;max-width:1500px;overflow:auto;\">\n",
       "<table border=\"1\" class=\"dataframe\">\n",
       "  <thead>\n",
       "    <tr style=\"text-align: right;\">\n",
       "      <th>treatment_id</th>\n",
       "      <th>0</th>\n",
       "      <th>1</th>\n",
       "    </tr>\n",
       "    <tr>\n",
       "      <th>ad_unit_id</th>\n",
       "      <th></th>\n",
       "      <th></th>\n",
       "    </tr>\n",
       "  </thead>\n",
       "  <tbody>\n",
       "    <tr>\n",
       "      <th>0</th>\n",
       "      <td> 2.173420</td>\n",
       "      <td> 7.639933</td>\n",
       "    </tr>\n",
       "    <tr>\n",
       "      <th>1</th>\n",
       "      <td> 1.857541</td>\n",
       "      <td> 3.647597</td>\n",
       "    </tr>\n",
       "    <tr>\n",
       "      <th>2</th>\n",
       "      <td> 1.935385</td>\n",
       "      <td> 3.941385</td>\n",
       "    </tr>\n",
       "    <tr>\n",
       "      <th>3</th>\n",
       "      <td> 1.960112</td>\n",
       "      <td> 8.335809</td>\n",
       "    </tr>\n",
       "    <tr>\n",
       "      <th>4</th>\n",
       "      <td> 1.942295</td>\n",
       "      <td> 3.814124</td>\n",
       "    </tr>\n",
       "  </tbody>\n",
       "</table>\n",
       "</div>"
      ],
      "text/plain": [
       "treatment_id         0         1\n",
       "ad_unit_id                      \n",
       "0             2.173420  7.639933\n",
       "1             1.857541  3.647597\n",
       "2             1.935385  3.941385\n",
       "3             1.960112  8.335809\n",
       "4             1.942295  3.814124"
      ]
     },
     "execution_count": 6,
     "metadata": {},
     "output_type": "execute_result"
    }
   ],
   "source": [
    "ad_mean_pivot.head(n=5)"
   ]
  },
  {
   "cell_type": "markdown",
   "metadata": {},
   "source": [
    "### To solve the problem I choose to use a greedy algorithm strategy. First I check the result optimizing only time, and see that the cost/second is less than 0.2. Therefore I create a second algorithm that alternates optimizing the time with optimizing the cost/second"
   ]
  },
  {
   "cell_type": "code",
   "execution_count": 7,
   "metadata": {
    "collapsed": false
   },
   "outputs": [],
   "source": [
    "#An algorithm that greedily optimizes the amount of time that ads are viewed\n",
    "def get_weights(w_dict,o_vec,z_vec):\n",
    "  cur_m1 = 128000\n",
    "  cur_m0 = 128000    \n",
    "  while(len(o_vec)>0):\n",
    "    cur_uses = 1000\n",
    "    m1_key = o_vec.keys()[0]\n",
    "    m0_key = z_vec.keys()[0]\n",
    "    m1_dur = o_vec[m1_key]\n",
    "    m0_dur = z_vec[m0_key]\n",
    "    #print len(os),len(zs),m1_key,m0_key,m1_dur,m0_dur\n",
    "    while(cur_uses>0):\n",
    "        if(m1_dur>=m0_dur):\n",
    "            #print 'M1'\n",
    "            if(cur_m1>0):\n",
    "                w_dict[m1_key][1]+=1\n",
    "                cur_uses-=1\n",
    "                cur_m1-=1\n",
    "            else:\n",
    "                w_dict[m1_key][0]+=1\n",
    "                cur_uses-=1\n",
    "                cur_m0-=1\n",
    "            if(cur_uses==0):\n",
    "                o_vec.pop(m1_key)\n",
    "                z_vec.pop(m1_key)\n",
    "        else:\n",
    "            #print 'M0'\n",
    "            if(cur_m0>0):\n",
    "                w_dict[m0_key][0]+=1\n",
    "                cur_uses-=1\n",
    "                cur_m0-=1\n",
    "            else:\n",
    "                w_dict[m0_key][1]+=1\n",
    "                cur_uses-=1\n",
    "                cur_m0-=1\n",
    "            if(cur_uses==0):\n",
    "                o_vec.pop(m0_key)\n",
    "                z_vec.pop(m0_key)\n",
    "    "
   ]
  },
  {
   "cell_type": "code",
   "execution_count": 8,
   "metadata": {
    "collapsed": false
   },
   "outputs": [],
   "source": [
    "#Test to check that total sum of uses for mode 0 and mode 1 are both 128000 and that the total is 256000\n",
    "def test_weights(w_dict):\n",
    "    tot_weight = 0\n",
    "    w1 = 0\n",
    "    w0 = 0\n",
    "    for key,weights in w_dict.iteritems():\n",
    "        tot_weight+=sum(weights)\n",
    "        w1+=weights[1]\n",
    "        w0+=weights[0]\n",
    "    assert(tot_weight==256000)\n",
    "    assert(w1==128000)\n",
    "    assert(w0==128000)"
   ]
  },
  {
   "cell_type": "code",
   "execution_count": 9,
   "metadata": {
    "collapsed": false
   },
   "outputs": [],
   "source": [
    "one_cost = ad_info['cost_per_second'][ad_info['treatment_id']==1]\n",
    "zero_cost = ad_info['cost_per_second'][ad_info['treatment_id']==0]"
   ]
  },
  {
   "cell_type": "markdown",
   "metadata": {},
   "source": [
    "#### Confirm that treatment 1 always costs 0.16 and treatment 0 always costs 0.32"
   ]
  },
  {
   "cell_type": "code",
   "execution_count": 10,
   "metadata": {
    "collapsed": false
   },
   "outputs": [
    {
     "data": {
      "text/plain": [
       "Series([], name: cost_per_second, dtype: float64)"
      ]
     },
     "execution_count": 10,
     "metadata": {},
     "output_type": "execute_result"
    }
   ],
   "source": [
    "one_cost[one_cost!=0.16]"
   ]
  },
  {
   "cell_type": "code",
   "execution_count": 11,
   "metadata": {
    "collapsed": false
   },
   "outputs": [
    {
     "data": {
      "text/plain": [
       "Series([], name: cost_per_second, dtype: float64)"
      ]
     },
     "execution_count": 11,
     "metadata": {},
     "output_type": "execute_result"
    }
   ],
   "source": [
    "zero_cost[zero_cost!=0.32]"
   ]
  },
  {
   "cell_type": "code",
   "execution_count": 12,
   "metadata": {
    "collapsed": false
   },
   "outputs": [],
   "source": [
    "#An algorithm to calculate the cost/second from the weights calculated by get_weights()\n",
    "def calculate_cost_time(w_dict,o_cs,z_cs,o_vec,z_vec):\n",
    "    tot_cost = 0\n",
    "    tot_time = 0\n",
    "    for key,weights in w_dict.iteritems():\n",
    "        tot_cost+=z_cs[key]*weights[0]\n",
    "        tot_cost+=o_cs[key]*weights[1]  \n",
    "        tot_time+=z_vec[key]*weights[0]\n",
    "        tot_time+=o_vec[key]*weights[1]\n",
    "    return tot_cost,tot_time"
   ]
  },
  {
   "cell_type": "code",
   "execution_count": 13,
   "metadata": {
    "collapsed": false
   },
   "outputs": [],
   "source": [
    "zs = ad_mean_pivot[0].copy()\n",
    "zs.sort(ascending=False)\n",
    "os = ad_mean_pivot[1].copy()\n",
    "os.sort(ascending=False)"
   ]
  },
  {
   "cell_type": "markdown",
   "metadata": {},
   "source": [
    "#### Show that if I optimize time only that the cost/second is ~0.1925, which is less than 0.2"
   ]
  },
  {
   "cell_type": "code",
   "execution_count": 14,
   "metadata": {
    "collapsed": true
   },
   "outputs": [],
   "source": [
    "weight_dict2 = {key: [0,0] for key in xrange(0,256)}\n",
    "get_weights(weight_dict2,os,zs)\n",
    "test_weights(weight_dict2)"
   ]
  },
  {
   "cell_type": "code",
   "execution_count": 15,
   "metadata": {
    "collapsed": true
   },
   "outputs": [],
   "source": [
    "zs = ad_mean_pivot[0].copy()\n",
    "os = ad_mean_pivot[1].copy()\n",
    "z_cost_time = 0.32*zs\n",
    "o_cost_time = 0.16*os"
   ]
  },
  {
   "cell_type": "code",
   "execution_count": 16,
   "metadata": {
    "collapsed": false
   },
   "outputs": [
    {
     "name": "stdout",
     "output_type": "stream",
     "text": [
      "0.192516255221 243300.115643 1263789.98679\n"
     ]
    }
   ],
   "source": [
    "tot_cost,tot_time = calculate_cost_time(weight_dict2,o_cost_time,z_cost_time,os,zs)\n",
    "print (tot_cost)/(tot_time),tot_cost,tot_time"
   ]
  },
  {
   "cell_type": "markdown",
   "metadata": {},
   "source": [
    "#### Test deciding the weights entirely based on the c/s"
   ]
  },
  {
   "cell_type": "code",
   "execution_count": 17,
   "metadata": {
    "collapsed": true
   },
   "outputs": [],
   "source": [
    "zs = ad_mean_pivot[0].copy()\n",
    "zs.sort(ascending=False)\n",
    "os = ad_mean_pivot[1].copy()\n",
    "os.sort(ascending=False)"
   ]
  },
  {
   "cell_type": "code",
   "execution_count": 18,
   "metadata": {
    "collapsed": false
   },
   "outputs": [],
   "source": [
    "#An algorithm that uses the current average cost/second to decide whether to greedily optimize for time or for cost\n",
    "def get_weights_avg(w_dict,o_vec,z_vec,cost_threshold=0.2):\n",
    "    cur_m1 = 128000\n",
    "    cur_m0 = 128000    \n",
    "    cur_cost = 0.\n",
    "    cur_time = 0.\n",
    "    use_dict = {key: 1000 for key in xrange(0,256)}\n",
    "    while(len(o_vec)>0):\n",
    "        m1_key = o_vec.keys()[0]\n",
    "        m0_key = z_vec.keys()[0]\n",
    "        m0_dur = z_vec[m0_key]\n",
    "        ''''Since I know that treatment 1 always costs 0.16 and treatment 0 always costs 0.32 I can just force\n",
    "        the algorithm to use treatment 0 if the cost dips below the threshold, and choose the longest duration\n",
    "        otherwise'''\n",
    "        if(cur_time==0 or (cur_cost/cur_time)<cost_threshold):\n",
    "            m1_dur=0\n",
    "        else:\n",
    "            m1_dur = o_vec[m1_key]\n",
    "        if(m1_dur>=m0_dur):\n",
    "            if(cur_m1>0):\n",
    "                cur_cost+=0.16*m1_dur\n",
    "                cur_time+=m1_dur\n",
    "                w_dict[m1_key][1]+=1\n",
    "                use_dict[m1_key]-=1\n",
    "                cur_m1-=1\n",
    "            else:\n",
    "                cur_cost+=0.32*z_vec[m1_key]\n",
    "                cur_time+=z_vec[m1_key]\n",
    "                w_dict[m1_key][0]+=1\n",
    "                use_dict[m1_key]-=1\n",
    "                cur_m0-=1\n",
    "            if(use_dict[m1_key]==0):\n",
    "                o_vec.pop(m1_key)\n",
    "                z_vec.pop(m1_key)\n",
    "        else:\n",
    "            if(cur_m0>0):\n",
    "                cur_cost+=0.32*m0_dur\n",
    "                cur_time+=m0_dur\n",
    "                w_dict[m0_key][0]+=1\n",
    "                use_dict[m0_key]-=1\n",
    "                cur_m0-=1\n",
    "            else:\n",
    "                cur_cost+=0.16*z_vec[m0_key]\n",
    "                cur_time+=z_vec[m0_key]\n",
    "                w_dict[m0_key][1]+=1\n",
    "                use_dict[m0_key]-=1\n",
    "                cur_m0-=1\n",
    "            if(use_dict[m0_key]==0):\n",
    "                o_vec.pop(m0_key)\n",
    "                z_vec.pop(m0_key)"
   ]
  },
  {
   "cell_type": "code",
   "execution_count": 19,
   "metadata": {
    "collapsed": false
   },
   "outputs": [],
   "source": [
    "weight_dict = {key: [0,0] for key in xrange(0,256)}"
   ]
  },
  {
   "cell_type": "code",
   "execution_count": 20,
   "metadata": {
    "collapsed": false
   },
   "outputs": [],
   "source": [
    "get_weights_avg(weight_dict,os,zs)\n",
    "test_weights(weight_dict)"
   ]
  },
  {
   "cell_type": "code",
   "execution_count": 21,
   "metadata": {
    "collapsed": false
   },
   "outputs": [],
   "source": [
    "zs = ad_mean_pivot[0].copy()\n",
    "zs.sort(ascending=False)\n",
    "os = ad_mean_pivot[1].copy()\n",
    "os.sort(ascending=False)\n",
    "z_cost_time = 0.32*zs\n",
    "o_cost_time = 0.16*os"
   ]
  },
  {
   "cell_type": "markdown",
   "metadata": {},
   "source": [
    "#### See that if I set the threshold at 0.2 that my cost/second improves, and my total time decreases, but this threshold is not yet high enough to get me to the 0.2 cents/second that I need. Therefore I need to tune my cost threshold"
   ]
  },
  {
   "cell_type": "code",
   "execution_count": 22,
   "metadata": {
    "collapsed": false
   },
   "outputs": [
    {
     "name": "stdout",
     "output_type": "stream",
     "text": [
      "0.19721800021 223586.147133 1133700.50855\n"
     ]
    }
   ],
   "source": [
    "tot_cost,tot_time = calculate_cost_time(weight_dict,o_cost_time,z_cost_time,os,zs)\n",
    "print (tot_cost)/(tot_time),tot_cost,tot_time"
   ]
  },
  {
   "cell_type": "code",
   "execution_count": 23,
   "metadata": {
    "collapsed": false
   },
   "outputs": [],
   "source": [
    "thresh_list = []\n",
    "cost_list = []\n",
    "time_list = []\n",
    "for t_hold in numpy.linspace(0.16,0.32,20):\n",
    "    weight_dict = {key: [0,0] for key in xrange(0,256)}\n",
    "    get_weights_avg(weight_dict,os,zs,t_hold)\n",
    "    test_weights(weight_dict)\n",
    "    zs = ad_mean_pivot[0].copy()\n",
    "    zs.sort(ascending=False)\n",
    "    os = ad_mean_pivot[1].copy()\n",
    "    os.sort(ascending=False)\n",
    "    z_cost_time = 0.32*zs\n",
    "    o_cost_time = 0.16*os\n",
    "    tot_cost,tot_time = calculate_cost_time(weight_dict,o_cost_time,z_cost_time,os,zs)\n",
    "    thresh_list.append(t_hold)\n",
    "    cost_list.append((tot_cost)/(tot_time))\n",
    "    time_list.append(tot_time)\n",
    "    #print i,(tot_cost)/(tot_time),tot_cost,tot_time"
   ]
  },
  {
   "cell_type": "markdown",
   "metadata": {},
   "source": [
    "#### Show that as the threshold increases the total time that the ads are viewed always decreases"
   ]
  },
  {
   "cell_type": "code",
   "execution_count": 37,
   "metadata": {
    "collapsed": false
   },
   "outputs": [
    {
     "data": {
      "text/plain": [
       "<matplotlib.text.Text at 0x7fe832f76110>"
      ]
     },
     "execution_count": 37,
     "metadata": {},
     "output_type": "execute_result"
    },
    {
     "data": {
      "image/png": "[encoded data removed]",
      "text/plain": [
       "<matplotlib.figure.Figure at 0x7fe832f0b8d0>"
      ]
     },
     "metadata": {},
     "output_type": "display_data"
    }
   ],
   "source": [
    "ax = pyplot.plot(thresh_list,time_list)\n",
    "pyplot.xlabel(\"Cost Threshold (cents/second)\")\n",
    "pyplot.ylabel(\"Total Time (seconds)\")"
   ]
  },
  {
   "cell_type": "markdown",
   "metadata": {},
   "source": [
    "#### Plot results of iteration to see what the value of the cost threshold is that maximizes the total time"
   ]
  },
  {
   "cell_type": "code",
   "execution_count": 34,
   "metadata": {
    "collapsed": false
   },
   "outputs": [
    {
     "data": {
      "text/plain": [
       "<matplotlib.text.Text at 0x7fe8330f8490>"
      ]
     },
     "execution_count": 34,
     "metadata": {},
     "output_type": "execute_result"
    },
    {
     "data": {
      "image/png": "[encoded data removed]",
      "text/plain": [
       "<matplotlib.figure.Figure at 0x7fe833122410>"
      ]
     },
     "metadata": {},
     "output_type": "display_data"
    }
   ],
   "source": [
    "ax = pyplot.plot(thresh_list,cost_list)\n",
    "pyplot.axhline(y=0.2,color='r')\n",
    "pyplot.xlabel(\"Cost Threshold (cents/second)\")\n",
    "pyplot.ylabel(\"Cost/Second at Threshold\")"
   ]
  },
  {
   "cell_type": "markdown",
   "metadata": {},
   "source": [
    "#### Use a spline to calculate the value of the threshold where the cost/second is 0.2"
   ]
  },
  {
   "cell_type": "code",
   "execution_count": 50,
   "metadata": {
    "collapsed": true
   },
   "outputs": [],
   "source": [
    "from scipy.interpolate import interp1d\n",
    "spl = interp1d(cost_list, thresh_list)\n",
    "best_threshold = spl(0.2)"
   ]
  },
  {
   "cell_type": "markdown",
   "metadata": {},
   "source": [
    "#### Calculate the weights at the best threshold"
   ]
  },
  {
   "cell_type": "code",
   "execution_count": 52,
   "metadata": {
    "collapsed": false
   },
   "outputs": [],
   "source": [
    "zs = ad_mean_pivot[0].copy()\n",
    "zs.sort(ascending=False)\n",
    "os = ad_mean_pivot[1].copy()\n",
    "os.sort(ascending=False)\n",
    "z_cost_time = 0.32*zs\n",
    "o_cost_time = 0.16*os\n",
    "fin_weight_dict = {key: [0,0] for key in xrange(0,256)}\n",
    "get_weights_avg(fin_weight_dict,os,zs,best_threshold)\n",
    "test_weights(fin_weight_dict)"
   ]
  },
  {
   "cell_type": "code",
   "execution_count": null,
   "metadata": {
    "collapsed": true
   },
   "outputs": [],
   "source": []
  }
 ],
 "metadata": {
  "kernelspec": {
   "display_name": "Python 2",
   "language": "python",
   "name": "python2"
  },
  "language_info": {
   "codemirror_mode": {
    "name": "ipython",
    "version": 2
   },
   "file_extension": ".py",
   "mimetype": "text/x-python",
   "name": "python",
   "nbconvert_exporter": "python",
   "pygments_lexer": "ipython2",
   "version": "2.7.6"
  }
 },
 "nbformat": 4,
 "nbformat_minor": 0
}
