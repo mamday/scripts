{
 "cells": [
  {
   "cell_type": "markdown",
   "metadata": {},
   "source": [
    "## The Problem: Imagine that you manage the design and technology for a collection of 256 advertising placements with a single publisher with websites devoted to golf; in this context a publisher is simply a website owner. Each placement is called an ad-unit and is associated with the ad-unit id= 1::256. The term ’ad-call’ is used to label the event when your server is asked for the data required to render the ad-unit for the user. Each ad-unit can be rendered in one of two treatments, called treatment 0 or 1. Perhaps treatments 0 and 1 differ in the size of the advertiser logos. Your technology group has afforded you a knob for each ad-unit, in the form of a number p[0:1]. Upon an ad-call for ad-uniti, your adserver draws a random number, and if this number is less than p then treatment 1 is shown, else treatment 0 is shown. To simplify this problem, assume that each adunit has exactly 1,000 ad-calls per day, and that each of the 256,000 ad-calls each day is due to a distinct user. Upon the ad-call, the user can interact with the ad-unit for an arbitrary number of seconds. For each second of interaction, an advertiser pays the publisher a cps (cost-per-second) c_ai which is a value specific to each ad-unit id_i and treatment id_a. You have an agreement with the publisher, that each day, the total advertiser spend divided by the total number of seconds of interaction, is no less than 0.20. Additionally, you have an internal requirement, that each day, the total number of adcalls (summed over all ad-units) with treatment 0 is equal to the number of adcalls with treatment 1.Your task is to choose the values of p_1::p_256 to maximize the expected total number of seconds of interaction (sum over all adcalls) that occur tomorrow, while guaranteeing both the publisher agreement and the internal requirement (in expectation)."
   ]
  },
  {
   "cell_type": "code",
   "execution_count": 1,
   "metadata": {
    "collapsed": false
   },
   "outputs": [
    {
     "name": "stderr",
     "output_type": "stream",
     "text": [
      "/usr/local/lib/python2.7/dist-packages/matplotlib/font_manager.py:273: UserWarning: Matplotlib is building the font cache using fc-list. This may take a moment.\n",
      "  warnings.warn('Matplotlib is building the font cache using fc-list. This may take a moment.')\n"
     ]
    }
   ],
   "source": [
    "import numpy \n",
    "import matplotlib \n",
    "from matplotlib import pyplot\n",
    "import seaborn as sns \n",
    "import pandas\n",
    "%matplotlib inline"
   ]
  },
  {
   "cell_type": "code",
   "execution_count": 2,
   "metadata": {
    "collapsed": true
   },
   "outputs": [],
   "source": [
    "ad_info = pandas.read_json(\"data/ad_calls.json\")"
   ]
  },
  {
   "cell_type": "code",
   "execution_count": 3,
   "metadata": {
    "collapsed": false
   },
   "outputs": [
    {
     "data": {
      "text/plain": [
       "Index([u'ad_unit_id', u'cost_per_second', u'n_seconds', u'treatment_id'], dtype='object')"
      ]
     },
     "execution_count": 3,
     "metadata": {},
     "output_type": "execute_result"
    }
   ],
   "source": [
    "ad_info.keys()"
   ]
  },
  {
   "cell_type": "markdown",
   "metadata": {},
   "source": [
    "#### Casually glancing through the file I see that treatment 1 always costs 0.32 c/s and 0 costs 0.16 c/s. Reformat the table so I can get the average values for treatment 0 and 1 for each of the ad_unit_ids (pandas pivot table automatically aggregates the entries by the mean for the table value)"
   ]
  },
  {
   "cell_type": "code",
   "execution_count": 4,
   "metadata": {
    "collapsed": true
   },
   "outputs": [],
   "source": [
    "ad_mean_pivot = pandas.pivot_table(ad_info,values='n_seconds', index=['ad_unit_id'],columns=['treatment_id'])"
   ]
  },
  {
   "cell_type": "code",
   "execution_count": 5,
   "metadata": {
    "collapsed": false
   },
   "outputs": [
    {
     "name": "stdout",
     "output_type": "stream",
     "text": [
      "7.63993288107\n"
     ]
    }
   ],
   "source": [
    "test = ad_info['n_seconds'][(ad_info['ad_unit_id']==0)&(ad_info['treatment_id']==1)]\n",
    "print numpy.mean(test)"
   ]
  },
  {
   "cell_type": "code",
   "execution_count": 6,
   "metadata": {
    "collapsed": false
   },
   "outputs": [
    {
     "data": {
      "text/html": [
       "<div style=\"max-height:1000px;max-width:1500px;overflow:auto;\">\n",
       "<table border=\"1\" class=\"dataframe\">\n",
       "  <thead>\n",
       "    <tr style=\"text-align: right;\">\n",
       "      <th>treatment_id</th>\n",
       "      <th>0</th>\n",
       "      <th>1</th>\n",
       "    </tr>\n",
       "    <tr>\n",
       "      <th>ad_unit_id</th>\n",
       "      <th></th>\n",
       "      <th></th>\n",
       "    </tr>\n",
       "  </thead>\n",
       "  <tbody>\n",
       "    <tr>\n",
       "      <th>0</th>\n",
       "      <td> 2.173420</td>\n",
       "      <td> 7.639933</td>\n",
       "    </tr>\n",
       "    <tr>\n",
       "      <th>1</th>\n",
       "      <td> 1.857541</td>\n",
       "      <td> 3.647597</td>\n",
       "    </tr>\n",
       "    <tr>\n",
       "      <th>2</th>\n",
       "      <td> 1.935385</td>\n",
       "      <td> 3.941385</td>\n",
       "    </tr>\n",
       "    <tr>\n",
       "      <th>3</th>\n",
       "      <td> 1.960112</td>\n",
       "      <td> 8.335809</td>\n",
       "    </tr>\n",
       "    <tr>\n",
       "      <th>4</th>\n",
       "      <td> 1.942295</td>\n",
       "      <td> 3.814124</td>\n",
       "    </tr>\n",
       "  </tbody>\n",
       "</table>\n",
       "</div>"
      ],
      "text/plain": [
       "treatment_id         0         1\n",
       "ad_unit_id                      \n",
       "0             2.173420  7.639933\n",
       "1             1.857541  3.647597\n",
       "2             1.935385  3.941385\n",
       "3             1.960112  8.335809\n",
       "4             1.942295  3.814124"
      ]
     },
     "execution_count": 6,
     "metadata": {},
     "output_type": "execute_result"
    }
   ],
   "source": [
    "ad_mean_pivot.head(n=5)"
   ]
  },
  {
   "cell_type": "code",
   "execution_count": 7,
   "metadata": {
    "collapsed": false
   },
   "outputs": [],
   "source": [
    "zs = ad_mean_pivot[0].copy()\n",
    "zs.sort(ascending=False)\n",
    "os = ad_mean_pivot[1].copy()\n",
    "os.sort(ascending=False)"
   ]
  },
  {
   "cell_type": "code",
   "execution_count": 8,
   "metadata": {
    "collapsed": false
   },
   "outputs": [
    {
     "data": {
      "text/plain": [
       "ad_unit_id\n",
       "198           2.275911\n",
       "6             2.256219\n",
       "31            2.253210\n",
       "137           2.211310\n",
       "8             2.205088\n",
       "19            2.194322\n",
       "116           2.188543\n",
       "23            2.187440\n",
       "0             2.173420\n",
       "50            2.172567\n",
       "138           2.171278\n",
       "196           2.162835\n",
       "108           2.162740\n",
       "179           2.154072\n",
       "152           2.148492\n",
       "...\n",
       "136           1.946941\n",
       "61            1.946785\n",
       "39            1.945064\n",
       "96            1.944691\n",
       "93            1.943890\n",
       "4             1.942295\n",
       "147           1.939751\n",
       "150           1.939092\n",
       "193           1.938938\n",
       "139           1.937789\n",
       "190           1.937271\n",
       "64            1.937037\n",
       "219           1.936628\n",
       "84            1.935875\n",
       "2             1.935385\n",
       "Name: 0, Length: 200, dtype: float64"
      ]
     },
     "execution_count": 8,
     "metadata": {},
     "output_type": "execute_result"
    }
   ],
   "source": [
    "zs.head(n=200)"
   ]
  },
  {
   "cell_type": "code",
   "execution_count": 9,
   "metadata": {
    "collapsed": false
   },
   "outputs": [
    {
     "data": {
      "text/plain": [
       "ad_unit_id\n",
       "211           8.963853\n",
       "60            8.866322\n",
       "22            8.808542\n",
       "201           8.784608\n",
       "11            8.706966\n",
       "168           8.684148\n",
       "139           8.651411\n",
       "240           8.595362\n",
       "98            8.535774\n",
       "52            8.495709\n",
       "229           8.484473\n",
       "148           8.450355\n",
       "184           8.435209\n",
       "192           8.427792\n",
       "29            8.423214\n",
       "...\n",
       "232           3.997956\n",
       "125           3.995327\n",
       "187           3.993126\n",
       "210           3.992027\n",
       "132           3.990839\n",
       "73            3.990039\n",
       "8             3.989529\n",
       "254           3.981833\n",
       "58            3.977036\n",
       "69            3.972680\n",
       "10            3.968735\n",
       "56            3.961485\n",
       "158           3.958636\n",
       "18            3.956286\n",
       "84            3.955478\n",
       "Name: 1, Length: 200, dtype: float64"
      ]
     },
     "execution_count": 9,
     "metadata": {},
     "output_type": "execute_result"
    }
   ],
   "source": [
    "os.head(n=200)"
   ]
  },
  {
   "cell_type": "markdown",
   "metadata": {},
   "source": [
    "#### By eye the greedy algorithm solution to this problem seems simple to solve by eye, because mode 1 pays more (0.32 compared to 0.16) and also makes users interact with the ads longer. Without doing any coding at all I expect the solution to be 1)For the first half of ads, sorted by the mode 1 durations, always choose mode 1 2)Once you have used up all your mode 1 trials for the day start choosing mode 0. "
   ]
  },
  {
   "cell_type": "markdown",
   "metadata": {},
   "source": [
    "### To solve the generic problem (where perhaps I do not know that the time AND price is always greater for mode 1 etc.), I will use a greedy algorithm strategy. In the first pass through the list I will greedily choose the option that optimizes the time until I run out of uses of that mode (each mode gets 256,000/2 uses only based on the constraints). On the second pass through the algorithm I will force the algorithm to switch the mode to the mode that makes the most money*time until the total price/duration > 0.2 (the second constraint) and the number of mode 1 uses equals the number of mode 0 uses. The final solution will give the optimal weights for mode 0 and 1 for all the ads."
   ]
  },
  {
   "cell_type": "code",
   "execution_count": 10,
   "metadata": {
    "collapsed": false
   },
   "outputs": [],
   "source": [
    "weight_dict = {key: [0,0] for key in xrange(0,256)}\n",
    "cur_m1 = 128000\n",
    "cur_m0 = 128000"
   ]
  },
  {
   "cell_type": "code",
   "execution_count": 11,
   "metadata": {
    "collapsed": false
   },
   "outputs": [],
   "source": [
    "while(len(os)>0):\n",
    "    cur_uses = 1000\n",
    "    m1_key = os.keys()[0]\n",
    "    m0_key = zs.keys()[0]\n",
    "    m1_dur = os[m1_key]\n",
    "    m0_dur = zs[m0_key]\n",
    "    #print len(os),len(zs),m1_key,m0_key,m1_dur,m0_dur\n",
    "    while(cur_uses>0):\n",
    "        if(m1_dur>=m0_dur):\n",
    "            #print 'M1'\n",
    "            if(cur_m1>0):\n",
    "                weight_dict[m1_key][1]+=1\n",
    "                cur_uses-=1\n",
    "                cur_m1-=1\n",
    "            else:\n",
    "                weight_dict[m1_key][0]+=1\n",
    "                cur_uses-=1\n",
    "                cur_m0-=1\n",
    "            if(cur_uses==0):\n",
    "                os.pop(m1_key)\n",
    "                zs.pop(m1_key)\n",
    "        else:\n",
    "            #print 'M0'\n",
    "            if(cur_m0>0):\n",
    "                weight_dict[m0_key][0]+=1\n",
    "                cur_uses-=1\n",
    "                cur_m0-=1\n",
    "            else:\n",
    "                weight_dict[m0_key][1][0]+=1\n",
    "                cur_uses-=1\n",
    "                cur_m0-=1\n",
    "            if(cur_uses==0):\n",
    "                os.pop(m0_key)\n",
    "                zs.pop(m0_key)\n",
    "    "
   ]
  },
  {
   "cell_type": "code",
   "execution_count": 12,
   "metadata": {
    "collapsed": false
   },
   "outputs": [],
   "source": [
    "#Test to check that total sum of uses for mode 0 and mode 1 are both 128000\n"
   ]
  },
  {
   "cell_type": "code",
   "execution_count": null,
   "metadata": {
    "collapsed": true
   },
   "outputs": [],
   "source": []
  }
 ],
 "metadata": {
  "kernelspec": {
   "display_name": "Python 2",
   "language": "python",
   "name": "python2"
  },
  "language_info": {
   "codemirror_mode": {
    "name": "ipython",
    "version": 2
   },
   "file_extension": ".py",
   "mimetype": "text/x-python",
   "name": "python",
   "nbconvert_exporter": "python",
   "pygments_lexer": "ipython2",
   "version": "2.7.6"
  }
 },
 "nbformat": 4,
 "nbformat_minor": 0
}
