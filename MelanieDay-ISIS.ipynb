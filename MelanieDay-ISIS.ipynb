{
 "cells": [
  {
   "cell_type": "markdown",
   "metadata": {
    "_cell_guid": "1602353c-6efa-3c14-1b73-369609799492"
   },
   "source": [
    "### Analyzing graph of relationships between username and twitter handles used in tweets for both tweets about ISIS and for the ISIS fanboys. Find that the most central Twitter handle for the ISIS fanboys by far is someone called 'Uncle_SamCoco', followed by 'RamiAlLolah', 'WarReporter1','MaghrabiArabi' and 'mobi_ayubi'"
   ]
  },
  {
   "cell_type": "markdown",
   "metadata": {
    "_cell_guid": "211cc762-df83-b126-1533-2e5b24e3590f"
   },
   "source": [
    "### Also looked at topic modeling with 1000 most frequent words in each set using non-negative matrix factorization. Topics for fanboys are more specific (including more references to Uncle_SamCoco and other twitter handles), have more ISIS specific jargon, and focus more on victims."
   ]
  },
  {
   "cell_type": "code",
   "execution_count": 1,
   "metadata": {
    "_cell_guid": "2727859a-223b-7db7-dced-d47810a5b322"
   },
   "outputs": [
    {
     "name": "stdout",
     "output_type": "stream",
     "text": [
      "AboutIsis.csv\n",
      "IsisFanboy.csv\n",
      "\n"
     ]
    }
   ],
   "source": [
    "# This Python 3 environment comes with many helpful analytics libraries installed\n",
    "# It is defined by the kaggle/python docker image: https://github.com/kaggle/docker-python\n",
    "# For example, here's several helpful packages to load in \n",
    "\n",
    "import numpy as np # linear algebra\n",
    "import pandas as pd # data processing, CSV file I/O (e.g. pd.read_csv)\n",
    "import seaborn as sns\n",
    "import matplotlib\n",
    "from matplotlib import *\n",
    "%matplotlib inline\n",
    "# Input data files are available in the \"../input/\" directory.\n",
    "# For example, running this (by clicking run or pressing Shift+Enter) will list the files in the input directory\n",
    "\n",
    "from subprocess import check_output\n",
    "print(check_output([\"ls\", \"../input\"]).decode(\"utf8\"))\n",
    "\n",
    "# Any results you write to the current directory are saved as output."
   ]
  },
  {
   "cell_type": "code",
   "execution_count": 2,
   "metadata": {
    "_cell_guid": "c59cd28f-0991-7fa2-aa2c-87ab2c5d4ba8"
   },
   "outputs": [],
   "source": [
    "about_data = pd.read_csv('../input/AboutIsis.csv',encoding = \"ISO-8859-1\")\n",
    "fanboy_data = pd.read_csv('../input/IsisFanboy.csv',encoding = \"ISO-8859-1\")"
   ]
  },
  {
   "cell_type": "code",
   "execution_count": 3,
   "metadata": {
    "_cell_guid": "483f52ce-9dd1-05c1-c96e-9ec94e6a1efc"
   },
   "outputs": [
    {
     "data": {
      "text/plain": [
       "Index(['name', 'username', 'tweetid', 'time', 'tweets'], dtype='object')"
      ]
     },
     "execution_count": 3,
     "metadata": {},
     "output_type": "execute_result"
    }
   ],
   "source": [
    "about_data.keys()"
   ]
  },
  {
   "cell_type": "code",
   "execution_count": 4,
   "metadata": {
    "_cell_guid": "d47213bf-4f48-9008-a4c1-1ef4a26a9b06"
   },
   "outputs": [],
   "source": [
    "fanboy_space_split = [str(i).split() for i in fanboy_data['tweets']]\n",
    "fanboy_handles = [j for i in fanboy_space_split for j in i if '@' in j]\n",
    "about_space_split = [str(i).split() for i in about_data['tweets']]\n",
    "about_handles = [j for i in about_space_split for j in i if '@' in j]"
   ]
  },
  {
   "cell_type": "markdown",
   "metadata": {
    "_cell_guid": "3c75f376-7f5c-8556-b122-a00684c998a5"
   },
   "source": [
    "#### **See that the ratio users to references to other handles is significantly higher for tweets about ISIS than for ISIS fanboys**"
   ]
  },
  {
   "cell_type": "code",
   "execution_count": 5,
   "metadata": {
    "_cell_guid": "efe3048a-b6ab-71b6-a462-7fcd70e51800"
   },
   "outputs": [
    {
     "name": "stdout",
     "output_type": "stream",
     "text": [
      "0.02943474863245637 5.385844491954541\n"
     ]
    }
   ],
   "source": [
    "print(len(set(fanboy_data['username']))/len(set(fanboy_handles)),\n",
    "      len(set(about_data['username']))/len(set(about_handles)))"
   ]
  },
  {
   "cell_type": "code",
   "execution_count": 6,
   "metadata": {
    "_cell_guid": "95d4c055-e414-dad9-4195-14af693c18f9"
   },
   "outputs": [],
   "source": [
    "import networkx as nx"
   ]
  },
  {
   "cell_type": "code",
   "execution_count": 7,
   "metadata": {
    "_cell_guid": "69aceaf1-1182-8e05-e4d6-f824d721b1b1"
   },
   "outputs": [],
   "source": [
    "fanboy_edges = [(k,j[1:]) for k,i in zip(fanboy_data['username'],fanboy_space_split) for j in i if '@' in j]\n",
    "about_edges = [(k,j[1:]) for k,i in zip(about_data['username'],about_space_split) for j in i if '@' in j]"
   ]
  },
  {
   "cell_type": "code",
   "execution_count": 8,
   "metadata": {
    "_cell_guid": "20ed4900-99ab-6ffb-62aa-01fb5e1723ee"
   },
   "outputs": [],
   "source": [
    "about_graph = nx.Graph()\n",
    "fanboy_graph = nx.Graph()"
   ]
  },
  {
   "cell_type": "code",
   "execution_count": 9,
   "metadata": {
    "_cell_guid": "ddc5842b-8892-a1fe-f6f7-6151d0b9868d"
   },
   "outputs": [],
   "source": [
    "about_graph.add_edges_from(about_edges)\n",
    "fanboy_graph.add_edges_from(fanboy_edges)"
   ]
  },
  {
   "cell_type": "markdown",
   "metadata": {
    "_cell_guid": "5eaf4522-71b2-519d-13a4-e727e6de2854"
   },
   "source": [
    "#### **The average degree of nodes for fanboys is slightly higher than for tweets about ISIS**"
   ]
  },
  {
   "cell_type": "code",
   "execution_count": 10,
   "metadata": {
    "_cell_guid": "f87be87b-7e92-126d-22c7-52869da8dd72"
   },
   "outputs": [
    {
     "name": "stdout",
     "output_type": "stream",
     "text": [
      "1.4916301828483132\n",
      "1.0530127958231694\n"
     ]
    }
   ],
   "source": [
    "print(1/(float(fanboy_graph.order())/float(fanboy_graph.size())))\n",
    "print(1/(float(about_graph.order())/float(about_graph.size())))"
   ]
  },
  {
   "cell_type": "code",
   "execution_count": 11,
   "metadata": {
    "_cell_guid": "ff17120e-ed05-523b-dc26-f79f028f4040"
   },
   "outputs": [],
   "source": [
    "fanboy_cc = nx.connected_component_subgraphs(fanboy_graph)\n",
    "bet_cen = nx.betweenness_centrality([i for i in fanboy_cc][0])"
   ]
  },
  {
   "cell_type": "code",
   "execution_count": 12,
   "metadata": {
    "_cell_guid": "fbe3b19c-ea82-8d04-3932-76d86ffd2dae"
   },
   "outputs": [],
   "source": [
    "fanboy_cc = nx.connected_component_subgraphs(fanboy_graph)\n",
    "clo_cen = nx.closeness_centrality([i for i in fanboy_cc][0])"
   ]
  },
  {
   "cell_type": "markdown",
   "metadata": {
    "_cell_guid": "a24fbe75-190c-e71e-8917-3d28e74bc47e"
   },
   "source": [
    "#### **Can look at the Twitter handles that are most connected through tweet references in the graph. See outliers 'Uncle_SamCoco' and 'RamiAlLolah'**"
   ]
  },
  {
   "cell_type": "code",
   "execution_count": 13,
   "metadata": {
    "_cell_guid": "883179ce-bbc2-5c99-7e7d-d9196c5b7e23"
   },
   "outputs": [
    {
     "data": {
      "image/png": "[encoded data removed]",
      "text/plain": [
       "<matplotlib.figure.Figure at 0x7ff1d34b4048>"
      ]
     },
     "metadata": {},
     "output_type": "display_data"
    }
   ],
   "source": [
    "fig, ax = matplotlib.pyplot.subplots()\n",
    "ax.scatter(list(clo_cen.values()),list(bet_cen.values()))\n",
    "ax.set_ylim(0.04,0.3)\n",
    "ax.set_xlim(0.32,0.45)\n",
    "ax.set_xlabel(\"Closeness Centrality\")\n",
    "ax.set_ylabel(\"Betweenness Centrality\")\n",
    "ax.set_yscale('log')\n",
    "for i, txt in enumerate(list(clo_cen.keys())):\n",
    "    ax.annotate(txt, (list(clo_cen.values())[i],list(bet_cen.values())[i]))"
   ]
  },
  {
   "cell_type": "code",
   "execution_count": 14,
   "metadata": {
    "_cell_guid": "a936dea6-bc21-779b-ac4b-c610e8a4dd20"
   },
   "outputs": [],
   "source": [
    "import re\n",
    "fanboy_text = [re.sub(\"[^a-zA-Z]\",\" \",j).lower() for i in fanboy_space_split for j in i if (not('@' in j) and not('#' in j))]\n",
    "about_text = [re.sub(\"[^a-zA-Z]\",\" \",j).lower() for i in about_space_split for j in i if (not('@' in j) and not('#' in j))]"
   ]
  },
  {
   "cell_type": "code",
   "execution_count": 15,
   "metadata": {
    "_cell_guid": "c5739b56-a5e0-6c36-eceb-f9cb6c25b9f1"
   },
   "outputs": [],
   "source": [
    "from sklearn.feature_extraction.text import CountVectorizer\n",
    "fc_vectorizer = CountVectorizer(stop_words='english',max_features=1000)\n",
    "fanboy_counts = fc_vectorizer.fit_transform(fanboy_text)\n",
    "ac_vectorizer = CountVectorizer(stop_words='english',max_features=1000)\n",
    "about_counts = ac_vectorizer.fit_transform(about_text)"
   ]
  },
  {
   "cell_type": "markdown",
   "metadata": {
    "_cell_guid": "76ab1c29-159d-ba7e-d5e0-df5d0f8efa37"
   },
   "source": [
    "#### **Use non-negative matrix factorization of 1000 most frequent words to determine topics for fanboys and tweets.**"
   ]
  },
  {
   "cell_type": "code",
   "execution_count": 16,
   "metadata": {
    "_cell_guid": "11dd2a65-987f-87c9-18d5-79479a64dfef"
   },
   "outputs": [],
   "source": [
    "def print_top_words(model, feature_names, n_top_words):\n",
    "    for topic_idx, topic in enumerate(model.components_):\n",
    "        print(\"Topic #%d:\" % topic_idx)\n",
    "        print(\" \".join([feature_names[i]\n",
    "                        for i in topic.argsort()[:-n_top_words - 1:-1]]))\n",
    "    print()"
   ]
  },
  {
   "cell_type": "code",
   "execution_count": 17,
   "metadata": {
    "_cell_guid": "890fc957-b76e-11f1-cbcf-bfd3021f22f8"
   },
   "outputs": [],
   "source": [
    "from sklearn.decomposition import NMF\n",
    "n_samples = 2000\n",
    "n_features = 1000\n",
    "n_topics = 10\n",
    "n_top_words = 20\n",
    "fanboy_nmf = NMF(n_components=n_topics, random_state=1, alpha=.1, l1_ratio=.5).fit(fanboy_counts)"
   ]
  },
  {
   "cell_type": "markdown",
   "metadata": {
    "_cell_guid": "8fe00d14-b552-e510-7aa3-fc226b116431"
   },
   "source": [
    "#### **Topics for fanboys are very specific, containing Twitter jargon (Topic 0) and many ISIS specific terms (Topic 5). Have topic of victims of airstrikes (Topic 6), and operations in Iraq (Topic 9)**"
   ]
  },
  {
   "cell_type": "code",
   "execution_count": 18,
   "metadata": {
    "_cell_guid": "a68b3aa9-8a33-6c6c-6264-e53f11d0b88f"
   },
   "outputs": [
    {
     "name": "stdout",
     "output_type": "stream",
     "text": [
      "Topic #0:\n",
      "status twitter com https photo nidalgazaui sparksofirhabi video uncle samcoco markito layers thatcoffeetho middleeasteye utm afp alarabiya terror nusra source\n",
      "Topic #1:\n",
      "rt com news syria follow turkey russia usa brussels saudi fsa aircraft daesh general taking somalia op department putin base\n",
      "Topic #2:\n",
      "com twitter account suspended https utm source linkis medium social campaign true content error nytimes online talks mosul refuse thatcoffeetho\n",
      "Topic #3:\n",
      "com www facebook unsupportedbrowser youtube watch feature youtu https linkis tw error nytimes story share military refuse articles online usa\n",
      "Topic #4:\n",
      "https justpaste org youtube archive watch details news feature youtu en com nytimes wordpress error vid html world ra vice\n",
      "Topic #5:\n",
      "al qaeda nusra islam sham baghdadi ansari rai awlaki adnani asad ayn yarmouk iraqi anbar sharia new ta ra html\n",
      "Topic #6:\n",
      "killed injured airstrike leader victims people western million civilians british muslims jihadi www police cnn airstrikes politics libya net middleeasteye\n",
      "Topic #7:\n",
      "http www com news utm html world article uk source islamic reuters syria state medium net campaign east nytimes error\n",
      "Topic #8:\n",
      "isis html world uk nytimes error pro fight www cnn anti com new libya jihadi politics refuse story leader share\n",
      "Topic #9:\n",
      "army iraq syrian html wanted target soldiers iraqi operation www march release mosul israeli cnn politics articles russian twitter hours\n",
      "\n"
     ]
    }
   ],
   "source": [
    "fanboy_feature_names = fc_vectorizer.get_feature_names()\n",
    "print_top_words(fanboy_nmf, fanboy_feature_names, n_top_words)"
   ]
  },
  {
   "cell_type": "code",
   "execution_count": 19,
   "metadata": {
    "_cell_guid": "cd487529-8fbc-dfbd-d2ba-eaa8cd903e26"
   },
   "outputs": [],
   "source": [
    "about_nmf = NMF(n_components=n_topics, random_state=1, alpha=.1, l1_ratio=.5).fit(about_counts)"
   ]
  },
  {
   "cell_type": "markdown",
   "metadata": {
    "_cell_guid": "a9c4547d-b046-e9f8-6f5b-c889db6ab28c"
   },
   "source": [
    "#### **Topics in articles about ISIS are much more generic (and ofter contain references to newspapers or websites/applications like Topic 2 or Topic 3). More specific topics focus more on the victims of terrorism (Topics 5 and 8) , or terrorism in general (Topic 7)**"
   ]
  },
  {
   "cell_type": "code",
   "execution_count": 20,
   "metadata": {
    "_cell_guid": "4674e170-ff31-3ffe-2a72-1a02cf5e9b3c"
   },
   "outputs": [
    {
     "name": "stdout",
     "output_type": "stream",
     "text": [
      "Topic #0:\n",
      "isis www utm dailymail org asia com washingtonpost cnn pokemon war article claimed time extremists gives battles game anti double\n",
      "Topic #1:\n",
      "rt actualidad com estado islamico futbolistas www international incirlik hulk news usa troops fight iranian russia airbase iraq daesh turkey\n",
      "Topic #2:\n",
      "http com www html iraq cnn mosul article index middleeast nytimes utm baghdad en daesh fb politics news asia carter\n",
      "Topic #3:\n",
      "com twitter pic status user utm id intent yjsh agm orlfvpz medium source pu campaign news theverge social content photo\n",
      "Topic #4:\n",
      "https com status user www washingtonpost id intent wp worst days worldviews alleged story turkey extremists security ce game aa\n",
      "Topic #5:\n",
      "muslim lives suicide man hundreds saves explosion wearing vest hugs armed militant indiatimes html news com india world firstpost wordpress\n",
      "Topic #6:\n",
      "news world www attack uk html east middle probably cares independent http weeks deadly washingtonpost dailymail worst days wp article\n",
      "Topic #7:\n",
      "islamic state africa south india anti com www terrorists bangladesh groups recruitment key hold defectors countering org beheads breitbart jihad\n",
      "Topic #8:\n",
      "islam pro anti el mocking raqqa executioner syrian futbol stronghold murder por decapito va contra man dailymail article uk http\n",
      "Topic #9:\n",
      "muslims non war html story uk terrorism politics british counter home travel police syria ramzan shooting orlando badr hyderabad prophet\n",
      "\n"
     ]
    }
   ],
   "source": [
    "about_feature_names = ac_vectorizer.get_feature_names()\n",
    "print_top_words(about_nmf, about_feature_names, n_top_words)"
   ]
  }
 ],
 "metadata": {
  "_change_revision": 287,
  "_is_fork": false,
  "kernelspec": {
   "display_name": "Python 3",
   "language": "python",
   "name": "python3"
  },
  "language_info": {
   "codemirror_mode": {
    "name": "ipython",
    "version": 3
   },
   "file_extension": ".py",
   "mimetype": "text/x-python",
   "name": "python",
   "nbconvert_exporter": "python",
   "pygments_lexer": "ipython3",
   "version": "3.5.2"
  }
 },
 "nbformat": 4,
 "nbformat_minor": 0
}
