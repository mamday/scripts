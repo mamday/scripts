﻿{
 "metadata": {
  "kernelspec": {
   "display_name": "Python 3",
   "language": "python",
   "name": "python3"
  },
  "language_info": {
   "codemirror_mode": {
    "name": "ipython",
    "version": 3
   },
   "file_extension": ".py",
   "mimetype": "text/x-python",
   "name": "python",
   "nbconvert_exporter": "python",
   "pygments_lexer": "ipython3",
   "version": "3.5.2"
  }
 },
 "nbformat": 4,
 "nbformat_minor": 0,
 "cells": [
  {
   "cell_type": "markdown",
   "source": "### Analyzing graph of relationships between username and twitter handles used in tweets for both tweets about ISIS and for the ISIS fanboys. Find that the most central Twitter handle for the ISIS fanboys by far is someone called 'Uncle_SamCoco', followed by 'RamiAlLolah', 'WarReporter1','MaghrabiArabi' and 'mobi_ayubi'",
   "metadata": {}
  },
  {
   "cell_type": "code",
   "source": "# This Python 3 environment comes with many helpful analytics libraries installed\n# It is defined by the kaggle/python docker image: https://github.com/kaggle/docker-python\n# For example, here's several helpful packages to load in \n\nimport numpy as np # linear algebra\nimport pandas as pd # data processing, CSV file I/O (e.g. pd.read_csv)\nimport seaborn as sns\nimport matplotlib\nfrom matplotlib import *\n%matplotlib inline\n# Input data files are available in the \"../input/\" directory.\n# For example, running this (by clicking run or pressing Shift+Enter) will list the files in the input directory\n\nfrom subprocess import check_output\nprint(check_output([\"ls\", \"../input\"]).decode(\"utf8\"))\n\n# Any results you write to the current directory are saved as output.",
   "execution_count": null,
   "outputs": [],
   "metadata": {}
  },
  {
   "cell_type": "code",
   "source": "about_data = pd.read_csv('../input/AboutIsis.csv',encoding = \"ISO-8859-1\")\nfanboy_data = pd.read_csv('../input/IsisFanboy.csv',encoding = \"ISO-8859-1\")",
   "execution_count": null,
   "outputs": [],
   "metadata": {}
  },
  {
   "cell_type": "code",
   "source": "about_data.keys()",
   "execution_count": null,
   "outputs": [],
   "metadata": {}
  },
  {
   "cell_type": "code",
   "source": "fanboy_space_split = [str(i).split() for i in fanboy_data['tweets']]\nfanboy_handles = [j for i in fanboy_space_split for j in i if '@' in j]\nabout_space_split = [str(i).split() for i in about_data['tweets']]\nabout_handles = [j for i in about_space_split for j in i if '@' in j]",
   "execution_count": null,
   "outputs": [],
   "metadata": {}
  },
  {
   "cell_type": "code",
   "source": "print(len(set(fanboy_data['username']))/len(set(fanboy_handles)),\n      len(set(about_data['username']))/len(set(about_handles)))",
   "execution_count": null,
   "outputs": [],
   "metadata": {}
  },
  {
   "cell_type": "code",
   "source": "import networkx as nx",
   "execution_count": null,
   "outputs": [],
   "metadata": {}
  },
  {
   "cell_type": "code",
   "source": "fanboy_edges = [(k,j[1:]) for k,i in zip(fanboy_data['username'],fanboy_space_split) for j in i if '@' in j]\nabout_edges = [(k,j[1:]) for k,i in zip(about_data['username'],about_space_split) for j in i if '@' in j]",
   "execution_count": null,
   "outputs": [],
   "metadata": {}
  },
  {
   "cell_type": "code",
   "source": "about_graph = nx.Graph()\nfanboy_graph = nx.Graph()",
   "execution_count": null,
   "outputs": [],
   "metadata": {}
  },
  {
   "cell_type": "code",
   "source": "about_graph.add_edges_from(about_edges)\nfanboy_graph.add_edges_from(fanboy_edges)",
   "execution_count": null,
   "outputs": [],
   "metadata": {}
  },
  {
   "cell_type": "code",
   "source": "print(1/(float(fanboy_graph.order())/float(fanboy_graph.size())))\nprint(1/(float(about_graph.order())/float(about_graph.size())))",
   "execution_count": null,
   "outputs": [],
   "metadata": {}
  },
  {
   "cell_type": "code",
   "source": "fanboy_cc = nx.connected_component_subgraphs(fanboy_graph)\nbet_cen = nx.betweenness_centrality([i for i in fanboy_cc][0])",
   "execution_count": null,
   "outputs": [],
   "metadata": {}
  },
  {
   "cell_type": "code",
   "source": "fanboy_cc = nx.connected_component_subgraphs(fanboy_graph)\nclo_cen = nx.closeness_centrality([i for i in fanboy_cc][0])",
   "execution_count": null,
   "outputs": [],
   "metadata": {}
  },
  {
   "cell_type": "code",
   "source": "fig, ax = matplotlib.pyplot.subplots()\nax.scatter(list(clo_cen.values()),list(bet_cen.values()))\nax.set_ylim(0.04,0.3)\nax.set_xlim(0.32,0.45)\nax.set_xlabel(\"Closeness Centrality\")\nax.set_ylabel(\"Betweenness Centrality\")\nax.set_yscale('log')\nfor i, txt in enumerate(list(clo_cen.keys())):\n    ax.annotate(txt, (list(clo_cen.values())[i],list(bet_cen.values())[i]))",
   "execution_count": null,
   "outputs": [],
   "metadata": {}
  },
  {
   "cell_type": "code",
   "source": "import re\nfanboy_text = [re.sub(\"[^a-zA-Z]\",\" \",j).lower() for i in fanboy_space_split for j in i if (not('@' in j) and not('#' in j))]\nabout_text = [re.sub(\"[^a-zA-Z]\",\" \",j).lower() for i in about_space_split for j in i if (not('@' in j) and not('#' in j))]",
   "execution_count": null,
   "outputs": [],
   "metadata": {}
  },
  {
   "cell_type": "code",
   "source": "from sklearn.feature_extraction.text import CountVectorizer\nfc_vectorizer = CountVectorizer(stop_words='english',max_features=1000)\nfanboy_counts = fc_vectorizer.fit_transform(fanboy_text).toarray()\nac_vectorizer = CountVectorizer(stop_words='english',max_features=1000)\nabout_counts = ac_vectorizer.fit_transform(about_text).toarray()",
   "execution_count": null,
   "outputs": [],
   "metadata": {}
  },
  {
   "cell_type": "code",
   "source": "#fc_freq = list(fc_vectorizer.vocabulary_.values())\n#ac_freq = list(ac_vectorizer.vocabulary_.values())\n#fc_vocab = list(fc_vectorizer.vocabulary_.keys())\n#ac_vocab = list(ac_vectorizer.vocabulary_.keys())\n#fanboy_freq_text = []\n#about_freq_text = []\n#for i in range(1000):\n#    fanboy_freq_text+=fc_freq[i]*[fc_vocab[i]]\n#    about_freq_text+=ac_freq[i]*[ac_vocab[i]]",
   "execution_count": null,
   "outputs": [],
   "metadata": {}
  },
  {
   "cell_type": "code",
   "source": "#from sklearn.feature_extraction.text import TfidfVectorizer\n#fanboy_vectorizer = TfidfVectorizer(min_df=1)\n#fanboy_tfidf = fanboy_vectorizer.fit_transform(fanboy_text)\n#about_vectorizer = TfidfVectorizer(min_df=1)\n#about_tfidf = about_vectorizer.fit_transform(about_text)",
   "execution_count": null,
   "outputs": [],
   "metadata": {}
  },
  {
   "cell_type": "code",
   "source": "#print(fanboy_tfidf)",
   "execution_count": null,
   "outputs": [],
   "metadata": {}
  },
  {
   "cell_type": "code",
   "source": "def print_top_words(model, feature_names, n_top_words):\n    for topic_idx, topic in enumerate(model.components_):\n        print(\"Topic #%d:\" % topic_idx)\n        print(\" \".join([feature_names[i]\n                        for i in topic.argsort()[:-n_top_words - 1:-1]]))\n    print()",
   "execution_count": null,
   "outputs": [],
   "metadata": {}
  },
  {
   "cell_type": "code",
   "source": "from sklearn.decomposition import NMF\nn_samples = 2000\nn_features = 1000\nn_topics = 10\nn_top_words = 20\nfanboy_nmf = NMF(n_components=n_topics, random_state=1, alpha=.1, l1_ratio=.5).fit(fanboy_counts)\nabout_nmf = NMF(n_components=n_topics, random_state=1, alpha=.1, l1_ratio=.5).fit(about_counts)",
   "execution_count": null,
   "outputs": [],
   "metadata": {}
  },
  {
   "cell_type": "code",
   "source": "fanboy_feature_names = fc_vectorizer.get_feature_names()\nprint_top_words(fanboy_nmf, fanboy_feature_names, n_top_words)",
   "execution_count": null,
   "outputs": [],
   "metadata": {}
  },
  {
   "cell_type": "code",
   "source": "about_feature_names = ac_vectorizer.get_feature_names()\nprint_top_words(about_nmf, about_feature_names, n_top_words)",
   "execution_count": null,
   "outputs": [],
   "metadata": {}
  }
 ]
}