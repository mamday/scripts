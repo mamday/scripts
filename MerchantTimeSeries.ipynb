{
 "cells": [
  {
   "cell_type": "markdown",
   "metadata": {},
   "source": [
    "#### Data Description: The dataset has future merchant transaction activity, up to 1 year for each merchant, for merchants that start over a 1 year period (2015-2016). Although the data is made up, you can consider this to be a random sample of future merchants. Each observation is a transaction amount. The dataset contains each of these merchants’ 1st year of life, so it contains their 1st charge through all charges up until 365 days later. If the merchant stops processing transactions, then they would no longer appear. "
   ]
  },
  {
   "cell_type": "markdown",
   "metadata": {},
   "source": [
    "### How would you propose segmenting these users in ways that can be useful for Sales, Product, and other teams?"
   ]
  },
  {
   "cell_type": "markdown",
   "metadata": {},
   "source": [
    "#### Initially I investigated first few merchants. I saw that variability in number of days of data was high, with potential gaps. Sale variability was also high, with significant outliers. Therefore I cleaned the data, removing days with 2 sigma outliers. \n",
    "#### With the remaining data I report on statistics like the maximum sales, minimum sales, mean sales, the variance in the number of sales, and the number of days where transactions took place (as well as all possible days in the range). This data can be used to segment companies into categories like long term and short term customers, high vs low number of transactions, high vs low mean sales, and stability, among others.\n",
    "### Actionable Insight: The vast majority of merchants use the service for fewer than 10 days and have fewer than 50 transactions. Most users also have average transactions of a few hundred dollars and a maximum transaction of a few thousand dollars. Since the smaller transaction users dominate, and most users do not use the service long, some Sales segments should focus on retaining users longer, and other segments should focus on maximizing the number of users who have the largest average transactions."
   ]
  },
  {
   "cell_type": "markdown",
   "metadata": {},
   "source": [
    "### In particular, how would you identify and predict high growth merchants?"
   ]
  },
  {
   "cell_type": "markdown",
   "metadata": {},
   "source": [
    "#### In order to evaluate trends in the sales over time, first I need to clean the data again. Daily (or in some cases hourly!) fluctuations are too noisy and can lead to overtrained models. Therefore I downsample the data so that I have weekly datapoints instead. \n",
    "#### By investigating the first few merchants, I see that the simplest method of measuring growth (fitting a line) could be dangerous. For example, the first company has a generally upward trend. However the profit trend in the most recent months is predominately downward. Instead I use a second order spline to make predictions about the current trends for the merchant. This spline does a better job of picking up on the more recent trends that will be more indicative of a merchants current value. \n",
    "### Actionable Insight: Using a second order spline, get an even distribution of merchants that are projected to perform well and merchants that are projected to perform poorly for data with sufficient data points. \n",
    "\n",
    "#### Note: Since many of the datasets have too few data points to be fitted with the spline, get a peak at zero (where the linear interpolation returns the previous value of the data point). Additional analysis of these poorly performing fits should be done, but is outside the scope of this challenge."
   ]
  },
  {
   "cell_type": "code",
   "execution_count": 1,
   "metadata": {
    "collapsed": false
   },
   "outputs": [
    {
     "name": "stderr",
     "output_type": "stream",
     "text": [
      "/usr/local/lib/python2.7/dist-packages/matplotlib/font_manager.py:273: UserWarning: Matplotlib is building the font cache using fc-list. This may take a moment.\n",
      "  warnings.warn('Matplotlib is building the font cache using fc-list. This may take a moment.')\n"
     ]
    }
   ],
   "source": [
    "import numpy\n",
    "import seaborn as sns\n",
    "import pandas as pd\n",
    "import matplotlib\n",
    "from matplotlib import *\n",
    "%matplotlib inline"
   ]
  },
  {
   "cell_type": "code",
   "execution_count": 2,
   "metadata": {
    "collapsed": true
   },
   "outputs": [],
   "source": [
    "import pandas.tseries.holiday as holis\n",
    "from pandas.tseries.holiday import *"
   ]
  },
  {
   "cell_type": "code",
   "execution_count": 3,
   "metadata": {
    "collapsed": false
   },
   "outputs": [],
   "source": [
    "holidays = holis.USFederalHolidayCalendar().holidays(start='2002-01-01', end='2015-12-31')"
   ]
  },
  {
   "cell_type": "code",
   "execution_count": 4,
   "metadata": {
    "collapsed": false
   },
   "outputs": [],
   "source": [
    "merch_trans = pd.read_csv('data/case_final.csv',parse_dates=[0,1],index_col=1)"
   ]
  },
  {
   "cell_type": "markdown",
   "metadata": {},
   "source": [
    "#### Use pandas to identify holidays and then remove holiday dates from the dataset. These days can be unpredictable for a variety of different reasons, and incorporating them into the model is outside of the scope of this challenge"
   ]
  },
  {
   "cell_type": "code",
   "execution_count": 5,
   "metadata": {
    "collapsed": false
   },
   "outputs": [],
   "source": [
    "h_bool = merch_trans.index.map(lambda x: 1 if x.date() in holidays else 0)"
   ]
  },
  {
   "cell_type": "code",
   "execution_count": 6,
   "metadata": {
    "collapsed": false
   },
   "outputs": [],
   "source": [
    "first_user = merch_trans[(merch_trans['user']=='00038f0484334ac047449166cfbbf6452b31c85c') & (h_bool==0)]"
   ]
  },
  {
   "cell_type": "code",
   "execution_count": 7,
   "metadata": {
    "collapsed": false
   },
   "outputs": [
    {
     "data": {
      "text/html": [
       "<div style=\"max-height:1000px;max-width:1500px;overflow:auto;\">\n",
       "<table border=\"1\" class=\"dataframe\">\n",
       "  <thead>\n",
       "    <tr style=\"text-align: right;\">\n",
       "      <th></th>\n",
       "      <th>user</th>\n",
       "      <th>amount_in_cents</th>\n",
       "    </tr>\n",
       "    <tr>\n",
       "      <th>time</th>\n",
       "      <th></th>\n",
       "      <th></th>\n",
       "    </tr>\n",
       "  </thead>\n",
       "  <tbody>\n",
       "    <tr>\n",
       "      <th>2016-02-19 23:39:56.925000</th>\n",
       "      <td> 00038f0484334ac047449166cfbbf6452b31c85c</td>\n",
       "      <td> 1203</td>\n",
       "    </tr>\n",
       "    <tr>\n",
       "      <th>2016-02-19 23:41:47.026000</th>\n",
       "      <td> 00038f0484334ac047449166cfbbf6452b31c85c</td>\n",
       "      <td> 1203</td>\n",
       "    </tr>\n",
       "    <tr>\n",
       "      <th>2016-02-23 15:19:54.836000</th>\n",
       "      <td> 00038f0484334ac047449166cfbbf6452b31c85c</td>\n",
       "      <td> 2405</td>\n",
       "    </tr>\n",
       "    <tr>\n",
       "      <th>2016-02-23 15:21:08.273000</th>\n",
       "      <td> 00038f0484334ac047449166cfbbf6452b31c85c</td>\n",
       "      <td> 2405</td>\n",
       "    </tr>\n",
       "    <tr>\n",
       "      <th>2016-02-24 15:19:39.386000</th>\n",
       "      <td> 00038f0484334ac047449166cfbbf6452b31c85c</td>\n",
       "      <td> 1203</td>\n",
       "    </tr>\n",
       "  </tbody>\n",
       "</table>\n",
       "</div>"
      ],
      "text/plain": [
       "                                                                user  \\\n",
       "time                                                                   \n",
       "2016-02-19 23:39:56.925000  00038f0484334ac047449166cfbbf6452b31c85c   \n",
       "2016-02-19 23:41:47.026000  00038f0484334ac047449166cfbbf6452b31c85c   \n",
       "2016-02-23 15:19:54.836000  00038f0484334ac047449166cfbbf6452b31c85c   \n",
       "2016-02-23 15:21:08.273000  00038f0484334ac047449166cfbbf6452b31c85c   \n",
       "2016-02-24 15:19:39.386000  00038f0484334ac047449166cfbbf6452b31c85c   \n",
       "\n",
       "                            amount_in_cents  \n",
       "time                                         \n",
       "2016-02-19 23:39:56.925000             1203  \n",
       "2016-02-19 23:41:47.026000             1203  \n",
       "2016-02-23 15:19:54.836000             2405  \n",
       "2016-02-23 15:21:08.273000             2405  \n",
       "2016-02-24 15:19:39.386000             1203  "
      ]
     },
     "execution_count": 7,
     "metadata": {},
     "output_type": "execute_result"
    }
   ],
   "source": [
    "first_user.head()"
   ]
  },
  {
   "cell_type": "markdown",
   "metadata": {},
   "source": [
    "#### Select and examine data from the first user in the list. My initial impression of the data is that it varies rapidly (a lot of datapoints), which will cause problems for a model, and has visible outliers"
   ]
  },
  {
   "cell_type": "code",
   "execution_count": 8,
   "metadata": {
    "collapsed": false
   },
   "outputs": [
    {
     "data": {
      "text/plain": [
       "<matplotlib.axes._subplots.AxesSubplot at 0x7f78e62fa490>"
      ]
     },
     "execution_count": 8,
     "metadata": {},
     "output_type": "execute_result"
    },
    {
     "data": {
      "image/png": "[encoded data removed]",
      "text/plain": [
       "<matplotlib.figure.Figure at 0x7f78e62fa4d0>"
      ]
     },
     "metadata": {},
     "output_type": "display_data"
    }
   ],
   "source": [
    "first_user.amount_in_cents.plot(grid=True)"
   ]
  },
  {
   "cell_type": "code",
   "execution_count": 9,
   "metadata": {
    "collapsed": false
   },
   "outputs": [
    {
     "name": "stdout",
     "output_type": "stream",
     "text": [
      "310\n"
     ]
    }
   ],
   "source": [
    "print len(first_user)"
   ]
  },
  {
   "cell_type": "code",
   "execution_count": 10,
   "metadata": {
    "collapsed": true
   },
   "outputs": [],
   "source": [
    "first_stats = first_user.describe(percentiles=[0.0005,.025,.16,.84,.975,.9995])"
   ]
  },
  {
   "cell_type": "markdown",
   "metadata": {},
   "source": [
    "#### Use pandas describe() method to get information about the underlying statistics of the dataset"
   ]
  },
  {
   "cell_type": "code",
   "execution_count": 11,
   "metadata": {
    "collapsed": false
   },
   "outputs": [
    {
     "data": {
      "text/html": [
       "<div style=\"max-height:1000px;max-width:1500px;overflow:auto;\">\n",
       "<table border=\"1\" class=\"dataframe\">\n",
       "  <thead>\n",
       "    <tr style=\"text-align: right;\">\n",
       "      <th></th>\n",
       "      <th>amount_in_cents</th>\n",
       "    </tr>\n",
       "  </thead>\n",
       "  <tbody>\n",
       "    <tr>\n",
       "      <th>count</th>\n",
       "      <td>   310.000000</td>\n",
       "    </tr>\n",
       "    <tr>\n",
       "      <th>mean</th>\n",
       "      <td>  3159.106452</td>\n",
       "    </tr>\n",
       "    <tr>\n",
       "      <th>std</th>\n",
       "      <td>  2734.172656</td>\n",
       "    </tr>\n",
       "    <tr>\n",
       "      <th>min</th>\n",
       "      <td>   241.000000</td>\n",
       "    </tr>\n",
       "    <tr>\n",
       "      <th>0.1%</th>\n",
       "      <td>   241.000000</td>\n",
       "    </tr>\n",
       "    <tr>\n",
       "      <th>2.5%</th>\n",
       "      <td>   722.000000</td>\n",
       "    </tr>\n",
       "    <tr>\n",
       "      <th>16%</th>\n",
       "      <td>  1203.000000</td>\n",
       "    </tr>\n",
       "    <tr>\n",
       "      <th>50%</th>\n",
       "      <td>  2405.000000</td>\n",
       "    </tr>\n",
       "    <tr>\n",
       "      <th>84%</th>\n",
       "      <td>  5358.760000</td>\n",
       "    </tr>\n",
       "    <tr>\n",
       "      <th>97.5%</th>\n",
       "      <td> 11491.000000</td>\n",
       "    </tr>\n",
       "    <tr>\n",
       "      <th>100.0%</th>\n",
       "      <td> 22379.846500</td>\n",
       "    </tr>\n",
       "    <tr>\n",
       "      <th>max</th>\n",
       "      <td> 24052.000000</td>\n",
       "    </tr>\n",
       "  </tbody>\n",
       "</table>\n",
       "</div>"
      ],
      "text/plain": [
       "        amount_in_cents\n",
       "count        310.000000\n",
       "mean        3159.106452\n",
       "std         2734.172656\n",
       "min          241.000000\n",
       "0.1%         241.000000\n",
       "2.5%         722.000000\n",
       "16%         1203.000000\n",
       "50%         2405.000000\n",
       "84%         5358.760000\n",
       "97.5%      11491.000000\n",
       "100.0%     22379.846500\n",
       "max        24052.000000"
      ]
     },
     "execution_count": 11,
     "metadata": {},
     "output_type": "execute_result"
    }
   ],
   "source": [
    "first_stats"
   ]
  },
  {
   "cell_type": "markdown",
   "metadata": {},
   "source": [
    "#### Use numpy to efficiently select the values of the 97.5 and 2.5% quantiles. I then use these values to exclude 2 sigma outliers from the sample"
   ]
  },
  {
   "cell_type": "code",
   "execution_count": 12,
   "metadata": {
    "collapsed": false
   },
   "outputs": [],
   "source": [
    "h_2sig = numpy.percentile(first_user.amount_in_cents,97.5)\n",
    "l_2sig = numpy.percentile(first_user.amount_in_cents,2.5)"
   ]
  },
  {
   "cell_type": "code",
   "execution_count": 13,
   "metadata": {
    "collapsed": false
   },
   "outputs": [
    {
     "name": "stdout",
     "output_type": "stream",
     "text": [
      "11491.0 722.0\n"
     ]
    }
   ],
   "source": [
    "print h_2sig,l_2sig"
   ]
  },
  {
   "cell_type": "code",
   "execution_count": 14,
   "metadata": {
    "collapsed": false
   },
   "outputs": [
    {
     "data": {
      "text/plain": [
       "(8, 5)"
      ]
     },
     "execution_count": 14,
     "metadata": {},
     "output_type": "execute_result"
    }
   ],
   "source": [
    "len(first_user[first_user.amount_in_cents>h_2sig]),len(first_user[first_user.amount_in_cents<l_2sig])"
   ]
  },
  {
   "cell_type": "code",
   "execution_count": 15,
   "metadata": {
    "collapsed": true
   },
   "outputs": [],
   "source": [
    "first_user = first_user[(first_user.amount_in_cents<=h_2sig) & (first_user.amount_in_cents>=l_2sig)]"
   ]
  },
  {
   "cell_type": "code",
   "execution_count": 16,
   "metadata": {
    "collapsed": false
   },
   "outputs": [
    {
     "name": "stdout",
     "output_type": "stream",
     "text": [
      "297\n"
     ]
    }
   ],
   "source": [
    "print len(first_user)"
   ]
  },
  {
   "cell_type": "markdown",
   "metadata": {},
   "source": [
    "#### After removing outliers dataset has a much more reasonable range of values, but still too many datapoints"
   ]
  },
  {
   "cell_type": "code",
   "execution_count": 17,
   "metadata": {
    "collapsed": false
   },
   "outputs": [
    {
     "data": {
      "text/plain": [
       "<matplotlib.axes._subplots.AxesSubplot at 0x7f78e351a710>"
      ]
     },
     "execution_count": 17,
     "metadata": {},
     "output_type": "execute_result"
    },
    {
     "data": {
      "image/png": "[encoded data removed]",
      "text/plain": [
       "<matplotlib.figure.Figure at 0x7f78e350f350>"
      ]
     },
     "metadata": {},
     "output_type": "display_data"
    }
   ],
   "source": [
    "first_user.amount_in_cents.plot(grid=True)"
   ]
  },
  {
   "cell_type": "code",
   "execution_count": 18,
   "metadata": {
    "collapsed": true
   },
   "outputs": [],
   "source": [
    "first_stats = first_user.describe(percentiles=[0.0005,.025,.16,.84,.975,.9995])"
   ]
  },
  {
   "cell_type": "code",
   "execution_count": 19,
   "metadata": {
    "collapsed": false
   },
   "outputs": [
    {
     "data": {
      "text/html": [
       "<div style=\"max-height:1000px;max-width:1500px;overflow:auto;\">\n",
       "<table border=\"1\" class=\"dataframe\">\n",
       "  <thead>\n",
       "    <tr style=\"text-align: right;\">\n",
       "      <th></th>\n",
       "      <th>amount_in_cents</th>\n",
       "    </tr>\n",
       "  </thead>\n",
       "  <tbody>\n",
       "    <tr>\n",
       "      <th>count</th>\n",
       "      <td>   297.000000</td>\n",
       "    </tr>\n",
       "    <tr>\n",
       "      <th>mean</th>\n",
       "      <td>  2913.925926</td>\n",
       "    </tr>\n",
       "    <tr>\n",
       "      <th>std</th>\n",
       "      <td>  2014.443068</td>\n",
       "    </tr>\n",
       "    <tr>\n",
       "      <th>min</th>\n",
       "      <td>   722.000000</td>\n",
       "    </tr>\n",
       "    <tr>\n",
       "      <th>0.1%</th>\n",
       "      <td>   722.000000</td>\n",
       "    </tr>\n",
       "    <tr>\n",
       "      <th>2.5%</th>\n",
       "      <td>   842.000000</td>\n",
       "    </tr>\n",
       "    <tr>\n",
       "      <th>16%</th>\n",
       "      <td>  1203.000000</td>\n",
       "    </tr>\n",
       "    <tr>\n",
       "      <th>50%</th>\n",
       "      <td>  2405.000000</td>\n",
       "    </tr>\n",
       "    <tr>\n",
       "      <th>84%</th>\n",
       "      <td>  4766.800000</td>\n",
       "    </tr>\n",
       "    <tr>\n",
       "      <th>97.5%</th>\n",
       "      <td>  8562.600000</td>\n",
       "    </tr>\n",
       "    <tr>\n",
       "      <th>100.0%</th>\n",
       "      <td> 11335.904000</td>\n",
       "    </tr>\n",
       "    <tr>\n",
       "      <th>max</th>\n",
       "      <td> 11425.000000</td>\n",
       "    </tr>\n",
       "  </tbody>\n",
       "</table>\n",
       "</div>"
      ],
      "text/plain": [
       "        amount_in_cents\n",
       "count        297.000000\n",
       "mean        2913.925926\n",
       "std         2014.443068\n",
       "min          722.000000\n",
       "0.1%         722.000000\n",
       "2.5%         842.000000\n",
       "16%         1203.000000\n",
       "50%         2405.000000\n",
       "84%         4766.800000\n",
       "97.5%       8562.600000\n",
       "100.0%     11335.904000\n",
       "max        11425.000000"
      ]
     },
     "execution_count": 19,
     "metadata": {},
     "output_type": "execute_result"
    }
   ],
   "source": [
    "first_stats"
   ]
  },
  {
   "cell_type": "markdown",
   "metadata": {},
   "source": [
    "#### Resample the data by week in order to get a manageable amount of information for fitting "
   ]
  },
  {
   "cell_type": "code",
   "execution_count": 20,
   "metadata": {
    "collapsed": false
   },
   "outputs": [],
   "source": [
    "u1_frame = pd.DataFrame()\n",
    "u1_frame['weekly'] = first_user.amount_in_cents.resample('W')"
   ]
  },
  {
   "cell_type": "code",
   "execution_count": 21,
   "metadata": {
    "collapsed": false
   },
   "outputs": [
    {
     "data": {
      "text/html": [
       "<div style=\"max-height:1000px;max-width:1500px;overflow:auto;\">\n",
       "<table border=\"1\" class=\"dataframe\">\n",
       "  <thead>\n",
       "    <tr style=\"text-align: right;\">\n",
       "      <th></th>\n",
       "      <th>weekly</th>\n",
       "    </tr>\n",
       "    <tr>\n",
       "      <th>time</th>\n",
       "      <th></th>\n",
       "    </tr>\n",
       "  </thead>\n",
       "  <tbody>\n",
       "    <tr>\n",
       "      <th>2016-02-21</th>\n",
       "      <td> 1203.000000</td>\n",
       "    </tr>\n",
       "    <tr>\n",
       "      <th>2016-02-28</th>\n",
       "      <td> 2037.125000</td>\n",
       "    </tr>\n",
       "    <tr>\n",
       "      <th>2016-03-06</th>\n",
       "      <td> 2696.419355</td>\n",
       "    </tr>\n",
       "    <tr>\n",
       "      <th>2016-03-13</th>\n",
       "      <td> 2500.473684</td>\n",
       "    </tr>\n",
       "    <tr>\n",
       "      <th>2016-03-20</th>\n",
       "      <td> 2029.750000</td>\n",
       "    </tr>\n",
       "    <tr>\n",
       "      <th>2016-03-27</th>\n",
       "      <td> 2313.000000</td>\n",
       "    </tr>\n",
       "    <tr>\n",
       "      <th>2016-04-03</th>\n",
       "      <td> 1804.333333</td>\n",
       "    </tr>\n",
       "    <tr>\n",
       "      <th>2016-04-10</th>\n",
       "      <td> 3007.000000</td>\n",
       "    </tr>\n",
       "    <tr>\n",
       "      <th>2016-04-17</th>\n",
       "      <td> 3407.731343</td>\n",
       "    </tr>\n",
       "    <tr>\n",
       "      <th>2016-04-24</th>\n",
       "      <td> 2997.666667</td>\n",
       "    </tr>\n",
       "    <tr>\n",
       "      <th>2016-05-01</th>\n",
       "      <td> 2766.043478</td>\n",
       "    </tr>\n",
       "    <tr>\n",
       "      <th>2016-05-08</th>\n",
       "      <td> 2345.125000</td>\n",
       "    </tr>\n",
       "  </tbody>\n",
       "</table>\n",
       "</div>"
      ],
      "text/plain": [
       "                 weekly\n",
       "time                   \n",
       "2016-02-21  1203.000000\n",
       "2016-02-28  2037.125000\n",
       "2016-03-06  2696.419355\n",
       "2016-03-13  2500.473684\n",
       "2016-03-20  2029.750000\n",
       "2016-03-27  2313.000000\n",
       "2016-04-03  1804.333333\n",
       "2016-04-10  3007.000000\n",
       "2016-04-17  3407.731343\n",
       "2016-04-24  2997.666667\n",
       "2016-05-01  2766.043478\n",
       "2016-05-08  2345.125000"
      ]
     },
     "execution_count": 21,
     "metadata": {},
     "output_type": "execute_result"
    }
   ],
   "source": [
    "u1_frame"
   ]
  },
  {
   "cell_type": "markdown",
   "metadata": {},
   "source": [
    "#### Add a date one week after the last data point in the set, then use a second order spline to interpolate the future transaction value for the merchant during that week"
   ]
  },
  {
   "cell_type": "code",
   "execution_count": 22,
   "metadata": {
    "collapsed": false
   },
   "outputs": [],
   "source": [
    "from datetime import timedelta\n",
    "proj_week = u1_frame.index[-1]+timedelta(days=7)\n",
    "proj_frame = pd.DataFrame([numpy.nan],columns=['weekly'],index=[proj_week])\n",
    "u1_frame = u1_frame.append(proj_frame)"
   ]
  },
  {
   "cell_type": "code",
   "execution_count": 23,
   "metadata": {
    "collapsed": false
   },
   "outputs": [],
   "source": [
    "u1_frame = u1_frame.apply(pd.Series.interpolate,method='spline',order=2)"
   ]
  },
  {
   "cell_type": "code",
   "execution_count": 24,
   "metadata": {
    "collapsed": false
   },
   "outputs": [
    {
     "data": {
      "text/html": [
       "<div style=\"max-height:1000px;max-width:1500px;overflow:auto;\">\n",
       "<table border=\"1\" class=\"dataframe\">\n",
       "  <thead>\n",
       "    <tr style=\"text-align: right;\">\n",
       "      <th></th>\n",
       "      <th>weekly</th>\n",
       "    </tr>\n",
       "  </thead>\n",
       "  <tbody>\n",
       "    <tr>\n",
       "      <th>2016-02-21</th>\n",
       "      <td> 1203.000000</td>\n",
       "    </tr>\n",
       "    <tr>\n",
       "      <th>2016-02-28</th>\n",
       "      <td> 2037.125000</td>\n",
       "    </tr>\n",
       "    <tr>\n",
       "      <th>2016-03-06</th>\n",
       "      <td> 2696.419355</td>\n",
       "    </tr>\n",
       "    <tr>\n",
       "      <th>2016-03-13</th>\n",
       "      <td> 2500.473684</td>\n",
       "    </tr>\n",
       "    <tr>\n",
       "      <th>2016-03-20</th>\n",
       "      <td> 2029.750000</td>\n",
       "    </tr>\n",
       "    <tr>\n",
       "      <th>2016-03-27</th>\n",
       "      <td> 2313.000000</td>\n",
       "    </tr>\n",
       "    <tr>\n",
       "      <th>2016-04-03</th>\n",
       "      <td> 1804.333333</td>\n",
       "    </tr>\n",
       "    <tr>\n",
       "      <th>2016-04-10</th>\n",
       "      <td> 3007.000000</td>\n",
       "    </tr>\n",
       "    <tr>\n",
       "      <th>2016-04-17</th>\n",
       "      <td> 3407.731343</td>\n",
       "    </tr>\n",
       "    <tr>\n",
       "      <th>2016-04-24</th>\n",
       "      <td> 2997.666667</td>\n",
       "    </tr>\n",
       "    <tr>\n",
       "      <th>2016-05-01</th>\n",
       "      <td> 2766.043478</td>\n",
       "    </tr>\n",
       "    <tr>\n",
       "      <th>2016-05-08</th>\n",
       "      <td> 2345.125000</td>\n",
       "    </tr>\n",
       "    <tr>\n",
       "      <th>2016-05-15</th>\n",
       "      <td> 1646.470458</td>\n",
       "    </tr>\n",
       "  </tbody>\n",
       "</table>\n",
       "</div>"
      ],
      "text/plain": [
       "                 weekly\n",
       "2016-02-21  1203.000000\n",
       "2016-02-28  2037.125000\n",
       "2016-03-06  2696.419355\n",
       "2016-03-13  2500.473684\n",
       "2016-03-20  2029.750000\n",
       "2016-03-27  2313.000000\n",
       "2016-04-03  1804.333333\n",
       "2016-04-10  3007.000000\n",
       "2016-04-17  3407.731343\n",
       "2016-04-24  2997.666667\n",
       "2016-05-01  2766.043478\n",
       "2016-05-08  2345.125000\n",
       "2016-05-15  1646.470458"
      ]
     },
     "execution_count": 24,
     "metadata": {},
     "output_type": "execute_result"
    }
   ],
   "source": [
    "u1_frame"
   ]
  },
  {
   "cell_type": "code",
   "execution_count": 25,
   "metadata": {
    "collapsed": false
   },
   "outputs": [],
   "source": [
    "u1_frame = u1_frame.apply(lambda x: x / numpy.max(x))"
   ]
  },
  {
   "cell_type": "markdown",
   "metadata": {},
   "source": [
    "#### See that data after downsampling to weekly datapoints is smoother and easier to interpret. Behavior of spline seems reasonable and intuitive"
   ]
  },
  {
   "cell_type": "code",
   "execution_count": 26,
   "metadata": {
    "collapsed": false
   },
   "outputs": [
    {
     "data": {
      "text/plain": [
       "<matplotlib.axes._subplots.AxesSubplot at 0x7f78e528bf10>"
      ]
     },
     "execution_count": 26,
     "metadata": {},
     "output_type": "execute_result"
    },
    {
     "data": {
      "image/png": "[encoded data removed]",
      "text/plain": [
       "<matplotlib.figure.Figure at 0x7f78e52b40d0>"
      ]
     },
     "metadata": {},
     "output_type": "display_data"
    }
   ],
   "source": [
    "u1_frame.plot(grid=True)"
   ]
  },
  {
   "cell_type": "markdown",
   "metadata": {},
   "source": [
    "#### Add information about the projected performance of the merchant (proj_diff) and the total duration of transactions (tot_days) to the pandas statistics. This information will be saved to be examined in aggregate for all merchants, with the merchant id as the column name. "
   ]
  },
  {
   "cell_type": "code",
   "execution_count": 27,
   "metadata": {
    "collapsed": false
   },
   "outputs": [],
   "source": [
    "first_stats=first_user.describe()\n",
    "proj_diff = u1_frame.weekly[-1]-u1_frame.weekly[-2]\n",
    "tot_diff = first_user.index[-1]-first_user.index[0]\n",
    "tot_days = tot_diff.days"
   ]
  },
  {
   "cell_type": "code",
   "execution_count": 28,
   "metadata": {
    "collapsed": false
   },
   "outputs": [
    {
     "name": "stdout",
     "output_type": "stream",
     "text": [
      "-0.205020429048\n"
     ]
    }
   ],
   "source": [
    "print proj_diff"
   ]
  },
  {
   "cell_type": "code",
   "execution_count": 29,
   "metadata": {
    "collapsed": true
   },
   "outputs": [],
   "source": [
    "day_frame = pd.DataFrame([tot_days],columns=['amount_in_cents'],index=['days'])\n",
    "proj_frame = pd.DataFrame([proj_diff],columns=['amount_in_cents'],index=['projection'])\n",
    "first_stats = first_stats.append(day_frame)\n",
    "first_stats = first_stats.append(proj_frame)"
   ]
  },
  {
   "cell_type": "code",
   "execution_count": 30,
   "metadata": {
    "collapsed": false
   },
   "outputs": [
    {
     "data": {
      "text/html": [
       "<div style=\"max-height:1000px;max-width:1500px;overflow:auto;\">\n",
       "<table border=\"1\" class=\"dataframe\">\n",
       "  <thead>\n",
       "    <tr style=\"text-align: right;\">\n",
       "      <th></th>\n",
       "      <th>amount_in_cents</th>\n",
       "    </tr>\n",
       "  </thead>\n",
       "  <tbody>\n",
       "    <tr>\n",
       "      <th>count</th>\n",
       "      <td>   297.000000</td>\n",
       "    </tr>\n",
       "    <tr>\n",
       "      <th>mean</th>\n",
       "      <td>  2913.925926</td>\n",
       "    </tr>\n",
       "    <tr>\n",
       "      <th>std</th>\n",
       "      <td>  2014.443068</td>\n",
       "    </tr>\n",
       "    <tr>\n",
       "      <th>min</th>\n",
       "      <td>   722.000000</td>\n",
       "    </tr>\n",
       "    <tr>\n",
       "      <th>25%</th>\n",
       "      <td>  1203.000000</td>\n",
       "    </tr>\n",
       "    <tr>\n",
       "      <th>50%</th>\n",
       "      <td>  2405.000000</td>\n",
       "    </tr>\n",
       "    <tr>\n",
       "      <th>75%</th>\n",
       "      <td>  3488.000000</td>\n",
       "    </tr>\n",
       "    <tr>\n",
       "      <th>max</th>\n",
       "      <td> 11425.000000</td>\n",
       "    </tr>\n",
       "    <tr>\n",
       "      <th>days</th>\n",
       "      <td>    78.000000</td>\n",
       "    </tr>\n",
       "    <tr>\n",
       "      <th>projection</th>\n",
       "      <td>    -0.205020</td>\n",
       "    </tr>\n",
       "  </tbody>\n",
       "</table>\n",
       "</div>"
      ],
      "text/plain": [
       "            amount_in_cents\n",
       "count            297.000000\n",
       "mean            2913.925926\n",
       "std             2014.443068\n",
       "min              722.000000\n",
       "25%             1203.000000\n",
       "50%             2405.000000\n",
       "75%             3488.000000\n",
       "max            11425.000000\n",
       "days              78.000000\n",
       "projection        -0.205020"
      ]
     },
     "execution_count": 30,
     "metadata": {},
     "output_type": "execute_result"
    }
   ],
   "source": [
    "first_stats"
   ]
  },
  {
   "cell_type": "code",
   "execution_count": 31,
   "metadata": {
    "collapsed": true
   },
   "outputs": [],
   "source": [
    "first_stats.columns = ['00038f0484334ac047449166cfbbf6452b31c85c']"
   ]
  },
  {
   "cell_type": "code",
   "execution_count": 32,
   "metadata": {
    "collapsed": false
   },
   "outputs": [
    {
     "data": {
      "text/html": [
       "<div style=\"max-height:1000px;max-width:1500px;overflow:auto;\">\n",
       "<table border=\"1\" class=\"dataframe\">\n",
       "  <thead>\n",
       "    <tr style=\"text-align: right;\">\n",
       "      <th></th>\n",
       "      <th>00038f0484334ac047449166cfbbf6452b31c85c</th>\n",
       "    </tr>\n",
       "  </thead>\n",
       "  <tbody>\n",
       "    <tr>\n",
       "      <th>count</th>\n",
       "      <td>   297.000000</td>\n",
       "    </tr>\n",
       "    <tr>\n",
       "      <th>mean</th>\n",
       "      <td>  2913.925926</td>\n",
       "    </tr>\n",
       "    <tr>\n",
       "      <th>std</th>\n",
       "      <td>  2014.443068</td>\n",
       "    </tr>\n",
       "    <tr>\n",
       "      <th>min</th>\n",
       "      <td>   722.000000</td>\n",
       "    </tr>\n",
       "    <tr>\n",
       "      <th>25%</th>\n",
       "      <td>  1203.000000</td>\n",
       "    </tr>\n",
       "    <tr>\n",
       "      <th>50%</th>\n",
       "      <td>  2405.000000</td>\n",
       "    </tr>\n",
       "    <tr>\n",
       "      <th>75%</th>\n",
       "      <td>  3488.000000</td>\n",
       "    </tr>\n",
       "    <tr>\n",
       "      <th>max</th>\n",
       "      <td> 11425.000000</td>\n",
       "    </tr>\n",
       "    <tr>\n",
       "      <th>days</th>\n",
       "      <td>    78.000000</td>\n",
       "    </tr>\n",
       "    <tr>\n",
       "      <th>projection</th>\n",
       "      <td>    -0.205020</td>\n",
       "    </tr>\n",
       "  </tbody>\n",
       "</table>\n",
       "</div>"
      ],
      "text/plain": [
       "            00038f0484334ac047449166cfbbf6452b31c85c\n",
       "count                                     297.000000\n",
       "mean                                     2913.925926\n",
       "std                                      2014.443068\n",
       "min                                       722.000000\n",
       "25%                                      1203.000000\n",
       "50%                                      2405.000000\n",
       "75%                                      3488.000000\n",
       "max                                     11425.000000\n",
       "days                                       78.000000\n",
       "projection                                 -0.205020"
      ]
     },
     "execution_count": 32,
     "metadata": {},
     "output_type": "execute_result"
    }
   ],
   "source": [
    "first_stats"
   ]
  },
  {
   "cell_type": "markdown",
   "metadata": {},
   "source": [
    "#### Store all the unique merchant IDs. See that there are 8402 unique merchants"
   ]
  },
  {
   "cell_type": "code",
   "execution_count": 33,
   "metadata": {
    "collapsed": false
   },
   "outputs": [],
   "source": [
    "users = merch_trans.user.unique()"
   ]
  },
  {
   "cell_type": "code",
   "execution_count": 34,
   "metadata": {
    "collapsed": false
   },
   "outputs": [
    {
     "name": "stdout",
     "output_type": "stream",
     "text": [
      "['00038f0484334ac047449166cfbbf6452b31c85c'\n",
      " '0012a74e2bb1ab0073b2e18532e87474b6b7cfca'\n",
      " '001855810c25d8bb03210f8c0114de27da9cd76c' ...,\n",
      " 'ffe4880511ffadf79ec49d7ee03ce445f8f1bd7e'\n",
      " 'ffe54ded2eb34c35ed8e74e8a2961d30e4b1515e'\n",
      " 'ffe986bb5a18d164ed9b1cc4e1c07016d396a2c2'] 8402\n"
     ]
    }
   ],
   "source": [
    "print users,len(users)"
   ]
  },
  {
   "cell_type": "markdown",
   "metadata": {},
   "source": [
    "#### Investigate the second user. Because of the sparsity of data for this user (only two datapoints), removing outliers is not possible. Also a second order spline cannot be used. Instead a linear interpolation is used. For the generalized algorithm, datasets without at least 4 datapoints (approximately a month) will be treated like the second 'short' user, and a flag will be added to indicate that there was not enough data for a proper projection."
   ]
  },
  {
   "cell_type": "code",
   "execution_count": 35,
   "metadata": {
    "collapsed": false
   },
   "outputs": [],
   "source": [
    "short_user = merch_trans[(merch_trans['user']=='0012a74e2bb1ab0073b2e18532e87474b6b7cfca') & (h_bool==0)]"
   ]
  },
  {
   "cell_type": "code",
   "execution_count": 36,
   "metadata": {
    "collapsed": true
   },
   "outputs": [],
   "source": [
    "short_stats = short_user.describe(percentiles=[0.0005,.025,.16,.84,.975,.9995])"
   ]
  },
  {
   "cell_type": "code",
   "execution_count": 37,
   "metadata": {
    "collapsed": false
   },
   "outputs": [
    {
     "data": {
      "text/html": [
       "<div style=\"max-height:1000px;max-width:1500px;overflow:auto;\">\n",
       "<table border=\"1\" class=\"dataframe\">\n",
       "  <thead>\n",
       "    <tr style=\"text-align: right;\">\n",
       "      <th></th>\n",
       "      <th>amount_in_cents</th>\n",
       "    </tr>\n",
       "  </thead>\n",
       "  <tbody>\n",
       "    <tr>\n",
       "      <th>count</th>\n",
       "      <td>    2.000000</td>\n",
       "    </tr>\n",
       "    <tr>\n",
       "      <th>mean</th>\n",
       "      <td> 4570.000000</td>\n",
       "    </tr>\n",
       "    <tr>\n",
       "      <th>std</th>\n",
       "      <td> 1871.004543</td>\n",
       "    </tr>\n",
       "    <tr>\n",
       "      <th>min</th>\n",
       "      <td> 3247.000000</td>\n",
       "    </tr>\n",
       "    <tr>\n",
       "      <th>0.1%</th>\n",
       "      <td> 3248.323000</td>\n",
       "    </tr>\n",
       "    <tr>\n",
       "      <th>2.5%</th>\n",
       "      <td> 3313.150000</td>\n",
       "    </tr>\n",
       "    <tr>\n",
       "      <th>16%</th>\n",
       "      <td> 3670.360000</td>\n",
       "    </tr>\n",
       "    <tr>\n",
       "      <th>50%</th>\n",
       "      <td> 4570.000000</td>\n",
       "    </tr>\n",
       "    <tr>\n",
       "      <th>84%</th>\n",
       "      <td> 5469.640000</td>\n",
       "    </tr>\n",
       "    <tr>\n",
       "      <th>97.5%</th>\n",
       "      <td> 5826.850000</td>\n",
       "    </tr>\n",
       "    <tr>\n",
       "      <th>100.0%</th>\n",
       "      <td> 5891.677000</td>\n",
       "    </tr>\n",
       "    <tr>\n",
       "      <th>max</th>\n",
       "      <td> 5893.000000</td>\n",
       "    </tr>\n",
       "  </tbody>\n",
       "</table>\n",
       "</div>"
      ],
      "text/plain": [
       "        amount_in_cents\n",
       "count          2.000000\n",
       "mean        4570.000000\n",
       "std         1871.004543\n",
       "min         3247.000000\n",
       "0.1%        3248.323000\n",
       "2.5%        3313.150000\n",
       "16%         3670.360000\n",
       "50%         4570.000000\n",
       "84%         5469.640000\n",
       "97.5%       5826.850000\n",
       "100.0%      5891.677000\n",
       "max         5893.000000"
      ]
     },
     "execution_count": 37,
     "metadata": {},
     "output_type": "execute_result"
    }
   ],
   "source": [
    "short_stats"
   ]
  },
  {
   "cell_type": "code",
   "execution_count": 38,
   "metadata": {
    "collapsed": false
   },
   "outputs": [
    {
     "data": {
      "text/html": [
       "<div style=\"max-height:1000px;max-width:1500px;overflow:auto;\">\n",
       "<table border=\"1\" class=\"dataframe\">\n",
       "  <thead>\n",
       "    <tr style=\"text-align: right;\">\n",
       "      <th></th>\n",
       "      <th>user</th>\n",
       "      <th>amount_in_cents</th>\n",
       "    </tr>\n",
       "    <tr>\n",
       "      <th>time</th>\n",
       "      <th></th>\n",
       "      <th></th>\n",
       "    </tr>\n",
       "  </thead>\n",
       "  <tbody>\n",
       "    <tr>\n",
       "      <th>2016-11-04 14:50:09.257000</th>\n",
       "      <td> 0012a74e2bb1ab0073b2e18532e87474b6b7cfca</td>\n",
       "      <td> 5893</td>\n",
       "    </tr>\n",
       "    <tr>\n",
       "      <th>2016-11-10 00:19:25.407000</th>\n",
       "      <td> 0012a74e2bb1ab0073b2e18532e87474b6b7cfca</td>\n",
       "      <td> 3247</td>\n",
       "    </tr>\n",
       "  </tbody>\n",
       "</table>\n",
       "</div>"
      ],
      "text/plain": [
       "                                                                user  \\\n",
       "time                                                                   \n",
       "2016-11-04 14:50:09.257000  0012a74e2bb1ab0073b2e18532e87474b6b7cfca   \n",
       "2016-11-10 00:19:25.407000  0012a74e2bb1ab0073b2e18532e87474b6b7cfca   \n",
       "\n",
       "                            amount_in_cents  \n",
       "time                                         \n",
       "2016-11-04 14:50:09.257000             5893  \n",
       "2016-11-10 00:19:25.407000             3247  "
      ]
     },
     "execution_count": 38,
     "metadata": {},
     "output_type": "execute_result"
    }
   ],
   "source": [
    "short_user"
   ]
  },
  {
   "cell_type": "code",
   "execution_count": 39,
   "metadata": {
    "collapsed": true
   },
   "outputs": [],
   "source": [
    "h_2sig = numpy.percentile(short_user.amount_in_cents,97.5)\n",
    "l_2sig = numpy.percentile(short_user.amount_in_cents,2.5)"
   ]
  },
  {
   "cell_type": "code",
   "execution_count": 40,
   "metadata": {
    "collapsed": false
   },
   "outputs": [
    {
     "data": {
      "text/plain": [
       "(1, 1)"
      ]
     },
     "execution_count": 40,
     "metadata": {},
     "output_type": "execute_result"
    }
   ],
   "source": [
    "len(short_user[short_user.amount_in_cents>h_2sig]),len(short_user[short_user.amount_in_cents<l_2sig])"
   ]
  },
  {
   "cell_type": "code",
   "execution_count": 41,
   "metadata": {
    "collapsed": true
   },
   "outputs": [],
   "source": [
    "short_user = short_user[(short_user.amount_in_cents<=h_2sig) & (short_user.amount_in_cents>=l_2sig)]"
   ]
  },
  {
   "cell_type": "markdown",
   "metadata": {},
   "source": [
    "#### If outliers are removed, then the short user dataset has no entries. Therefore I choose to keep the outliers."
   ]
  },
  {
   "cell_type": "code",
   "execution_count": 42,
   "metadata": {
    "collapsed": false
   },
   "outputs": [
    {
     "name": "stdout",
     "output_type": "stream",
     "text": [
      "0\n"
     ]
    }
   ],
   "source": [
    "print len(short_user)"
   ]
  },
  {
   "cell_type": "code",
   "execution_count": 43,
   "metadata": {
    "collapsed": true
   },
   "outputs": [],
   "source": [
    "short_user = merch_trans[(merch_trans['user']=='0012a74e2bb1ab0073b2e18532e87474b6b7cfca') & (h_bool==0)]"
   ]
  },
  {
   "cell_type": "code",
   "execution_count": 44,
   "metadata": {
    "collapsed": false
   },
   "outputs": [
    {
     "data": {
      "text/plain": [
       "<matplotlib.axes._subplots.AxesSubplot at 0x7f78e52aa4d0>"
      ]
     },
     "execution_count": 44,
     "metadata": {},
     "output_type": "execute_result"
    },
    {
     "data": {
      "image/png": "[encoded data removed]",
      "text/plain": [
       "<matplotlib.figure.Figure at 0x7f78ecfbafd0>"
      ]
     },
     "metadata": {},
     "output_type": "display_data"
    }
   ],
   "source": [
    "short_user.plot(grid=True)"
   ]
  },
  {
   "cell_type": "code",
   "execution_count": 45,
   "metadata": {
    "collapsed": true
   },
   "outputs": [],
   "source": [
    "short_frame = pd.DataFrame()\n",
    "short_frame['weekly'] = short_user.amount_in_cents.resample('W')"
   ]
  },
  {
   "cell_type": "code",
   "execution_count": 46,
   "metadata": {
    "collapsed": false
   },
   "outputs": [],
   "source": [
    "proj_week = short_frame.index[-1]+timedelta(days=7)\n",
    "proj_frame = pd.DataFrame([numpy.nan],columns=['weekly'],index=[proj_week])\n",
    "short_frame = short_frame.append(proj_frame)"
   ]
  },
  {
   "cell_type": "code",
   "execution_count": 47,
   "metadata": {
    "collapsed": false
   },
   "outputs": [
    {
     "name": "stdout",
     "output_type": "stream",
     "text": [
      "            weekly\n",
      "2016-11-06    5893\n",
      "2016-11-13    3247\n",
      "2016-11-20     NaN\n"
     ]
    }
   ],
   "source": [
    "print short_frame"
   ]
  },
  {
   "cell_type": "markdown",
   "metadata": {},
   "source": [
    "#### Since there are only two datapoints, only linear interpolation is possible. For this reason, if the spline fails, I will choose to use a simple linear interpolation (but it will likely just return the same value as the last week in the dataset, and therefore give the projected change as zero)"
   ]
  },
  {
   "cell_type": "code",
   "execution_count": 48,
   "metadata": {
    "collapsed": false
   },
   "outputs": [],
   "source": [
    "short_frame = short_frame.apply(pd.Series.interpolate)"
   ]
  },
  {
   "cell_type": "code",
   "execution_count": 49,
   "metadata": {
    "collapsed": false
   },
   "outputs": [
    {
     "name": "stdout",
     "output_type": "stream",
     "text": [
      "            weekly\n",
      "2016-11-06    5893\n",
      "2016-11-13    3247\n",
      "2016-11-20    3247\n"
     ]
    }
   ],
   "source": [
    "print short_frame"
   ]
  },
  {
   "cell_type": "code",
   "execution_count": 50,
   "metadata": {
    "collapsed": true
   },
   "outputs": [],
   "source": [
    "short_frame = short_frame.apply(lambda x: x / numpy.max(x))"
   ]
  },
  {
   "cell_type": "code",
   "execution_count": 51,
   "metadata": {
    "collapsed": false
   },
   "outputs": [
    {
     "data": {
      "text/plain": [
       "<matplotlib.axes._subplots.AxesSubplot at 0x7f78eced3e50>"
      ]
     },
     "execution_count": 51,
     "metadata": {},
     "output_type": "execute_result"
    },
    {
     "data": {
      "image/png": "[encoded data removed]",
      "text/plain": [
       "<matplotlib.figure.Figure at 0x7f78ed011c50>"
      ]
     },
     "metadata": {},
     "output_type": "display_data"
    }
   ],
   "source": [
    "short_frame.plot(grid=True)"
   ]
  },
  {
   "cell_type": "markdown",
   "metadata": {},
   "source": [
    "#### The second user with sufficient data for interpolation is similar to the first user. Therefore I apply the same methods and see that the behavior for this dataset is also reasonable. Now I can use what I have learned so far to make a generalized algorithm to analyze the merchants."
   ]
  },
  {
   "cell_type": "code",
   "execution_count": 52,
   "metadata": {
    "collapsed": true
   },
   "outputs": [],
   "source": [
    "second_user = merch_trans[(merch_trans['user']=='001855810c25d8bb03210f8c0114de27da9cd76c') & (h_bool==0)]"
   ]
  },
  {
   "cell_type": "code",
   "execution_count": 53,
   "metadata": {
    "collapsed": false
   },
   "outputs": [
    {
     "data": {
      "text/plain": [
       "<matplotlib.axes._subplots.AxesSubplot at 0x7f78ecf4e3d0>"
      ]
     },
     "execution_count": 53,
     "metadata": {},
     "output_type": "execute_result"
    },
    {
     "data": {
      "image/png": "[encoded data removed]",
      "text/plain": [
       "<matplotlib.figure.Figure at 0x7f78ecd527d0>"
      ]
     },
     "metadata": {},
     "output_type": "display_data"
    }
   ],
   "source": [
    "second_user.plot(grid=True)"
   ]
  },
  {
   "cell_type": "code",
   "execution_count": 54,
   "metadata": {
    "collapsed": true
   },
   "outputs": [],
   "source": [
    "second_stats = second_user.describe(percentiles=[0.0005,.025,.16,.84,.975,.9995])"
   ]
  },
  {
   "cell_type": "code",
   "execution_count": 55,
   "metadata": {
    "collapsed": false
   },
   "outputs": [
    {
     "data": {
      "text/html": [
       "<div style=\"max-height:1000px;max-width:1500px;overflow:auto;\">\n",
       "<table border=\"1\" class=\"dataframe\">\n",
       "  <thead>\n",
       "    <tr style=\"text-align: right;\">\n",
       "      <th></th>\n",
       "      <th>amount_in_cents</th>\n",
       "    </tr>\n",
       "  </thead>\n",
       "  <tbody>\n",
       "    <tr>\n",
       "      <th>count</th>\n",
       "      <td>   195.000000</td>\n",
       "    </tr>\n",
       "    <tr>\n",
       "      <th>mean</th>\n",
       "      <td>  7725.482051</td>\n",
       "    </tr>\n",
       "    <tr>\n",
       "      <th>std</th>\n",
       "      <td>  7048.730423</td>\n",
       "    </tr>\n",
       "    <tr>\n",
       "      <th>min</th>\n",
       "      <td>   481.000000</td>\n",
       "    </tr>\n",
       "    <tr>\n",
       "      <th>0.1%</th>\n",
       "      <td>   620.971000</td>\n",
       "    </tr>\n",
       "    <tr>\n",
       "      <th>2.5%</th>\n",
       "      <td>  4089.000000</td>\n",
       "    </tr>\n",
       "    <tr>\n",
       "      <th>16%</th>\n",
       "      <td>  4690.000000</td>\n",
       "    </tr>\n",
       "    <tr>\n",
       "      <th>50%</th>\n",
       "      <td>  5412.000000</td>\n",
       "    </tr>\n",
       "    <tr>\n",
       "      <th>84%</th>\n",
       "      <td> 15028.160000</td>\n",
       "    </tr>\n",
       "    <tr>\n",
       "      <th>97.5%</th>\n",
       "      <td> 17011.000000</td>\n",
       "    </tr>\n",
       "    <tr>\n",
       "      <th>100.0%</th>\n",
       "      <td> 64230.024000</td>\n",
       "    </tr>\n",
       "    <tr>\n",
       "      <th>max</th>\n",
       "      <td> 64580.000000</td>\n",
       "    </tr>\n",
       "  </tbody>\n",
       "</table>\n",
       "</div>"
      ],
      "text/plain": [
       "        amount_in_cents\n",
       "count        195.000000\n",
       "mean        7725.482051\n",
       "std         7048.730423\n",
       "min          481.000000\n",
       "0.1%         620.971000\n",
       "2.5%        4089.000000\n",
       "16%         4690.000000\n",
       "50%         5412.000000\n",
       "84%        15028.160000\n",
       "97.5%      17011.000000\n",
       "100.0%     64230.024000\n",
       "max        64580.000000"
      ]
     },
     "execution_count": 55,
     "metadata": {},
     "output_type": "execute_result"
    }
   ],
   "source": [
    "second_stats"
   ]
  },
  {
   "cell_type": "code",
   "execution_count": 56,
   "metadata": {
    "collapsed": true
   },
   "outputs": [],
   "source": [
    "h_2sig = numpy.percentile(second_user.amount_in_cents,97.5)\n",
    "l_2sig = numpy.percentile(second_user.amount_in_cents,2.5)"
   ]
  },
  {
   "cell_type": "code",
   "execution_count": 57,
   "metadata": {
    "collapsed": true
   },
   "outputs": [],
   "source": [
    "second_user = second_user[(second_user.amount_in_cents<=h_2sig) & (second_user.amount_in_cents>=l_2sig)]"
   ]
  },
  {
   "cell_type": "markdown",
   "metadata": {},
   "source": [
    "#### Second user after removing outliers"
   ]
  },
  {
   "cell_type": "code",
   "execution_count": 58,
   "metadata": {
    "collapsed": false
   },
   "outputs": [
    {
     "data": {
      "text/plain": [
       "<matplotlib.axes._subplots.AxesSubplot at 0x7f78ecc9c890>"
      ]
     },
     "execution_count": 58,
     "metadata": {},
     "output_type": "execute_result"
    },
    {
     "data": {
      "image/png": "[encoded data removed]",
      "text/plain": [
       "<matplotlib.figure.Figure at 0x7f78eccb6a90>"
      ]
     },
     "metadata": {},
     "output_type": "display_data"
    }
   ],
   "source": [
    "second_user.plot(grid=True)"
   ]
  },
  {
   "cell_type": "code",
   "execution_count": 59,
   "metadata": {
    "collapsed": false
   },
   "outputs": [],
   "source": [
    "u2_frame = pd.DataFrame()\n",
    "u2_frame['weekly'] = second_user.amount_in_cents.resample('W')"
   ]
  },
  {
   "cell_type": "code",
   "execution_count": 60,
   "metadata": {
    "collapsed": false
   },
   "outputs": [
    {
     "name": "stdout",
     "output_type": "stream",
     "text": [
      "                  weekly\n",
      "time                    \n",
      "2016-11-20   4690.000000\n",
      "2016-11-27           NaN\n",
      "2016-12-04   4690.000000\n",
      "2016-12-11  10162.000000\n",
      "2016-12-18   6133.333333\n",
      "2016-12-25   8698.666667\n",
      "2017-01-01   5922.500000\n",
      "2017-01-08   5972.666667\n",
      "2017-01-15   5371.333333\n",
      "2017-01-22   4690.000000\n",
      "2017-01-29   8257.666667\n",
      "2017-02-05   7666.750000\n",
      "2017-02-12   5231.000000\n",
      "2017-02-19   5315.300000\n",
      "2017-02-26   4978.600000\n",
      "2017-03-05   5351.500000\n",
      "2017-03-12   4209.000000\n",
      "2017-03-19   6206.347826\n",
      "2017-03-26   8057.285714\n",
      "2017-04-02   7095.400000\n",
      "2017-04-09  10943.500000\n",
      "2017-04-16   6706.615385\n",
      "2017-04-23   4930.666667\n",
      "2017-04-30   8996.875000\n",
      "2017-05-07   8428.083333\n",
      "2017-05-14  14230.833333\n",
      "2017-05-21   7311.800000\n",
      "2017-05-28   6179.230769\n",
      "2017-06-04   7143.200000\n"
     ]
    }
   ],
   "source": [
    "print u2_frame"
   ]
  },
  {
   "cell_type": "code",
   "execution_count": 61,
   "metadata": {
    "collapsed": true
   },
   "outputs": [],
   "source": [
    "proj_week = u2_frame.index[-1]+timedelta(days=7)\n",
    "proj_frame = pd.DataFrame([numpy.nan],columns=['weekly'],index=[proj_week])\n",
    "u2_frame = u2_frame.append(proj_frame)\n",
    "u2_frame = u2_frame.apply(pd.Series.interpolate,method='spline',order=2)"
   ]
  },
  {
   "cell_type": "code",
   "execution_count": 62,
   "metadata": {
    "collapsed": false
   },
   "outputs": [
    {
     "name": "stdout",
     "output_type": "stream",
     "text": [
      "                  weekly\n",
      "2016-11-20   4690.000000\n",
      "2016-11-27   1985.485089\n",
      "2016-12-04   4690.000000\n",
      "2016-12-11  10162.000000\n",
      "2016-12-18   6133.333333\n",
      "2016-12-25   8698.666667\n",
      "2017-01-01   5922.500000\n",
      "2017-01-08   5972.666667\n",
      "2017-01-15   5371.333333\n",
      "2017-01-22   4690.000000\n",
      "2017-01-29   8257.666667\n",
      "2017-02-05   7666.750000\n",
      "2017-02-12   5231.000000\n",
      "2017-02-19   5315.300000\n",
      "2017-02-26   4978.600000\n",
      "2017-03-05   5351.500000\n",
      "2017-03-12   4209.000000\n",
      "2017-03-19   6206.347826\n",
      "2017-03-26   8057.285714\n",
      "2017-04-02   7095.400000\n",
      "2017-04-09  10943.500000\n",
      "2017-04-16   6706.615385\n",
      "2017-04-23   4930.666667\n",
      "2017-04-30   8996.875000\n",
      "2017-05-07   8428.083333\n",
      "2017-05-14  14230.833333\n",
      "2017-05-21   7311.800000\n",
      "2017-05-28   6179.230769\n",
      "2017-06-04   7143.200000\n",
      "2017-06-11   8923.972559\n"
     ]
    }
   ],
   "source": [
    "print u2_frame"
   ]
  },
  {
   "cell_type": "markdown",
   "metadata": {},
   "source": [
    "#### Normalize the result"
   ]
  },
  {
   "cell_type": "code",
   "execution_count": 63,
   "metadata": {
    "collapsed": true
   },
   "outputs": [],
   "source": [
    "u2_frame = u2_frame.apply(lambda x: x / numpy.max(x))"
   ]
  },
  {
   "cell_type": "code",
   "execution_count": 64,
   "metadata": {
    "collapsed": true
   },
   "outputs": [],
   "source": [
    "second_stats = second_user.describe()"
   ]
  },
  {
   "cell_type": "code",
   "execution_count": 65,
   "metadata": {
    "collapsed": false
   },
   "outputs": [],
   "source": [
    "proj_diff = u2_frame.weekly[-1]-u2_frame.weekly[-2]\n",
    "tot_diff = second_user.index[-1]-second_user.index[0]\n",
    "tot_days = tot_diff.days"
   ]
  },
  {
   "cell_type": "code",
   "execution_count": 66,
   "metadata": {
    "collapsed": false
   },
   "outputs": [],
   "source": [
    "day_frame = pd.DataFrame([tot_days],columns=['amount_in_cents'],index=['days'])\n",
    "proj_frame = pd.DataFrame([proj_diff],columns=['amount_in_cents'],index=['projection'])\n",
    "second_stats = second_stats.append(day_frame)\n",
    "second_stats = second_stats.append(proj_frame)\n",
    "stats = second_stats.index.unique()"
   ]
  },
  {
   "cell_type": "code",
   "execution_count": 67,
   "metadata": {
    "collapsed": false
   },
   "outputs": [],
   "source": [
    "second_stats.columns = ['001855810c25d8bb03210f8c0114de27da9cd76c']"
   ]
  },
  {
   "cell_type": "code",
   "execution_count": 68,
   "metadata": {
    "collapsed": false
   },
   "outputs": [
    {
     "data": {
      "text/html": [
       "<div style=\"max-height:1000px;max-width:1500px;overflow:auto;\">\n",
       "<table border=\"1\" class=\"dataframe\">\n",
       "  <thead>\n",
       "    <tr style=\"text-align: right;\">\n",
       "      <th></th>\n",
       "      <th>001855810c25d8bb03210f8c0114de27da9cd76c</th>\n",
       "    </tr>\n",
       "  </thead>\n",
       "  <tbody>\n",
       "    <tr>\n",
       "      <th>count</th>\n",
       "      <td>   188.000000</td>\n",
       "    </tr>\n",
       "    <tr>\n",
       "      <th>mean</th>\n",
       "      <td>  7044.659574</td>\n",
       "    </tr>\n",
       "    <tr>\n",
       "      <th>std</th>\n",
       "      <td>  4055.558771</td>\n",
       "    </tr>\n",
       "    <tr>\n",
       "      <th>min</th>\n",
       "      <td>  4089.000000</td>\n",
       "    </tr>\n",
       "    <tr>\n",
       "      <th>25%</th>\n",
       "      <td>  5291.000000</td>\n",
       "    </tr>\n",
       "    <tr>\n",
       "      <th>50%</th>\n",
       "      <td>  5412.000000</td>\n",
       "    </tr>\n",
       "    <tr>\n",
       "      <th>75%</th>\n",
       "      <td>  5772.000000</td>\n",
       "    </tr>\n",
       "    <tr>\n",
       "      <th>max</th>\n",
       "      <td> 16957.000000</td>\n",
       "    </tr>\n",
       "    <tr>\n",
       "      <th>days</th>\n",
       "      <td>   196.000000</td>\n",
       "    </tr>\n",
       "    <tr>\n",
       "      <th>projection</th>\n",
       "      <td>     0.125135</td>\n",
       "    </tr>\n",
       "  </tbody>\n",
       "</table>\n",
       "</div>"
      ],
      "text/plain": [
       "            001855810c25d8bb03210f8c0114de27da9cd76c\n",
       "count                                     188.000000\n",
       "mean                                     7044.659574\n",
       "std                                      4055.558771\n",
       "min                                      4089.000000\n",
       "25%                                      5291.000000\n",
       "50%                                      5412.000000\n",
       "75%                                      5772.000000\n",
       "max                                     16957.000000\n",
       "days                                      196.000000\n",
       "projection                                  0.125135"
      ]
     },
     "execution_count": 68,
     "metadata": {},
     "output_type": "execute_result"
    }
   ],
   "source": [
    "second_stats"
   ]
  },
  {
   "cell_type": "markdown",
   "metadata": {},
   "source": [
    "#### Show how combining two merchant IDs with all of their information will look"
   ]
  },
  {
   "cell_type": "code",
   "execution_count": 69,
   "metadata": {
    "collapsed": false
   },
   "outputs": [],
   "source": [
    "stat_list = []\n",
    "stat_list.append(first_stats.transpose())\n",
    "stat_list.append(second_stats.transpose())\n",
    "test_comb = pd.concat(stat_list)"
   ]
  },
  {
   "cell_type": "code",
   "execution_count": 70,
   "metadata": {
    "collapsed": false
   },
   "outputs": [
    {
     "name": "stdout",
     "output_type": "stream",
     "text": [
      "                                          count         mean          std  \\\n",
      "00038f0484334ac047449166cfbbf6452b31c85c    297  2913.925926  2014.443068   \n",
      "001855810c25d8bb03210f8c0114de27da9cd76c    188  7044.659574  4055.558771   \n",
      "\n",
      "                                           min   25%   50%   75%    max  days  \\\n",
      "00038f0484334ac047449166cfbbf6452b31c85c   722  1203  2405  3488  11425    78   \n",
      "001855810c25d8bb03210f8c0114de27da9cd76c  4089  5291  5412  5772  16957   196   \n",
      "\n",
      "                                          projection  \n",
      "00038f0484334ac047449166cfbbf6452b31c85c   -0.205020  \n",
      "001855810c25d8bb03210f8c0114de27da9cd76c    0.125135  \n"
     ]
    }
   ],
   "source": [
    "print test_comb"
   ]
  },
  {
   "cell_type": "markdown",
   "metadata": {},
   "source": [
    "#### Second user after downsampling to weekly datapoints"
   ]
  },
  {
   "cell_type": "code",
   "execution_count": 71,
   "metadata": {
    "collapsed": false
   },
   "outputs": [
    {
     "data": {
      "text/plain": [
       "<matplotlib.axes._subplots.AxesSubplot at 0x7f78ecb792d0>"
      ]
     },
     "execution_count": 71,
     "metadata": {},
     "output_type": "execute_result"
    },
    {
     "data": {
      "image/png": "[encoded data removed]",
      "text/plain": [
       "<matplotlib.figure.Figure at 0x7f78ecd04e90>"
      ]
     },
     "metadata": {},
     "output_type": "display_data"
    }
   ],
   "source": [
    "u2_frame.plot(grid=True)"
   ]
  },
  {
   "cell_type": "markdown",
   "metadata": {},
   "source": [
    "#### Iterate over all merchant IDs to get all the statistics for all the datasets"
   ]
  },
  {
   "cell_type": "code",
   "execution_count": 106,
   "metadata": {
    "collapsed": false
   },
   "outputs": [],
   "source": [
    "def get_merchant_stats(merch_data):\n",
    "    stat_list = []\n",
    "    users = merch_data.user.unique()\n",
    "    hdays = holis.USFederalHolidayCalendar().holidays(start='2002-01-01', end='2015-12-31')\n",
    "    h_bool = merch_data.index.map(lambda x: 1 if x.date() in hdays else 0)\n",
    "    count=0\n",
    "    for u_id in users:\n",
    "        if(count%1000==0):\n",
    "            print len(users),u_id\n",
    "        count+=1\n",
    "        cur_user = merch_data[(merch_data['user']==u_id) & (h_bool==0)]\n",
    "        if(len(cur_user)==0):\n",
    "            continue\n",
    "        h_2sig = numpy.percentile(cur_user.amount_in_cents,97.5)\n",
    "        l_2sig = numpy.percentile(cur_user.amount_in_cents,2.5)\n",
    "        cur_user = cur_user[(cur_user.amount_in_cents<=h_2sig) & (cur_user.amount_in_cents>=l_2sig)]\n",
    "        cur_stats = cur_user.describe()\n",
    "\n",
    "        if(len(cur_user)>0):\n",
    "            week_frame = pd.DataFrame()\n",
    "            week_frame['weekly'] = cur_user.amount_in_cents.resample('W')\n",
    "            if(len(week_frame)>0):\n",
    "                proj_week = week_frame.index[-1]+timedelta(days=7)\n",
    "                proj_frame = pd.DataFrame([numpy.nan],columns=['weekly'],index=[proj_week])\n",
    "                week_frame = week_frame.append(proj_frame)\n",
    "                try:\n",
    "                    week_frame = week_frame.apply(pd.Series.interpolate,method='spline',order=2)\n",
    "                except:\n",
    "                    week_frame = week_frame.apply(pd.Series.interpolate)\n",
    "                week_frame = week_frame.apply(lambda x: x / numpy.max(x))\n",
    "                \n",
    "                proj_diff = week_frame.weekly[-1]-week_frame.weekly[-2]\n",
    "                tot_diff = cur_user.index[-1]-cur_user.index[0]\n",
    "                tot_days = tot_diff.days\n",
    "            \n",
    "                day_frame = pd.DataFrame([tot_days],columns=['amount_in_cents'],index=['days'])\n",
    "                proj_frame = pd.DataFrame([proj_diff],columns=['amount_in_cents'],index=['projection'])\n",
    "                cur_stats = cur_stats.append(day_frame)\n",
    "                cur_stats = cur_stats.append(proj_frame)\n",
    "                cur_stats.columns=[u_id]\n",
    "                stat_list.append(cur_stats.transpose())\n",
    "            else:\n",
    "                tot_diff = cur_user.index[-1]-cur_user.index[0]\n",
    "                tot_days = tot_diff.days\n",
    "                day_frame = pd.DataFrame([tot_days],columns=['amount_in_cents'],index=['days'])\n",
    "                proj_frame = pd.DataFrame([numpy.nan],columns=['amount_in_cents'],index=['projection'])\n",
    "                cur_stats = cur_stats.append(day_frame)\n",
    "                cur_stats = cur_stats.append(proj_frame)\n",
    "                cur_stats.columns=[u_id]\n",
    "                stat_list.append(cur_stats.transpose())   \n",
    "        else:\n",
    "            cur_user = merch_data[(merch_data['user']==u_id) & (h_bool==0)]\n",
    "            cur_stats = cur_user.describe()\n",
    "            tot_diff = cur_user.index[-1]-cur_user.index[0]\n",
    "            tot_days = tot_diff.days\n",
    "            day_frame = pd.DataFrame([tot_days],columns=['amount_in_cents'],index=['days'])\n",
    "            proj_frame = pd.DataFrame([numpy.nan],columns=['amount_in_cents'],index=['projection'])\n",
    "            cur_stats = cur_stats.append(day_frame)\n",
    "            cur_stats = cur_stats.append(proj_frame)\n",
    "            cur_stats.columns=[u_id]\n",
    "            stat_list.append(cur_stats.transpose())            \n",
    "    out_frame = pd.concat(stat_list)\n",
    "    return out_frame"
   ]
  },
  {
   "cell_type": "markdown",
   "metadata": {},
   "source": [
    "#### Running this on ~8500 merchants takes a while (about 30 minutes). If I had more time I would try to optimize the processing more."
   ]
  },
  {
   "cell_type": "code",
   "execution_count": 107,
   "metadata": {
    "collapsed": false
   },
   "outputs": [
    {
     "name": "stdout",
     "output_type": "stream",
     "text": [
      "8402 00038f0484334ac047449166cfbbf6452b31c85c\n",
      "8402 1e40d3b9f40d7f3194ae3626c22f7ac5b5e2cf85\n",
      "8402 3c4874e5240a1c0f57cb83d0a034ffe5d0402090\n",
      "8402 5c22a1f9b95b277326ec16fc29b39a3758665fbe\n",
      "8402 7bb37e7a5ec56942137227e85ab2cfd9cee77247\n",
      "8402 9a1721579a05b7258916feb12fe30a1e0ab83cac\n",
      "8402 b9910d50a2ce7ec1647b33f9d6a227a3ec569a3a\n",
      "8402 d61aaf95a3af92cbf4d6ed1ac2558e008b510ec8\n",
      "8402 f34c25f0467dd24ca059a8bfe29f08760bedccba\n"
     ]
    }
   ],
   "source": [
    "stat_frame = get_merchant_stats(merch_trans)"
   ]
  },
  {
   "cell_type": "markdown",
   "metadata": {},
   "source": [
    "#### Since I excluded users with no non-holiday datapoints I have slightly fewer than 8402 users in the end"
   ]
  },
  {
   "cell_type": "code",
   "execution_count": 109,
   "metadata": {
    "collapsed": false
   },
   "outputs": [
    {
     "data": {
      "text/plain": [
       "8394"
      ]
     },
     "execution_count": 109,
     "metadata": {},
     "output_type": "execute_result"
    }
   ],
   "source": [
    "len(stat_frame)"
   ]
  },
  {
   "cell_type": "markdown",
   "metadata": {},
   "source": [
    "#### Vast majority of merchants have a transaction maximum below $1000"
   ]
  },
  {
   "cell_type": "code",
   "execution_count": 141,
   "metadata": {
    "collapsed": false
   },
   "outputs": [
    {
     "data": {
      "text/plain": [
       "<matplotlib.text.Text at 0x7f78e817f890>"
      ]
     },
     "execution_count": 141,
     "metadata": {},
     "output_type": "execute_result"
    },
    {
     "data": {
      "image/png": "[encoded data removed]",
      "text/plain": [
       "<matplotlib.figure.Figure at 0x7f78e870ad50>"
      ]
     },
     "metadata": {},
     "output_type": "display_data"
    }
   ],
   "source": [
    "ax = (stat_frame['max']/100).hist(bins=200,log=True)\n",
    "ax.set_xlim(0,10000)\n",
    "ax.set_xlabel('Maximum Transaction (dollars)')\n",
    "ax.set_ylabel('Merchants')"
   ]
  },
  {
   "cell_type": "markdown",
   "metadata": {},
   "source": [
    "#### Vast majority of merchants have minimum transactions below $100"
   ]
  },
  {
   "cell_type": "code",
   "execution_count": 134,
   "metadata": {
    "collapsed": false
   },
   "outputs": [
    {
     "data": {
      "text/plain": [
       "<matplotlib.text.Text at 0x7f78ebc23c10>"
      ]
     },
     "execution_count": 134,
     "metadata": {},
     "output_type": "execute_result"
    },
    {
     "data": {
      "image/png": "[encoded data removed]",
      "text/plain": [
       "<matplotlib.figure.Figure at 0x7f78eb9b60d0>"
      ]
     },
     "metadata": {},
     "output_type": "display_data"
    }
   ],
   "source": [
    "ax = (stat_frame['min']/100).hist(bins=500,log=True)\n",
    "ax.set_xlim(0,3500)\n",
    "ax.set_xlabel('Minimum Transaction (dollars)')\n",
    "ax.set_ylabel('Merchants')"
   ]
  },
  {
   "cell_type": "markdown",
   "metadata": {},
   "source": [
    "#### Vast majority of companies have low (<$100) standard deviation"
   ]
  },
  {
   "cell_type": "code",
   "execution_count": 147,
   "metadata": {
    "collapsed": false
   },
   "outputs": [
    {
     "data": {
      "text/plain": [
       "<matplotlib.text.Text at 0x7f78e6b506d0>"
      ]
     },
     "execution_count": 147,
     "metadata": {},
     "output_type": "execute_result"
    },
    {
     "data": {
      "image/png": "[encoded data removed]",
      "text/plain": [
       "<matplotlib.figure.Figure at 0x7f78e78f6dd0>"
      ]
     },
     "metadata": {},
     "output_type": "display_data"
    }
   ],
   "source": [
    "ax = (stat_frame['std']/100).hist(bins=300,log=True)\n",
    "ax.set_xlim(0,3500)\n",
    "ax.set_xlabel('Transaction Standard Deviation (Dollars)')\n",
    "ax.set_ylabel('Merchants')"
   ]
  },
  {
   "cell_type": "markdown",
   "metadata": {},
   "source": [
    "#### On average merchants tend to have transactions that are worth only a few hundred dollars."
   ]
  },
  {
   "cell_type": "code",
   "execution_count": 171,
   "metadata": {
    "collapsed": false
   },
   "outputs": [
    {
     "data": {
      "text/plain": [
       "<matplotlib.text.Text at 0x7f78dc0dfed0>"
      ]
     },
     "execution_count": 171,
     "metadata": {},
     "output_type": "execute_result"
    },
    {
     "data": {
      "image/png": "[encoded data removed]",
      "text/plain": [
       "<matplotlib.figure.Figure at 0x7f78dc7b1190>"
      ]
     },
     "metadata": {},
     "output_type": "display_data"
    }
   ],
   "source": [
    "ax = (stat_frame['mean']/100).hist(bins=300,log=True)\n",
    "ax.set_xlim(0,5000)\n",
    "ax.set_xlabel('Transaction Mean (Dollars)')\n",
    "ax.set_ylabel('Merchants')"
   ]
  },
  {
   "cell_type": "markdown",
   "metadata": {},
   "source": [
    "#### See that a large number of companies do not even have a months worth of transactions! Should focus on these companies to determine why they have so few"
   ]
  },
  {
   "cell_type": "code",
   "execution_count": 157,
   "metadata": {
    "collapsed": false
   },
   "outputs": [
    {
     "data": {
      "text/plain": [
       "<matplotlib.text.Text at 0x7f78e654acd0>"
      ]
     },
     "execution_count": 157,
     "metadata": {},
     "output_type": "execute_result"
    },
    {
     "data": {
      "image/png": "[encoded data removed]",
      "text/plain": [
       "<matplotlib.figure.Figure at 0x7f78e605bed0>"
      ]
     },
     "metadata": {},
     "output_type": "display_data"
    }
   ],
   "source": [
    "ax = stat_frame['days'].hist(bins=30)\n",
    "ax.set_xlim(0,365)\n",
    "ax.set_xlabel('Days With Transactions')\n",
    "ax.set_ylabel('Merchant')"
   ]
  },
  {
   "cell_type": "markdown",
   "metadata": {},
   "source": [
    "#### Also see that the majority of companies have fewer than 50 transactions. This is another good category to focus on"
   ]
  },
  {
   "cell_type": "code",
   "execution_count": 169,
   "metadata": {
    "collapsed": false
   },
   "outputs": [
    {
     "data": {
      "text/plain": [
       "<matplotlib.text.Text at 0x7f78e37d3510>"
      ]
     },
     "execution_count": 169,
     "metadata": {},
     "output_type": "execute_result"
    },
    {
     "data": {
      "image/png": "[encoded data removed]",
      "text/plain": [
       "<matplotlib.figure.Figure at 0x7f78e3aad5d0>"
      ]
     },
     "metadata": {},
     "output_type": "display_data"
    }
   ],
   "source": [
    "ax = stat_frame['count'].hist(bins=5000,log=True)\n",
    "ax.set_xlim(0,500)\n",
    "ax.set_xlabel('Number of Transactions')\n",
    "ax.set_ylabel('Merchant')"
   ]
  },
  {
   "cell_type": "code",
   "execution_count": 172,
   "metadata": {
    "collapsed": true
   },
   "outputs": [],
   "source": [
    "proj_frame = stat_frame['projection'].dropna()"
   ]
  },
  {
   "cell_type": "markdown",
   "metadata": {},
   "source": [
    "#### The projection seems to do a pretty good job of evenly splitting the data into good performing merchants and poorly performing merchants. The peak at zero likely comes from datasets where there were insufficient datapoints for interpolation (and therefore the linear interpolation was used instead of the spline)"
   ]
  },
  {
   "cell_type": "code",
   "execution_count": 177,
   "metadata": {
    "collapsed": false
   },
   "outputs": [
    {
     "data": {
      "text/plain": [
       "<matplotlib.text.Text at 0x7f78dae91f50>"
      ]
     },
     "execution_count": 177,
     "metadata": {},
     "output_type": "execute_result"
    },
    {
     "data": {
      "image/png": "[encoded data removed]",
      "text/plain": [
       "<matplotlib.figure.Figure at 0x7f78daee3590>"
      ]
     },
     "metadata": {},
     "output_type": "display_data"
    }
   ],
   "source": [
    "ax = proj_frame.hist(bins=100)\n",
    "ax.set_xlim(-1,1)\n",
    "ax.set_xlabel('Projected Change in One Week (Fraction of Max)')\n",
    "ax.set_ylabel('Merchant')"
   ]
  },
  {
   "cell_type": "code",
   "execution_count": null,
   "metadata": {
    "collapsed": true
   },
   "outputs": [],
   "source": []
  }
 ],
 "metadata": {
  "kernelspec": {
   "display_name": "Python 2",
   "language": "python",
   "name": "python2"
  },
  "language_info": {
   "codemirror_mode": {
    "name": "ipython",
    "version": 2
   },
   "file_extension": ".py",
   "mimetype": "text/x-python",
   "name": "python",
   "nbconvert_exporter": "python",
   "pygments_lexer": "ipython2",
   "version": "2.7.6"
  }
 },
 "nbformat": 4,
 "nbformat_minor": 0
}
