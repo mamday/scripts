{
 "cells": [
  {
   "cell_type": "markdown",
   "metadata": {},
   "source": [
    "### The problem has >1000 classes (types of clothing), and each data point can have multiple labels. Therefore this is a multilabel, multiclass problem. A potential solution is to use a OneVsRestClassifier. However, because of the scale of the problem, and my personal limitation to a single laptop for computational power, this algorithm cannot be tested for this data challenge."
   ]
  },
  {
   "cell_type": "code",
   "execution_count": 1,
   "metadata": {
    "collapsed": false
   },
   "outputs": [
    {
     "name": "stderr",
     "output_type": "stream",
     "text": [
      "/usr/local/lib/python2.7/dist-packages/matplotlib/font_manager.py:273: UserWarning: Matplotlib is building the font cache using fc-list. This may take a moment.\n",
      "  warnings.warn('Matplotlib is building the font cache using fc-list. This may take a moment.')\n"
     ]
    }
   ],
   "source": [
    "import numpy\n",
    "import seaborn as sns\n",
    "import pandas as pd\n",
    "import matplotlib\n",
    "from matplotlib import *\n",
    "%matplotlib inline"
   ]
  },
  {
   "cell_type": "markdown",
   "metadata": {},
   "source": [
    "#### Get the labels and the product datasets. The simplest way of creating features from the text (which contains > 6 languages), is to put it into a 'bag of words'. The TfidfVectorizer also weights the words based on their frequency (although this is likely to not work as well since the words are in so many different languages). Because of the size of the dataset and the limitations of memory on my laptop, I cannot make a bag of words out of the descriptions."
   ]
  },
  {
   "cell_type": "code",
   "execution_count": 2,
   "metadata": {
    "collapsed": true
   },
   "outputs": [],
   "source": [
    "in_labels = pd.read_csv('data/input-data-labels.csv',encoding='utf-8')\n",
    "in_labelling = pd.read_csv('data/input-data-labeling.csv',encoding='utf-8')"
   ]
  },
  {
   "cell_type": "code",
   "execution_count": 3,
   "metadata": {
    "collapsed": true
   },
   "outputs": [],
   "source": [
    "from sklearn.feature_extraction.text import TfidfVectorizer"
   ]
  },
  {
   "cell_type": "code",
   "execution_count": 4,
   "metadata": {
    "collapsed": true
   },
   "outputs": [],
   "source": [
    "vectorizer = TfidfVectorizer(analyzer = \"word\",   \\\n",
    "                             tokenizer = None,    \\\n",
    "                             preprocessor = None, \\\n",
    "                             stop_words = None,   \\\n",
    "                             max_features = 1000) "
   ]
  },
  {
   "cell_type": "code",
   "execution_count": 5,
   "metadata": {
    "collapsed": false
   },
   "outputs": [
    {
     "name": "stderr",
     "output_type": "stream",
     "text": [
      "/usr/local/lib/python2.7/dist-packages/numpy/core/fromnumeric.py:2652: VisibleDeprecationWarning: `rank` is deprecated; use the `ndim` attribute or function instead. To find the rank of a matrix see `numpy.linalg.matrix_rank`.\n",
      "  VisibleDeprecationWarning)\n"
     ]
    }
   ],
   "source": [
    "name_features = vectorizer.fit_transform(in_labelling['name'])\n",
    "name_features = name_features.toarray()"
   ]
  },
  {
   "cell_type": "markdown",
   "metadata": {},
   "source": [
    "#### Select the features I want to keep (my bag of words and the shop, brand and price) and store them in a single dataframe. Format the features so they are all numerical (i.e. change the shop and brand to a list of numbers). "
   ]
  },
  {
   "cell_type": "code",
   "execution_count": 6,
   "metadata": {
    "collapsed": true
   },
   "outputs": [],
   "source": [
    "name_df = pd.DataFrame(name_features)"
   ]
  },
  {
   "cell_type": "code",
   "execution_count": 7,
   "metadata": {
    "collapsed": true
   },
   "outputs": [],
   "source": [
    "del in_labelling['name']\n",
    "del in_labelling['description']\n",
    "del in_labelling['id']"
   ]
  },
  {
   "cell_type": "code",
   "execution_count": 8,
   "metadata": {
    "collapsed": true
   },
   "outputs": [],
   "source": [
    "label_targets = in_labelling['labels']"
   ]
  },
  {
   "cell_type": "code",
   "execution_count": 9,
   "metadata": {
    "collapsed": true
   },
   "outputs": [],
   "source": [
    "del in_labelling['labels']"
   ]
  },
  {
   "cell_type": "code",
   "execution_count": 10,
   "metadata": {
    "collapsed": true
   },
   "outputs": [],
   "source": [
    "from sklearn import preprocessing\n",
    "# Discreet value integer encoder\n",
    "label_encoder = preprocessing.LabelEncoder()"
   ]
  },
  {
   "cell_type": "code",
   "execution_count": 11,
   "metadata": {
    "collapsed": true
   },
   "outputs": [],
   "source": [
    "in_labelling['shop'] = label_encoder.fit_transform(in_labelling['shop'])\n",
    "in_labelling['brand'] = label_encoder.fit_transform(in_labelling['brand'])"
   ]
  },
  {
   "cell_type": "code",
   "execution_count": 12,
   "metadata": {
    "collapsed": true
   },
   "outputs": [],
   "source": [
    "feature_df = pd.concat([in_labelling,name_df],axis=1)"
   ]
  },
  {
   "cell_type": "markdown",
   "metadata": {},
   "source": [
    "#### Format the labels as lists of numerical values to pass to the OneVsRestClassifier"
   ]
  },
  {
   "cell_type": "code",
   "execution_count": 13,
   "metadata": {
    "collapsed": true
   },
   "outputs": [],
   "source": [
    "from sklearn.multiclass import OneVsRestClassifier\n",
    "from sklearn import cross_validation\n",
    "from sklearn import ensemble"
   ]
  },
  {
   "cell_type": "code",
   "execution_count": 14,
   "metadata": {
    "collapsed": false
   },
   "outputs": [],
   "source": [
    "def get_labels(df_text):\n",
    "    split_text = df_text.split(',')\n",
    "    return split_text"
   ]
  },
  {
   "cell_type": "code",
   "execution_count": 15,
   "metadata": {
    "collapsed": false
   },
   "outputs": [],
   "source": [
    "label_binarizer = preprocessing.LabelBinarizer()\n",
    "label_targets2 = label_targets.apply(get_labels)\n",
    "label_targets2 = label_targets2.as_matrix()"
   ]
  },
  {
   "cell_type": "code",
   "execution_count": 16,
   "metadata": {
    "collapsed": false
   },
   "outputs": [
    {
     "name": "stdout",
     "output_type": "stream",
     "text": [
      "[u'Bekleidung', u'Hemden', u'Business Hemden', u'Haifischkragen Hemden', u'Langarm Hemden', u'Smokinghemden']\n"
     ]
    }
   ],
   "source": [
    "print label_targets2[0]"
   ]
  },
  {
   "cell_type": "code",
   "execution_count": 17,
   "metadata": {
    "collapsed": true
   },
   "outputs": [],
   "source": [
    "label_targets2 = label_binarizer.fit_transform(label_targets2)"
   ]
  },
  {
   "cell_type": "code",
   "execution_count": 18,
   "metadata": {
    "collapsed": false
   },
   "outputs": [
    {
     "name": "stdout",
     "output_type": "stream",
     "text": [
      "1309532\n"
     ]
    }
   ],
   "source": [
    "print numpy.count_nonzero(label_targets2)"
   ]
  },
  {
   "cell_type": "markdown",
   "metadata": {},
   "source": [
    "#### Attempt to run the classifier. Failed due to lack of memory on my laptop"
   ]
  },
  {
   "cell_type": "code",
   "execution_count": null,
   "metadata": {
    "collapsed": false
   },
   "outputs": [],
   "source": [
    "from sklearn.cross_validation import train_test_split\n",
    "X_train,X_test,y_train,y_test = train_test_split(feature_df,label_targets2,test_size=0.95)"
   ]
  },
  {
   "cell_type": "code",
   "execution_count": null,
   "metadata": {
    "collapsed": false
   },
   "outputs": [
    {
     "name": "stderr",
     "output_type": "stream",
     "text": [
      "/usr/lib/python2.7/dist-packages/sklearn/multiclass.py:57: UserWarning: Label not 2 is present in all training examples.\n",
      "  str(classes[c]))\n",
      "/usr/lib/python2.7/dist-packages/sklearn/multiclass.py:57: UserWarning: Label not 13 is present in all training examples.\n",
      "  str(classes[c]))\n",
      "/usr/lib/python2.7/dist-packages/sklearn/multiclass.py:57: UserWarning: Label not 19 is present in all training examples.\n",
      "  str(classes[c]))\n",
      "/usr/lib/python2.7/dist-packages/sklearn/multiclass.py:57: UserWarning: Label not 33 is present in all training examples.\n",
      "  str(classes[c]))\n",
      "/usr/lib/python2.7/dist-packages/sklearn/multiclass.py:57: UserWarning: Label not 40 is present in all training examples.\n",
      "  str(classes[c]))\n",
      "/usr/lib/python2.7/dist-packages/sklearn/multiclass.py:57: UserWarning: Label not 41 is present in all training examples.\n",
      "  str(classes[c]))\n",
      "/usr/lib/python2.7/dist-packages/sklearn/multiclass.py:57: UserWarning: Label not 42 is present in all training examples.\n",
      "  str(classes[c]))\n",
      "/usr/lib/python2.7/dist-packages/sklearn/multiclass.py:57: UserWarning: Label not 46 is present in all training examples.\n",
      "  str(classes[c]))\n",
      "/usr/lib/python2.7/dist-packages/sklearn/multiclass.py:57: UserWarning: Label not 47 is present in all training examples.\n",
      "  str(classes[c]))\n"
     ]
    }
   ],
   "source": [
    "clf = OneVsRestClassifier(ensemble.RandomForestClassifier()).fit(X_train, y_train)"
   ]
  },
  {
   "cell_type": "code",
   "execution_count": null,
   "metadata": {
    "collapsed": true
   },
   "outputs": [],
   "source": [
    "y_preds = clf.predict(X_test)"
   ]
  },
  {
   "cell_type": "code",
   "execution_count": null,
   "metadata": {
    "collapsed": true
   },
   "outputs": [],
   "source": [
    "print y_preds[:50],y_test[:50]"
   ]
  },
  {
   "cell_type": "code",
   "execution_count": null,
   "metadata": {
    "collapsed": true
   },
   "outputs": [],
   "source": []
  }
 ],
 "metadata": {
  "kernelspec": {
   "display_name": "Python 2",
   "language": "python",
   "name": "python2"
  },
  "language_info": {
   "codemirror_mode": {
    "name": "ipython",
    "version": 2
   },
   "file_extension": ".py",
   "mimetype": "text/x-python",
   "name": "python",
   "nbconvert_exporter": "python",
   "pygments_lexer": "ipython2",
   "version": "2.7.6"
  }
 },
 "nbformat": 4,
 "nbformat_minor": 0
}
