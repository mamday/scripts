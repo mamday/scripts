{
 "cells": [
  {
   "cell_type": "markdown",
   "metadata": {},
   "source": [
    "#### Time allocations\n",
    "#### 1st hour - Investigate data from http://data.worldbank.org/data-catalog/world-development-indicators, make some basic plots looking at the distributions and thinking about the problem\n",
    "#### 2nd hour - Choose what problem I want to try to solve and start cleaning the data so that I can answer the question I want. Determine if there may be some data external to this set that would be useful\n",
    "#### 3rd hour - Determine what my story is and make the first write up of my actionable insights\n",
    "#### 4th hour - Consider more complicated analysis or other questions/insights I might get from the data\n",
    "#### 5th hour - Finalize plots and insights"
   ]
  },
  {
   "cell_type": "code",
   "execution_count": 3,
   "metadata": {
    "collapsed": false
   },
   "outputs": [],
   "source": [
    "import pandas as pd\n",
    "import seaborn as sns\n",
    "import numpy\n",
    "import matplotlib\n",
    "\n",
    "%matplotlib inline"
   ]
  },
  {
   "cell_type": "code",
   "execution_count": 5,
   "metadata": {
    "collapsed": false
   },
   "outputs": [],
   "source": [
    "wdi_data = pd.read_csv('data/WDI_Data.csv')"
   ]
  },
  {
   "cell_type": "code",
   "execution_count": 6,
   "metadata": {
    "collapsed": false
   },
   "outputs": [
    {
     "data": {
      "text/plain": [
       "Index([u'Country Name', u'Country Code', u'Indicator Name', u'Indicator Code', u'1960', u'1961', u'1962', u'1963', u'1964', u'1965', u'1966', u'1967', u'1968', u'1969', u'1970', u'1971', u'1972', u'1973', u'1974', u'1975', u'1976', u'1977', u'1978', u'1979', u'1980', u'1981', u'1982', u'1983', u'1984', u'1985', u'1986', u'1987', u'1988', u'1989', u'1990', u'1991', u'1992', u'1993', u'1994', u'1995', u'1996', u'1997', u'1998', u'1999', u'2000', u'2001', u'2002', u'2003', u'2004', u'2005', u'2006', u'2007', u'2008', u'2009', u'2010', u'2011', u'2012', u'2013', u'2014', u'2015'], dtype='object')"
      ]
     },
     "execution_count": 6,
     "metadata": {},
     "output_type": "execute_result"
    }
   ],
   "source": [
    "wdi_data.keys()"
   ]
  },
  {
   "cell_type": "code",
   "execution_count": 61,
   "metadata": {
    "collapsed": false
   },
   "outputs": [],
   "source": [
    "years = ['1960','1961','1962','1963','1964','1965','1966','1967','1968','1969',\n",
    "                                            '1970','1971','1972','1973','1974','1975','1976','1977','1978','1979',\n",
    "                                            '1980','1981','1982','1983','1984','1985','1986','1987','1988','1989',\n",
    "                                            '1990','1991','1992','1993','1994','1995','1996','1997','1998','1999',\n",
    "                                            '2000','2001','2002','2003','2004','2005','2006','2007','2008','2009',\n",
    "                                            '2010','2011','2012','2013','2014','2015']"
   ]
  },
  {
   "cell_type": "code",
   "execution_count": 126,
   "metadata": {
    "collapsed": false
   },
   "outputs": [],
   "source": [
    "indicators = wdi_data['Indicator Name'].unique()"
   ]
  },
  {
   "cell_type": "code",
   "execution_count": 127,
   "metadata": {
    "collapsed": false
   },
   "outputs": [
    {
     "name": "stdout",
     "output_type": "stream",
     "text": [
      "1410 ['2005 PPP conversion factor, GDP (LCU per international $)'\n",
      " '2005 PPP conversion factor, private consumption (LCU per international $)'\n",
      " 'Access to electricity (% of population)' ...,\n",
      " 'Women who were first married by age 18 (% of women ages 20-24)'\n",
      " \"Women's share of population ages 15+ living with HIV (%)\"\n",
      " 'Youth literacy rate, population 15-24 years, both sexes (%)']\n"
     ]
    }
   ],
   "source": [
    "print len(indicators),indicators"
   ]
  },
  {
   "cell_type": "code",
   "execution_count": 128,
   "metadata": {
    "collapsed": true
   },
   "outputs": [],
   "source": [
    "female_indicators = [i for i in indicators if(('Woman' in i) or ('woman' in i) or ('Women' in i) or ('women' in i) \\\n",
    "                     or ('female' in i) or ('Female' in i))]"
   ]
  },
  {
   "cell_type": "code",
   "execution_count": 129,
   "metadata": {
    "collapsed": true
   },
   "outputs": [],
   "source": [
    "male_indicators = [i for i in indicators if((' Man' in i) or (' man ' in i) or (' Men' in i) or (' men' in i) \\\n",
    "                     or (' male' in i) or (' Male' in i))]"
   ]
  },
  {
   "cell_type": "code",
   "execution_count": 130,
   "metadata": {
    "collapsed": false
   },
   "outputs": [
    {
     "name": "stdout",
     "output_type": "stream",
     "text": [
      "125 ['Account at a financial institution, female (% age 15+) [ts]', 'Adjusted net enrollment rate, primary, female (% of primary school age children)', 'Adolescent fertility rate (births per 1,000 women ages 15-19)', 'Adolescents out of school, female (% of female lower secondary school age)', 'Average working hours of children, study and work, female, ages 7-14 (hours per week)', 'Average working hours of children, working only, female, ages 7-14 (hours per week)', 'Child employment in agriculture, female (% of female economically active children ages 7-14)', 'Child employment in manufacturing, female (% of female economically active children ages 7-14)', 'Child employment in services, female (% of female economically active children ages 7-14)', 'Children in employment, female (% of female children ages 7-14)', 'Children in employment, self-employed, female (% of female children in employment, ages 7-14)', 'Children in employment, study and work, female (% of female children in employment, ages 7-14)', 'Children in employment, unpaid family workers, female (% of female children in employment, ages 7-14)', 'Children in employment, wage workers, female (% of female children in employment, ages 7-14)', 'Children in employment, work only, female (% of female children in employment, ages 7-14)', 'Children out of school, female (% of female primary school age)', 'Children out of school, primary, female', 'Condom use, population ages 15-24, female (% of females ages 15-24)', 'Contraceptive prevalence, any methods (% of women ages 15-49)', 'Contraceptive prevalence, modern methods (% of women ages 15-49)', 'Contributing family workers, female (% of females employed)', 'Demand for family planning satisfied by modern methods (% of married women with demand for family planning)', 'Employers, female (% of employment)', 'Employment in agriculture, female (% of female employment)', 'Employment in industry, female (% of female employment)', 'Employment in services, female (% of female employment)', 'Employment to population ratio, 15+, female (%) (modeled ILO estimate)', 'Employment to population ratio, 15+, female (%) (national estimate)', 'Employment to population ratio, ages 15-24, female (%) (modeled ILO estimate)', 'Employment to population ratio, ages 15-24, female (%) (national estimate)', 'Female genital mutilation prevalence (%)', 'Female headed households (% of households with a female head)', 'Female legislators, senior officials and managers (% of total)', 'Fertility rate, total (births per woman)', 'Firms with female participation in ownership (% of firms)', 'Firms with female top manager (% of firms)', 'Gross enrolment ratio, pre-primary, female (%)', 'Gross intake ratio to Grade 1 of primary education, female (%)', 'Informal employment, female (% of total non-agricultural employment)', 'Labor force participation rate for ages 15-24, female (%) (modeled ILO estimate)', 'Labor force participation rate for ages 15-24, female (%) (national estimate)', 'Labor force participation rate, female (% of female population ages 15+) (modeled ILO estimate)', 'Labor force participation rate, female (% of female population ages 15+) (national estimate)', 'Labor force participation rate, female (% of female population ages 15-64) (modeled ILO estimate)', 'Labor force with primary education, female (% of female labor force)', 'Labor force with secondary education, female (% of female labor force)', 'Labor force with tertiary education, female (% of female labor force)', 'Labor force, female (% of total labor force)', 'Law mandates equal remuneration for females and males for work of equal value (1=yes; 0=no)', 'Life expectancy at birth, female (years)', 'Literacy rate, adult female (% of females ages 15 and above)', 'Literacy rate, youth female (% of females ages 15-24)', 'Long-term unemployment, female (% of female unemployment)', 'Lower secondary completion rate, female (% of relevant age group)', 'Mobile account, female (% age 15+) [w2]', 'Mortality rate, adult, female (per 1,000 female adults)', 'Mortality rate, infant, female (per 1,000 live births)', 'Mortality rate, under-5, female (per 1,000 live births)', 'Net intake rate in grade 1, female (% of official school-age population)', 'Nonpregnant and nonnursing women can do the same jobs as men (1=yes; 0=no)', 'Over-age students, primary, female (% of female enrollment)', 'Part time employment, female (% of total female employment)', 'Part time employment, female (% of total part time employment)', 'Percentage of female teachers in primary education who are trained, female (%)', 'Percentage of female teachers in secondary education who are trained, female (%)', 'Percentage of repeaters in primary education, all grades, female (%)', 'Percentage of students in secondary general education who are female (%)', 'Percentage of students in secondary vocational education who are female (%)', 'Persistence to grade 5, female (% of cohort)', 'Population, female (% of total)', 'Pregnant women receiving prenatal care (%)', 'Prevalence of anemia among non-pregnant women (% of women ages 15-49)', 'Prevalence of anemia among pregnant women (%)', 'Prevalence of anemia among women of reproductive age (% of women ages 15-49)', 'Prevalence of HIV, female (% ages 15-24)', 'Prevalence of overweight, weight for height, female (% of children under 5)', 'Prevalence of severe wasting, weight for height, female (% of children under 5)', 'Prevalence of stunting, height for age, female (% of children under 5)', 'Prevalence of underweight, weight for age, female (% of children under 5)', 'Prevalence of wasting, weight for height, female (% of children under 5)', 'Primary completion rate, female (% of relevant age group)', 'Primary education, pupils (% female)', 'Primary education, teachers (% female)', 'Progression to secondary school, female (%)', 'Proportion of seats held by women in national parliaments (%)', 'Ratio of female to male labor force participation rate (%) (modeled ILO estimate)', 'Ratio of female to male labor force participation rate (%) (national estimate)', 'School enrollment, primary, female (% gross)', 'School enrollment, primary, female (% net)', 'School enrollment, secondary, female (% gross)', 'School enrollment, secondary, female (% net)', 'School enrollment, tertiary, female (% gross)', 'Secondary education, pupils (% female)', 'Secondary education, teachers (% female)', 'Self-employed, female (% of females employed)', 'Share of women in wage employment in the nonagricultural sector (% of total nonagricultural employment)', 'Share of youth not in education, employment, or training, female (% of female youth population)', 'Smoking prevalence, females (% of adults)', 'Survival rate to the last grade of primary education, female (%)', 'Survival to age 65, female (% of cohort)', 'Teachers in secondary education, female (number)', 'Teenage mothers (% of women ages 15-19 who have had children or are currently pregnant)', 'Tertiary education, academic staff (% female)', 'Trained teachers in lower secondary education, female (% of female teachers)', 'Trained teachers in preprimary education, female (% of female teachers)', 'Trained teachers in upper secondary education, female (% of female teachers)', 'Unemployment with primary education, female (% of female unemployment)', 'Unemployment with secondary education, female (% of female unemployment)', 'Unemployment with tertiary education, female (% of female unemployment)', 'Unemployment, female (% of female labor force) (modeled ILO estimate)', 'Unemployment, female (% of female labor force) (national estimate)', 'Unemployment, youth female (% of female labor force ages 15-24) (modeled ILO estimate)', 'Unemployment, youth female (% of female labor force ages 15-24) (national estimate)', 'Unmet need for contraception (% of married women ages 15-49)', 'Vulnerable employment, female (% of female employment)', 'Wage and salaried workers, female (% of females employed)', 'Wanted fertility rate (births per woman)', 'Women who believe a husband is justified in beating his wife (any of five reasons) (%)', 'Women who believe a husband is justified in beating his wife when she argues with him (%)', 'Women who believe a husband is justified in beating his wife when she burns the food (%)', 'Women who believe a husband is justified in beating his wife when she goes out without telling him (%)', 'Women who believe a husband is justified in beating his wife when she neglects the children (%)', 'Women who believe a husband is justified in beating his wife when she refuses sex with him (%)', 'Women who were first married by age 18 (% of women ages 20-24)', \"Women's share of population ages 15+ living with HIV (%)\"]\n"
     ]
    }
   ],
   "source": [
    "print len(female_indicators),female_indicators"
   ]
  },
  {
   "cell_type": "code",
   "execution_count": 131,
   "metadata": {
    "collapsed": false
   },
   "outputs": [
    {
     "name": "stdout",
     "output_type": "stream",
     "text": [
      "88 ['Account at a financial institution, male (% age 15+) [ts]', 'Adjusted net enrollment rate, primary, male (% of primary school age children)', 'Adolescents out of school, male (% of male lower secondary school age)', 'Average working hours of children, study and work, male, ages 7-14 (hours per week)', 'Average working hours of children, working only, male, ages 7-14 (hours per week)', 'Child employment in agriculture, male (% of male economically active children ages 7-14)', 'Child employment in manufacturing, male (% of male economically active children ages 7-14)', 'Child employment in services, male (% of male economically active children ages 7-14)', 'Children in employment, male (% of male children ages 7-14)', 'Children in employment, self-employed, male (% of male children in employment, ages 7-14)', 'Children in employment, study and work, male (% of male children in employment, ages 7-14)', 'Children in employment, unpaid family workers, male (% of male children in employment, ages 7-14)', 'Children in employment, wage workers, male (% of male children in employment, ages 7-14)', 'Children in employment, work only, male (% of male children in employment, ages 7-14)', 'Children out of school, male (% of male primary school age)', 'Children out of school, primary, male', 'Condom use, population ages 15-24, male (% of males ages 15-24)', 'Contributing family workers, male (% of males employed)', 'Employers, male (% of employment)', 'Employment in agriculture, male (% of male employment)', 'Employment in industry, male (% of male employment)', 'Employment in services, male (% of male employment)', 'Employment to population ratio, 15+, male (%) (modeled ILO estimate)', 'Employment to population ratio, 15+, male (%) (national estimate)', 'Employment to population ratio, ages 15-24, male (%) (modeled ILO estimate)', 'Employment to population ratio, ages 15-24, male (%) (national estimate)', 'Gross enrolment ratio, pre-primary, male (%)', 'Gross intake ratio to Grade 1 of primary education, male (%)', 'Informal employment, male (% of total non-agricultural employment)', 'Labor force participation rate for ages 15-24, male (%) (modeled ILO estimate)', 'Labor force participation rate for ages 15-24, male (%) (national estimate)', 'Labor force participation rate, male (% of male population ages 15+) (modeled ILO estimate)', 'Labor force participation rate, male (% of male population ages 15+) (national estimate)', 'Labor force participation rate, male (% of male population ages 15-64) (modeled ILO estimate)', 'Labor force with primary education, male (% of male labor force)', 'Labor force with secondary education, male (% of male labor force)', 'Labor force with tertiary education, male (% of male labor force)', 'Law mandates equal remuneration for females and males for work of equal value (1=yes; 0=no)', 'Life expectancy at birth, male (years)', 'Literacy rate, adult male (% of males ages 15 and above)', 'Literacy rate, youth male (% of males ages 15-24)', 'Long-term unemployment, male (% of male unemployment)', 'Lower secondary completion rate, male (% of relevant age group)', 'Mobile account, male (% age 15+) [w2]', 'Mortality rate, adult, male (per 1,000 male adults)', 'Mortality rate, infant, male (per 1,000 live births)', 'Mortality rate, under-5, male (per 1,000 live births)', 'Net intake rate in grade 1, male (% of official school-age population)', 'Nondiscrimination clause mentions gender in the constitution (1=yes; 0=no)', 'Nonpregnant and nonnursing women can do the same jobs as men (1=yes; 0=no)', 'Over-age students, primary, male (% of male enrollment)', 'Part time employment, male (% of total male employment)', 'Percentage of male teachers in primary education who are trained, male (%)', 'Percentage of male teachers in secondary education who are trained, male (%)', 'Percentage of repeaters in primary education, all grades, male (%)', 'Persistence to grade 5, male (% of cohort)', 'Prevalence of HIV, male (% ages 15-24)', 'Prevalence of overweight, weight for height, male (% of children under 5)', 'Prevalence of severe wasting, weight for height, male (% of children under 5)', 'Prevalence of stunting, height for age, male (% of children under 5)', 'Prevalence of underweight, weight for age, male (% of children under 5)', 'Prevalence of wasting, weight for height, male (% of children under 5)', 'Primary completion rate, male (% of relevant age group)', 'Progression to secondary school, male (%)', 'Ratio of female to male labor force participation rate (%) (modeled ILO estimate)', 'Ratio of female to male labor force participation rate (%) (national estimate)', 'School enrollment, primary, male (% gross)', 'School enrollment, primary, male (% net)', 'School enrollment, secondary, male (% gross)', 'School enrollment, secondary, male (% net)', 'School enrollment, tertiary, male (% gross)', 'Self-employed, male (% of males employed)', 'Share of youth not in education, employment, or training, male (% of male youth population)', 'Smoking prevalence, males (% of adults)', 'Survival rate to the last grade of primary education, male (%)', 'Survival to age 65, male (% of cohort)', 'Trained teachers in lower secondary education, male (% of male teachers)', 'Trained teachers in preprimary education, male (% of male teachers)', 'Trained teachers in upper secondary education, male (% of male teachers)', 'Unemployment with primary education, male (% of male unemployment)', 'Unemployment with secondary education, male (% of male unemployment)', 'Unemployment with tertiary education, male (% of male unemployment)', 'Unemployment, male (% of male labor force) (modeled ILO estimate)', 'Unemployment, male (% of male labor force) (national estimate)', 'Unemployment, youth male (% of male labor force ages 15-24) (modeled ILO estimate)', 'Unemployment, youth male (% of male labor force ages 15-24) (national estimate)', 'Vulnerable employment, male (% of male employment)', 'Wage and salary workers, male (% of males employed)']\n"
     ]
    }
   ],
   "source": [
    "print len(male_indicators),male_indicators"
   ]
  },
  {
   "cell_type": "code",
   "execution_count": 132,
   "metadata": {
    "collapsed": false
   },
   "outputs": [],
   "source": [
    "from sklearn.feature_extraction.text import CountVectorizer\n",
    "import re\n",
    "clean_indicators = [re.sub(\"[^a-zA-Z]\",\" \",j).lower() for j in indicators]\n",
    "wdi_vectorizer = CountVectorizer(stop_words='english',max_features=200)\n",
    "wdi_wordcounts = wdi_vectorizer.fit_transform(clean_indicators)"
   ]
  },
  {
   "cell_type": "code",
   "execution_count": 133,
   "metadata": {
    "collapsed": false
   },
   "outputs": [],
   "source": [
    "word_freqs = zip(numpy.asarray(wdi_wordcounts.sum(axis=0)).ravel(),wdi_vectorizer.get_feature_names())\n",
    "word_freqs.sort(reverse=True)"
   ]
  },
  {
   "cell_type": "code",
   "execution_count": 125,
   "metadata": {
    "collapsed": false
   },
   "outputs": [
    {
     "name": "stdout",
     "output_type": "stream",
     "text": [
      "[(381, u'current'), (207, u'total'), (139, u'female'), (133, u'net'), (122, u'male'), (100, u'population'), (100, u'employment'), (99, u'debt'), (93, u'ages'), (92, u'rate'), (92, u'ppg'), (88, u'children'), (87, u'primary'), (86, u'lcu'), (86, u'expenditure'), (86, u'education'), (83, u'gdp'), (74, u'exports'), (67, u'external'), (65, u'services'), (65, u'income'), (64, u'constant'), (60, u'imports'), (59, u'merchandise'), (57, u'flows'), (56, u'secondary'), (54, u'labor'), (54, u'gross'), (54, u'consumption'), (50, u'private'), (48, u'force'), (48, u'estimate'), (47, u'low'), (46, u'value'), (45, u'age'), (44, u'ratio'), (44, u'bilateral'), (43, u'official'), (42, u'goods'), (41, u'national'), (41, u'bop'), (37, u'unemployment'), (36, u'school'), (36, u'emissions'), (36, u'creditors'), (36, u'capita'), (35, u'service'), (35, u'gni'), (35, u'annual'), (35, u'added'), (34, u'high'), (34, u'commercial'), (34, u'aid'), (33, u'international'), (32, u'savings'), (32, u'final'), (31, u'public'), (31, u'ppp'), (31, u'index'), (31, u'adjusted'), (30, u'donors'), (30, u'dac'), (29, u'teachers'), (29, u'prevalence'), (29, u'average'), (28, u'number'), (28, u'growth'), (27, u'products'), (27, u'nfl'), (27, u'land'), (26, u'dod'), (25, u'urban'), (25, u'people'), (24, u'women'), (24, u'sexes'), (23, u'png'), (23, u'modeled'), (23, u'firms'), (23, u'capital'), (22, u'term'), (22, u'participation'), (22, u'mean'), (22, u'ilo'), (22, u'government'), (22, u'financial'), (22, u'energy'), (21, u'time'), (21, u'rural'), (21, u'area'), (20, u'tertiary'), (20, u'enrollment'), (20, u'economies'), (20, u'cpia'), (20, u'banks'), (19, u'int'), (19, u'equivalent'), (18, u'years'), (18, u'tds'), (18, u'taxes'), (18, u'tariff'), (18, u'share'), (18, u'production'), (18, u'middle'), (18, u'fuel'), (18, u'domestic'), (18, u'dis'), (18, u'concessional'), (18, u'amt'), (17, u'ntr'), (17, u'new'), (17, u'health'), (17, u'commitments'), (16, u'youth'), (16, u'revenue'), (16, u'rating'), (16, u'poverty'), (16, u'payments'), (16, u'multilateral'), (16, u'manufacturing'), (16, u'long'), (16, u'employed'), (15, u'trained'), (15, u'stocks'), (15, u'sector'), (15, u'household'), (15, u'formation'), (15, u'electricity'), (15, u'bonds'), (15, u'agricultural'), (14, u'use'), (14, u'tons'), (14, u'received'), (14, u'metric'), (14, u'km'), (14, u'fixed'), (14, u'enrolment'), (14, u'births'), (14, u'agriculture'), (14, u'account'), (13, u'working'), (13, u'workers'), (13, u'transport'), (13, u'social'), (13, u'percentage'), (13, u'lines'), (13, u'institutions'), (13, u'agencies'), (12, u'weight'), (12, u'mortality'), (12, u'lower'), (12, u'investment'), (12, u'height'), (12, u'guaranteed'), (12, u'grade'), (12, u'expense'), (12, u'days'), (12, u'access'), (11, u'trade'), (11, u'tax'), (11, u'publicly'), (11, u'principal'), (11, u'meters'), (11, u'industry'), (11, u'ida'), (11, u'freshwater'), (11, u'coverage'), (11, u'adults'), (10, u'work'), (10, u'transfers'), (10, u'tourism'), (10, u'sq'), (10, u'kg'), (10, u'imf'), (10, u'gas'), (10, u'factor'), (10, u'death'), (10, u'currency'), (10, u'composition'), (10, u'child'), (9, u'thousand'), (9, u'simple'), (9, u'nonguaranteed'), (9, u'manufactured'), (9, u'live'), (9, u'import'), (9, u'ibrd'), (9, u'general'), (9, u'economically'), (9, u'day'), (9, u'active'), (8, u'rescheduled'), (8, u'performance'), (8, u'oil'), (8, u'non'), (8, u'million'), (8, u'males'), (8, u'foreign'), (8, u'females'), (8, u'damage'), (8, u'credit')]\n"
     ]
    }
   ],
   "source": [
    "print word_freqs"
   ]
  },
  {
   "cell_type": "code",
   "execution_count": 136,
   "metadata": {
    "collapsed": true
   },
   "outputs": [],
   "source": [
    "ag_indicators = [i for i in indicators if('agricult' in i.lower())]"
   ]
  },
  {
   "cell_type": "code",
   "execution_count": 138,
   "metadata": {
    "collapsed": false
   },
   "outputs": [
    {
     "name": "stdout",
     "output_type": "stream",
     "text": [
      "29 ['Agricultural irrigated land (% of total agricultural land)', 'Agricultural land (% of land area)', 'Agricultural land (sq. km)', 'Agricultural machinery, tractors', 'Agricultural machinery, tractors per 100 sq. km of arable land', 'Agricultural methane emissions (% of total)', 'Agricultural methane emissions (thousand metric tons of CO2 equivalent)', 'Agricultural nitrous oxide emissions (% of total)', 'Agricultural nitrous oxide emissions (thousand metric tons of CO2 equivalent)', 'Agricultural raw materials exports (% of merchandise exports)', 'Agricultural raw materials imports (% of merchandise imports)', 'Agriculture value added per worker (constant 2010 US$)', 'Agriculture, value added (% of GDP)', 'Agriculture, value added (annual % growth)', 'Agriculture, value added (constant 2010 US$)', 'Agriculture, value added (constant LCU)', 'Agriculture, value added (current LCU)', 'Agriculture, value added (current US$)', 'Annual freshwater withdrawals, agriculture (% of total freshwater withdrawal)', 'Child employment in agriculture (% of economically active children ages 7-14)', 'Child employment in agriculture, female (% of female economically active children ages 7-14)', 'Child employment in agriculture, male (% of male economically active children ages 7-14)', 'Employment in agriculture (% of total employment)', 'Employment in agriculture, female (% of female employment)', 'Employment in agriculture, male (% of male employment)', 'Informal employment (% of total non-agricultural employment)', 'Informal employment, female (% of total non-agricultural employment)', 'Informal employment, male (% of total non-agricultural employment)', 'Share of women in wage employment in the nonagricultural sector (% of total nonagricultural employment)']\n"
     ]
    }
   ],
   "source": [
    "print len(ag_indicators),ag_indicators"
   ]
  },
  {
   "cell_type": "code",
   "execution_count": 139,
   "metadata": {
    "collapsed": true
   },
   "outputs": [],
   "source": [
    "energy_indicators = [i for i in indicators if(('oil' in i.lower()) or ('electricity' in i.lower()) or \\\n",
    "                                              ('gas' in i.lower()) or ('fuel' in i.lower()))]"
   ]
  },
  {
   "cell_type": "code",
   "execution_count": 146,
   "metadata": {
    "collapsed": false
   },
   "outputs": [
    {
     "name": "stdout",
     "output_type": "stream",
     "text": [
      "46 ['Access to electricity (% of population)', 'Access to electricity, rural (% of rural population)', 'Access to electricity, urban (% of urban population)', 'Access to non-solid fuel (% of population)', 'Access to non-solid fuel, rural (% of rural population)', 'Access to non-solid fuel, urban (% of urban population)', 'CO2 emissions from electricity and heat production, total (% of total fuel combustion)', 'CO2 emissions from gaseous fuel consumption (% of total)', 'CO2 emissions from gaseous fuel consumption (kt)', 'CO2 emissions from liquid fuel consumption (% of total)', 'CO2 emissions from liquid fuel consumption (kt)', 'CO2 emissions from manufacturing industries and construction (% of total fuel combustion)', 'CO2 emissions from other sectors, excluding residential buildings and commercial and public services (% of total fuel combustion)', 'CO2 emissions from residential buildings and commercial and public services (% of total fuel combustion)', 'CO2 emissions from solid fuel consumption (% of total)', 'CO2 emissions from solid fuel consumption (kt)', 'CO2 emissions from transport (% of total fuel combustion)', 'CO2 intensity (kg per kg of oil equivalent energy use)', 'Electricity production from coal sources (% of total)', 'Electricity production from hydroelectric sources (% of total)', 'Electricity production from natural gas sources (% of total)', 'Electricity production from nuclear sources (% of total)', 'Electricity production from oil sources (% of total)', 'Electricity production from oil, gas and coal sources (% of total)', 'Electricity production from renewable sources, excluding hydroelectric (% of total)', 'Electricity production from renewable sources, excluding hydroelectric (kWh)', 'Energy use (kg of oil equivalent per capita)', 'Energy use (kg of oil equivalent) per $1,000 GDP (constant 2011 PPP)', 'Fossil fuel energy consumption (% of total)', 'Fuel exports (% of merchandise exports)', 'Fuel imports (% of merchandise imports)', 'GDP per unit of energy use (constant 2011 PPP $ per kg of oil equivalent)', 'GDP per unit of energy use (PPP $ per kg of oil equivalent)', 'HFC gas emissions (thousand metric tons of CO2 equivalent)', 'Natural gas rents (% of GDP)', 'Oil rents (% of GDP)', 'Other greenhouse gas emissions (% change from 1990)', 'Other greenhouse gas emissions, HFC, PFC and SF6 (thousand metric tons of CO2 equivalent)', 'PFC gas emissions (thousand metric tons of CO2 equivalent)', 'Pump price for diesel fuel (US$ per liter)', 'Pump price for gasoline (US$ per liter)', 'Renewable electricity output (% of total electricity output)', 'SF6 gas emissions (thousand metric tons of CO2 equivalent)', 'Time required to get electricity (days)', 'Total greenhouse gas emissions (% change from 1990)', 'Total greenhouse gas emissions (kt of CO2 equivalent)']\n"
     ]
    }
   ],
   "source": [
    "print len(energy_indicators),energy_indicators"
   ]
  },
  {
   "cell_type": "code",
   "execution_count": 154,
   "metadata": {
    "collapsed": false
   },
   "outputs": [],
   "source": [
    "trade_manufact_indicators = [i for i in indicators if(('export' in i.lower()) or ('import' in i.lower()) \\\n",
    "                                             or ('tariff' in i.lower()) or ('merchandise' in i.lower())) \\\n",
    "                                             or('manufact' in i.lower())]"
   ]
  },
  {
   "cell_type": "code",
   "execution_count": 155,
   "metadata": {
    "collapsed": false,
    "scrolled": true
   },
   "outputs": [
    {
     "name": "stdout",
     "output_type": "stream",
     "text": [
      "131 ['Agricultural raw materials exports (% of merchandise exports)', 'Agricultural raw materials imports (% of merchandise imports)', 'Arms exports (SIPRI trend indicator values)', 'Arms imports (SIPRI trend indicator values)', 'Average time to clear exports through customs (days)', 'Commercial service exports (current US$)', 'Commercial service imports (current US$)', 'Communications, computer, etc. (% of service exports, BoP)', 'Communications, computer, etc. (% of service imports, BoP)', 'Computer, communications and other services (% of commercial service exports)', 'Computer, communications and other services (% of commercial service imports)', 'Cost to export (US$ per container)', 'Cost to import (US$ per container)', 'Customs and other import duties (% of tax revenue)', 'Customs and other import duties (current LCU)', 'Debt service (PPG and IMF only, % of exports of goods, services and primary income)', 'Documents to export (number)', 'Documents to import (number)', 'Energy imports, net (% of energy use)', 'Export value index (2000 = 100)', 'Export volume index (2000 = 100)', 'Exports as a capacity to import (constant LCU)', 'Exports of goods and services (% of GDP)', 'Exports of goods and services (annual % growth)', 'Exports of goods and services (BoP, current US$)', 'Exports of goods and services (constant 2010 US$)', 'Exports of goods and services (constant LCU)', 'Exports of goods and services (current LCU)', 'Exports of goods and services (current US$)', 'Exports of goods, services and primary income (BoP, current US$)', 'External debt stocks (% of exports of goods, services and primary income)', 'Food exports (% of merchandise exports)', 'Food imports (% of merchandise imports)', 'Fuel exports (% of merchandise exports)', 'Fuel imports (% of merchandise imports)', 'Goods exports (BoP, current US$)', 'Goods imports (BoP, current US$)', 'High-technology exports (% of manufactured exports)', 'High-technology exports (current US$)', 'ICT goods exports (% of total goods exports)', 'ICT goods imports (% total goods imports)', 'ICT service exports (% of service exports, BoP)', 'ICT service exports (BoP, current US$)', 'Import value index (2000 = 100)', 'Import volume index (2000 = 100)', 'Imports of goods and services (% of GDP)', 'Imports of goods and services (annual % growth)', 'Imports of goods and services (BoP, current US$)', 'Imports of goods and services (constant 2010 US$)', 'Imports of goods and services (constant LCU)', 'Imports of goods and services (current LCU)', 'Imports of goods and services (current US$)', 'Imports of goods, services and primary income (BoP, current US$)', 'Insurance and financial services (% of commercial service exports)', 'Insurance and financial services (% of commercial service imports)', 'Insurance and financial services (% of service exports, BoP)', 'Insurance and financial services (% of service imports, BoP)', 'Interest payments on external debt (% of exports of goods, services and primary income)', 'International tourism, expenditures (% of total imports)', 'International tourism, receipts (% of total exports)', 'Lead time to export, median case (days)', 'Lead time to import, median case (days)', 'Manufactures exports (% of merchandise exports)', 'Manufactures imports (% of merchandise imports)', 'Merchandise exports (current US$)', 'Merchandise exports by the reporting economy (current US$)', 'Merchandise exports by the reporting economy, residual (% of total merchandise exports)', 'Merchandise exports to economies in the Arab World (% of total merchandise exports)', 'Merchandise exports to high-income economies (% of total merchandise exports)', 'Merchandise exports to low- and middle-income economies in East Asia & Pacific (% of total merchandise exports)', 'Merchandise exports to low- and middle-income economies in Europe & Central Asia (% of total merchandise exports)', 'Merchandise exports to low- and middle-income economies in Latin America & the Caribbean (% of total merchandise exports)', 'Merchandise exports to low- and middle-income economies in Middle East & North Africa (% of total merchandise exports)', 'Merchandise exports to low- and middle-income economies in South Asia (% of total merchandise exports)', 'Merchandise exports to low- and middle-income economies in Sub-Saharan Africa (% of total merchandise exports)', 'Merchandise exports to low- and middle-income economies outside region (% of total merchandise exports)', 'Merchandise exports to low- and middle-income economies within region (% of total merchandise exports)', 'Merchandise imports (current US$)', 'Merchandise imports by the reporting economy (current US$)', 'Merchandise imports by the reporting economy, residual (% of total merchandise imports)', 'Merchandise imports from economies in the Arab World (% of total merchandise imports)', 'Merchandise imports from high-income economies (% of total merchandise imports)', 'Merchandise imports from low- and middle-income economies in East Asia & Pacific (% of total merchandise imports)', 'Merchandise imports from low- and middle-income economies in Europe & Central Asia (% of total merchandise imports)', 'Merchandise imports from low- and middle-income economies in Latin America & the Caribbean (% of total merchandise imports)', 'Merchandise imports from low- and middle-income economies in Middle East & North Africa (% of total merchandise imports)', 'Merchandise imports from low- and middle-income economies in South Asia (% of total merchandise imports)', 'Merchandise imports from low- and middle-income economies in Sub-Saharan Africa (% of total merchandise imports)', 'Merchandise imports from low- and middle-income economies outside region (% of total merchandise imports)', 'Merchandise imports from low- and middle-income economies within region (% of total merchandise imports)', 'Merchandise trade (% of GDP)', 'Net ODA received (% of imports of goods, services and primary income)', 'Ores and metals exports (% of merchandise exports)', 'Ores and metals imports (% of merchandise imports)', 'Present value of external debt (% of exports of goods, services and primary income)', 'Public and publicly guaranteed debt service (% of exports of goods, services and primary income)', 'Service exports (BoP, current US$)', 'Service imports (BoP, current US$)', 'Share of tariff lines with international peaks, all products (%)', 'Share of tariff lines with international peaks, manufactured products (%)', 'Share of tariff lines with international peaks, primary products (%)', 'Share of tariff lines with specific rates, all products (%)', 'Share of tariff lines with specific rates, manufactured products (%)', 'Share of tariff lines with specific rates, primary products (%)', 'Short-term debt (% of exports of goods, services and primary income)', 'Tariff rate, applied, simple mean, all products (%)', 'Tariff rate, applied, simple mean, manufactured products (%)', 'Tariff rate, applied, simple mean, primary products (%)', 'Tariff rate, applied, weighted mean, all products (%)', 'Tariff rate, applied, weighted mean, manufactured products (%)', 'Tariff rate, applied, weighted mean, primary products (%)', 'Tariff rate, most favored nation, simple mean, all products (%)', 'Tariff rate, most favored nation, simple mean, manufactured products (%)', 'Tariff rate, most favored nation, simple mean, primary products (%)', 'Tariff rate, most favored nation, weighted mean, all products (%)', 'Tariff rate, most favored nation, weighted mean, manufactured products (%)', 'Tariff rate, most favored nation, weighted mean, primary products (%)', 'Taxes on exports (% of tax revenue)', 'Taxes on exports (current LCU)', 'Time to export (days)', 'Time to import (days)', 'Total debt service (% of exports of goods, services and primary income)', 'Total reserves in months of imports', 'Transport services (% of commercial service exports)', 'Transport services (% of commercial service imports)', 'Transport services (% of service exports, BoP)', 'Transport services (% of service imports, BoP)', 'Travel services (% of commercial service exports)', 'Travel services (% of commercial service imports)', 'Travel services (% of service exports, BoP)', 'Travel services (% of service imports, BoP)']\n"
     ]
    }
   ],
   "source": [
    "print len(trade_indicators),trade_indicators"
   ]
  },
  {
   "cell_type": "code",
   "execution_count": 150,
   "metadata": {
    "collapsed": true
   },
   "outputs": [],
   "source": [
    "tourism_indicators = [i for i in indicators if('touris' in i.lower())]"
   ]
  },
  {
   "cell_type": "code",
   "execution_count": 151,
   "metadata": {
    "collapsed": false
   },
   "outputs": [
    {
     "name": "stdout",
     "output_type": "stream",
     "text": [
      "10 ['International tourism, expenditures (% of total imports)', 'International tourism, expenditures (current US$)', 'International tourism, expenditures for passenger transport items (current US$)', 'International tourism, expenditures for travel items (current US$)', 'International tourism, number of arrivals', 'International tourism, number of departures', 'International tourism, receipts (% of total exports)', 'International tourism, receipts (current US$)', 'International tourism, receipts for passenger transport items (current US$)', 'International tourism, receipts for travel items (current US$)']\n"
     ]
    }
   ],
   "source": [
    "print len(tourism_indicators),tourism_indicators"
   ]
  },
  {
   "cell_type": "markdown",
   "metadata": {},
   "source": [
    "#### Indicators I find kind of interesting: 'Merchandise imports from economies in the Arab World (% of total merchandise imports)', 'Merchandise exports to low- and middle-income economies in Middle East & North Africa (% of total merchandise exports)', 'Nonpregnant and nonnursing women can do the same jobs as men (1=yes; 0=no)','Condom use, population ages 15-24, male (% of males ages 15-24)','Employment in agriculture (% of total employment)','Total greenhouse gas emissions (kt of CO2 equivalent)','Arms imports (SIPRI trend indicator values)','Food imports (% of merchandise imports)',"
   ]
  },
  {
   "cell_type": "code",
   "execution_count": null,
   "metadata": {
    "collapsed": true
   },
   "outputs": [],
   "source": []
  },
  {
   "cell_type": "markdown",
   "metadata": {},
   "source": [
    "#### Actual time usage\n",
    "#### 1st hour - Tried to think about useful ways to consider all the different indicator names. At first I tried counting them based on country or year and realized the data is just two large. I investigated the distribution of gender classifiers, which seemed to make up a large proportion of the indicators. Finally I settled on using a word count vectorizer to try to determine what the most common topics were. "
   ]
  },
  {
   "cell_type": "code",
   "execution_count": null,
   "metadata": {
    "collapsed": true
   },
   "outputs": [],
   "source": []
  }
 ],
 "metadata": {
  "kernelspec": {
   "display_name": "Python 2",
   "language": "python",
   "name": "python2"
  },
  "language_info": {
   "codemirror_mode": {
    "name": "ipython",
    "version": 2
   },
   "file_extension": ".py",
   "mimetype": "text/x-python",
   "name": "python",
   "nbconvert_exporter": "python",
   "pygments_lexer": "ipython2",
   "version": "2.7.6"
  }
 },
 "nbformat": 4,
 "nbformat_minor": 0
}
