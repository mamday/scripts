{
 "cells": [
  {
   "cell_type": "markdown",
   "metadata": {},
   "source": [
    "### Computational limitations are the main limitation to identifying the Level 4 labels. Therefore I try to brainstorm how to reduce the phase space of the problem (>1000 classes with >6 labels per data point), and potential ways to get more information from the text features (including trying to reduce the size of the description field to be able to create bag of words features).\n",
    "### Using graph theory I find that I can create ~1000 tuples that represent the possible combinations of tags. Although this does not reduce the number of classes (originally ~1000 classes of labels, now 1000 classes of tuples), it would reduce the number of labels per datapoint (1 instead of >6 per datapoint).\n",
    "### I attempt to select only the nouns from the text, to reduce the size. However, cleaning the data in this way is also very computationally intensive. Although it does not use all the memory on my laptop, even with multiprocessing it takes >6 hours to run. "
   ]
  },
  {
   "cell_type": "code",
   "execution_count": 1,
   "metadata": {
    "collapsed": false
   },
   "outputs": [
    {
     "name": "stderr",
     "output_type": "stream",
     "text": [
      "/usr/local/lib/python2.7/dist-packages/matplotlib/font_manager.py:273: UserWarning: Matplotlib is building the font cache using fc-list. This may take a moment.\n",
      "  warnings.warn('Matplotlib is building the font cache using fc-list. This may take a moment.')\n"
     ]
    }
   ],
   "source": [
    "import numpy\n",
    "import seaborn as sns\n",
    "import pandas as pd\n",
    "import matplotlib\n",
    "from matplotlib import *\n",
    "%matplotlib inline"
   ]
  },
  {
   "cell_type": "code",
   "execution_count": 2,
   "metadata": {
    "collapsed": true
   },
   "outputs": [],
   "source": [
    "in_labels = pd.read_csv('data/input-data-labels.csv',encoding='utf-8')\n",
    "in_labelling = pd.read_csv('data/input-data-labeling.csv',encoding='utf-8')"
   ]
  },
  {
   "cell_type": "code",
   "execution_count": 3,
   "metadata": {
    "collapsed": false
   },
   "outputs": [
    {
     "data": {
      "text/plain": [
       "Index([u'tag_id', u'name', u'level', u'parent_tag_id'], dtype='object')"
      ]
     },
     "execution_count": 3,
     "metadata": {},
     "output_type": "execute_result"
    }
   ],
   "source": [
    "in_labels.keys()"
   ]
  },
  {
   "cell_type": "code",
   "execution_count": 4,
   "metadata": {
    "collapsed": false
   },
   "outputs": [
    {
     "data": {
      "text/plain": [
       "Index([u'id', u'name', u'description', u'price', u'shop', u'brand', u'labels'], dtype='object')"
      ]
     },
     "execution_count": 4,
     "metadata": {},
     "output_type": "execute_result"
    }
   ],
   "source": [
    "in_labelling.keys()"
   ]
  },
  {
   "cell_type": "code",
   "execution_count": 5,
   "metadata": {
    "collapsed": false
   },
   "outputs": [
    {
     "data": {
      "text/plain": [
       "691"
      ]
     },
     "execution_count": 5,
     "metadata": {},
     "output_type": "execute_result"
    }
   ],
   "source": [
    "len(in_labels['name'])"
   ]
  },
  {
   "cell_type": "markdown",
   "metadata": {},
   "source": [
    "#### Use Networkx to make a graph of all combinations of labels for each data point"
   ]
  },
  {
   "cell_type": "code",
   "execution_count": 6,
   "metadata": {
    "collapsed": true
   },
   "outputs": [],
   "source": [
    "import networkx as nx\n",
    "import itertools"
   ]
  },
  {
   "cell_type": "code",
   "execution_count": 7,
   "metadata": {
    "collapsed": true
   },
   "outputs": [],
   "source": [
    "def get_edges(products,edge_dict):\n",
    "    prod_list = products.split(',')\n",
    "    edges = list(itertools.combinations(prod_list,2))\n",
    "    for e in edges:\n",
    "        if(e in edge_dict):\n",
    "            edge_dict[e]+=1\n",
    "        else:\n",
    "            edge_dict[e]=1\n",
    "    "
   ]
  },
  {
   "cell_type": "code",
   "execution_count": 8,
   "metadata": {
    "collapsed": true
   },
   "outputs": [],
   "source": [
    "prod_dict = {}\n",
    "for l in in_labelling['labels']:\n",
    "    get_edges(l,prod_dict)"
   ]
  },
  {
   "cell_type": "markdown",
   "metadata": {},
   "source": [
    "#### See that there are 14,222 possible combinations! It is clear, when ordering by frequency, that shoes represent the majority of the data"
   ]
  },
  {
   "cell_type": "code",
   "execution_count": 9,
   "metadata": {
    "collapsed": false
   },
   "outputs": [
    {
     "data": {
      "text/plain": [
       "14222"
      ]
     },
     "execution_count": 9,
     "metadata": {},
     "output_type": "execute_result"
    }
   ],
   "source": [
    "len(prod_dict.keys())"
   ]
  },
  {
   "cell_type": "code",
   "execution_count": 10,
   "metadata": {
    "collapsed": false
   },
   "outputs": [
    {
     "name": "stdout",
     "output_type": "stream",
     "text": [
      "[(56711, (u'Schuhe', u'Lederschuhe')), (36485, (u'Schuhe', u'Pumps')), (32252, (u'Schuhe', u'Lederpumps')), (32252, (u'Pumps', u'Lederpumps')), (31008, (u'Schuhe', u'Plateau Schuhe')), (28612, (u'Lederschuhe', u'Pumps')), (28047, (u'Lederschuhe', u'Lederpumps')), (24278, (u'Accessoires', u'Taschen')), (23709, (u'Schuhe', u'High Heels')), (22630, (u'Schuhe', u'Wedges')), (22456, (u'Taschen', u'Handtaschen')), (22456, (u'Accessoires', u'Handtaschen')), (21180, (u'Lederschuhe', u'Plateau Schuhe')), (19919, (u'Schuhe', u'Sandaletten')), (19734, (u'High Heels', u'Pumps')), (17644, (u'High Heels', u'Lederpumps')), (17406, (u'High Heels', u'Lederschuhe')), (17075, (u'Schuhe', u'Riemchensandaletten')), (17075, (u'Sandaletten', u'Riemchensandaletten')), (16942, (u'Plateau Schuhe', u'Pumps')), (16940, (u'Schuhe', u'Stiefel')), (15827, (u'Schuhe', u'Stiefeletten')), (15276, (u'Schuhe', u'Plateau Pumps')), (15244, (u'Plateau Schuhe', u'Plateau Pumps')), (15133, (u'Plateau Pumps', u'Pumps')), (14969, (u'Plateau Schuhe', u'Lederpumps')), (14957, (u'Bekleidung', u'Hosen')), (14867, (u'Bekleidung', u'W\\xe4sche')), (14351, (u'High Heels', u'Plateau Schuhe')), (14150, (u'Lederschuhe', u'Wedges')), (14061, (u'Lederschuhe', u'Sandaletten')), (13528, (u'Plateau Pumps', u'Lederpumps')), (13438, (u'Lederschuhe', u'Riemchensandaletten')), (12666, (u'Taschen', u'Schultertaschen')), (12666, (u'Accessoires', u'Schultertaschen')), (12648, (u'Handtaschen', u'Schultertaschen')), (12327, (u'Bekleidung', u'Jacken')), (12127, (u'Schuhe', u'Halbschuhe')), (11806, (u'High Heels', u'Plateau Pumps')), (11793, (u'Taschen', u'Henkeltaschen')), (11793, (u'Handtaschen', u'Henkeltaschen')), (11793, (u'Accessoires', u'Henkeltaschen')), (11658, (u'Plateau Schuhe', u'Sandaletten')), (11539, (u'Wedges', u'Keilsandaletten')), (11539, (u'Schuhe', u'Keilsandaletten')), (11408, (u'Schuhe', u'Stilettos')), (11400, (u'High Heels', u'Stilettos')), (11359, (u'Lederschuhe', u'Plateau Pumps')), (11338, (u'Bekleidung', u'Kleider')), (11148, (u'Schuhe', u'Lackschuhe')), (11043, (u'Taschen', u'Lederhandtaschen')), (11043, (u'Handtaschen', u'Lederhandtaschen')), (11043, (u'Accessoires', u'Lederhandtaschen')), (10778, (u'Schuhe', u'Sandalen')), (10624, (u'Sandaletten', u'Wedges')), (10544, (u'Sandaletten', u'Keilsandaletten')), (10421, (u'Taschen', u'Umh\\xe4ngetaschen')), (10421, (u'Accessoires', u'Umh\\xe4ngetaschen')), (10394, (u'Lackschuhe', u'Lederschuhe')), (9721, (u'Plateau Schuhe', u'Riemchensandaletten')), (9710, (u'Taschen', u'Ledertaschen')), (9710, (u'Accessoires', u'Ledertaschen')), (9610, (u'Schuhe', u'Ledersandalen')), (9605, (u'Sandalen', u'Ledersandalen')), (9520, (u'Kleider', u'kurze Kleider')), (9520, (u'Bekleidung', u'kurze Kleider')), (9431, (u'Handtaschen', u'Umh\\xe4ngetaschen')), (9352, (u'Schuhe', u'Peeptoes')), (9352, (u'Pumps', u'Peeptoes')), (9282, (u'Hosen', u'Kurze Hosen')), (9279, (u'Bekleidung', u'Kurze Hosen')), (9264, (u'Stilettos', u'Pumps')), (9206, (u'Handtaschen', u'Ledertaschen')), (9150, (u'Bekleidung', u'Pullover')), (9112, (u'Plateau Schuhe', u'Wedges')), (9002, (u'Schuhe', u'Lackpumps')), (9002, (u'Pumps', u'Lackpumps')), (8959, (u'Stiefel', u'Stiefeletten')), (8947, (u'Schuhe', u'Schl\\xfcpfschuhe')), (8930, (u'Halbschuhe', u'Schl\\xfcpfschuhe')), (8798, (u'Riemchensandaletten', u'Wedges')), (8791, (u'Lederschuhe', u'Sandalen')), (8767, (u'Riemchensandaletten', u'Keilsandaletten')), (8522, (u'Lederschuhe', u'Ledersandalen')), (8352, (u'Lackpumps', u'Lederpumps')), (8080, (u'Lackschuhe', u'Pumps')), (7947, (u'Lackschuhe', u'Lackpumps')), (7944, (u'Lackschuhe', u'Lederpumps')), (7943, (u'Hosen', u'Stoffhosen')), (7943, (u'Bekleidung', u'Stoffhosen')), (7703, (u'Stilettos', u'Lederpumps')), (7644, (u'Lederschuhe', u'Lackpumps')), (7459, (u'Lederschuhe', u'Keilsandaletten')), (7414, (u'Bekleidung', u'Shirts')), (7391, (u'Sandalen', u'Sandaletten')), (7323, (u'Kleider', u'Partykleider')), (7323, (u'Bekleidung', u'Partykleider')), (7032, (u'Lederhandtaschen', u'Ledertaschen')), (7026, (u'Pumps', u'Wedges')), (6967, (u'Schuhe', u'Plateausandalen'))]\n"
     ]
    }
   ],
   "source": [
    "zip_prods = zip(prod_dict.values(),prod_dict.keys())\n",
    "zip_prods.sort(reverse=True)\n",
    "print zip_prods[:100]"
   ]
  },
  {
   "cell_type": "code",
   "execution_count": 11,
   "metadata": {
    "collapsed": true
   },
   "outputs": [],
   "source": [
    "prod_graph = nx.Graph(prod_dict.keys())"
   ]
  },
  {
   "cell_type": "markdown",
   "metadata": {},
   "source": [
    "#### Draw the graph to see if there are any obvious clusters. Somehow the graph is fairly well connected."
   ]
  },
  {
   "cell_type": "code",
   "execution_count": 12,
   "metadata": {
    "collapsed": false
   },
   "outputs": [
    {
     "name": "stderr",
     "output_type": "stream",
     "text": [
      "/usr/local/lib/python2.7/dist-packages/numpy/core/fromnumeric.py:2652: VisibleDeprecationWarning: `rank` is deprecated; use the `ndim` attribute or function instead. To find the rank of a matrix see `numpy.linalg.matrix_rank`.\n",
      "  VisibleDeprecationWarning)\n"
     ]
    },
    {
     "data": {
      "image/png": "[encoded data removed]",
      "text/plain": [
       "<matplotlib.figure.Figure at 0x7f50b5433f10>"
      ]
     },
     "metadata": {},
     "output_type": "display_data"
    }
   ],
   "source": [
    "nx.draw(prod_graph)"
   ]
  },
  {
   "cell_type": "markdown",
   "metadata": {},
   "source": [
    "#### Calculate the betweenness centrality. Using centrality, each of the tags can be ranked based on how likely they are to connect to other tags. Using this information, I can condense the >14,000 combinations down to the most central tags for each data point. Then these central tags can be used to identify the other associated tags "
   ]
  },
  {
   "cell_type": "code",
   "execution_count": 13,
   "metadata": {
    "collapsed": true
   },
   "outputs": [],
   "source": [
    "betweenness = nx.betweenness_centrality(prod_graph)"
   ]
  },
  {
   "cell_type": "code",
   "execution_count": 14,
   "metadata": {
    "collapsed": false
   },
   "outputs": [
    {
     "name": "stdout",
     "output_type": "stream",
     "text": [
      "[(0.3181233337098397, u'Bekleidung'), (0.13963803571446695, u'Accessoires'), (0.050801424497208765, u'Schuhe'), (0.03644126481702051, u'W\\xe4sche'), (0.02506573005160854, u'Schmuck'), (0.02222729809778493, u'Shirts'), (0.017341157438126496, u'Hosen'), (0.016717944720984486, u'Jacken'), (0.013691126836845974, u'Kleider'), (0.0118567906583459, u'T-Shirts'), (0.01152476249697074, u'Pullover'), (0.010430538112575966, u'Kurze Hosen'), (0.009279311758725256, u'Taschen'), (0.0089354808971332, u'Stiefeletten'), (0.008761060202227255, u'Blusen'), (0.00851274519283506, u'Halbschuhe'), (0.008070774838943561, u'M\\xe4ntel'), (0.007997234019739695, u'Bademode'), (0.0075622249761576115, u'Sneaker'), (0.0070611600320012935, u'Halsketten'), (0.006572593267962931, u'Stiefel'), (0.006571353582718387, u'Homewear'), (0.006353140621243234, u'R\\xf6cke'), (0.006137795502325252, u'Strickjacken'), (0.005680343122993081, u'Shorts'), (0.005655968261534136, u'Kost\\xfcme'), (0.005542632598403195, u'Anz\\xfcge'), (0.00539610438204296, u'Unterhosen'), (0.0053682291440644726, u'Schl\\xfcpfschuhe'), (0.004901653428620268, u'Hemden'), (0.004895404386950282, u'Handtaschen'), (0.004681617327834879, u'Blazer'), (0.004532140272092167, u'Pumps'), (0.004514512612321155, u'kurze Kleider'), (0.00440101603068162, u'Print Shirts'), (0.0043501581552213365, u'Tops'), (0.004233719495665169, u'Cardigans'), (0.004059279200710649, u'Stoffhosen'), (0.004009482941921763, u'Stiefeletten mit Absatz'), (0.003968785797426722, u'Wedges'), (0.003712992001849435, u'Lederschuhe'), (0.003576187646369621, u'Sneaker Low'), (0.0035635922504050933, u'Bikinis'), (0.0035023886316154526, u'Jeans'), (0.003437946244916951, u'Ringe'), (0.0033250756214001243, u'BH'), (0.003297539564597827, u'Schlupfstiefeletten'), (0.0032608549660201815, u'Winterm\\xe4ntel'), (0.0032605408775418184, u'Armb\\xe4nder'), (0.0028806143361329375, u'Shapewear')]\n"
     ]
    }
   ],
   "source": [
    "bet_zip = zip(betweenness.values(),betweenness.keys())\n",
    "bet_zip.sort(reverse=True)\n",
    "print bet_zip[:50]"
   ]
  },
  {
   "cell_type": "code",
   "execution_count": 15,
   "metadata": {
    "collapsed": false
   },
   "outputs": [],
   "source": [
    "group_lev = in_labels.groupby(['level'])"
   ]
  },
  {
   "cell_type": "code",
   "execution_count": 16,
   "metadata": {
    "collapsed": false
   },
   "outputs": [],
   "source": [
    "lev_dict = {}\n",
    "for lev,group in group_lev:\n",
    "    lev_dict[lev]=set(group['name'])"
   ]
  },
  {
   "cell_type": "code",
   "execution_count": 17,
   "metadata": {
    "collapsed": false
   },
   "outputs": [],
   "source": [
    "def get_lev_tups(product,b_list,l_dict,two_list,three_list,four_list):\n",
    "    cur_list = []\n",
    "    prod_list = product.split(',')\n",
    "    cur_lev = 1\n",
    "    for it in b_list:\n",
    "        if(cur_lev<5):\n",
    "            if((it[1] in l_dict[cur_lev]) and (it[1] in set(prod_list))):\n",
    "                cur_list.append(it[1])\n",
    "                cur_lev+=1\n",
    "        else:\n",
    "            break\n",
    "    two_list.append(tuple(cur_list[:2]))\n",
    "    three_list.append(tuple(cur_list[:3]))\n",
    "    four_list.append(tuple(cur_list))"
   ]
  },
  {
   "cell_type": "code",
   "execution_count": 18,
   "metadata": {
    "collapsed": false
   },
   "outputs": [],
   "source": [
    "twos = []\n",
    "threes = []\n",
    "fours = []\n",
    "for l in in_labelling['labels']:\n",
    "    get_lev_tups(l,bet_zip,lev_dict,twos,threes,fours)"
   ]
  },
  {
   "cell_type": "markdown",
   "metadata": {},
   "source": [
    "#### By picking the most central topics first, see that the number of tuples with four tags is only ~1000. These tuples uniquely identify each item in the dataset and the most commonly associated tags. Therefore the  complexity of the problem can be reduced from 1000 classes with >6 labels per datapoint to only 1000 classes with a single label per datapoint with a relatively small decrease in tagging accuracy."
   ]
  },
  {
   "cell_type": "code",
   "execution_count": 19,
   "metadata": {
    "collapsed": false
   },
   "outputs": [
    {
     "name": "stdout",
     "output_type": "stream",
     "text": [
      "53 495 1174\n"
     ]
    }
   ],
   "source": [
    "print len(set(twos)),len(set(threes)),len(set(fours))"
   ]
  },
  {
   "cell_type": "markdown",
   "metadata": {},
   "source": [
    "#### Try using a large compendium of language pattern recognition tool to reduce the size of the description field, with hopes to be able to use it for features."
   ]
  },
  {
   "cell_type": "code",
   "execution_count": 20,
   "metadata": {
    "collapsed": false
   },
   "outputs": [],
   "source": [
    "import pattern"
   ]
  },
  {
   "cell_type": "code",
   "execution_count": 21,
   "metadata": {
    "collapsed": true
   },
   "outputs": [],
   "source": [
    "from pattern.en import parsetree as en_parse\n",
    "from pattern.fr import parsetree as fr_parse\n",
    "from pattern.de import parsetree as de_parse\n",
    "from pattern.es import parsetree as es_parse\n",
    "import langdetect"
   ]
  },
  {
   "cell_type": "code",
   "execution_count": 22,
   "metadata": {
    "collapsed": false
   },
   "outputs": [],
   "source": [
    "text = 'Melanie Day and the quick brown fox jumped over the lazy dog'\n",
    "test = en_parse(text,lemmata=True,tokenize=True,encoding = 'utf-8')"
   ]
  },
  {
   "cell_type": "markdown",
   "metadata": {},
   "source": [
    "#### The pattern package can be used to find the nouns in a text, which are more likely to be important when trying to identify items."
   ]
  },
  {
   "cell_type": "code",
   "execution_count": 23,
   "metadata": {
    "collapsed": false
   },
   "outputs": [
    {
     "name": "stdout",
     "output_type": "stream",
     "text": [
      "True NNP Melanie\n",
      "True NNP Day\n",
      "False CC and\n",
      "False DT the\n",
      "False JJ quick\n",
      "False JJ brown\n",
      "True NN fox\n",
      "False VBD jumped\n",
      "False IN over\n",
      "False DT the\n",
      "False JJ lazy\n",
      "True NN dog\n"
     ]
    }
   ],
   "source": [
    "for s in test.sentences:\n",
    "    for c in s.chunks:\n",
    "        for word in c.words:\n",
    "            print 'NN' in word.part_of_speech,word.part_of_speech,word.string"
   ]
  },
  {
   "cell_type": "code",
   "execution_count": 24,
   "metadata": {
    "collapsed": true
   },
   "outputs": [],
   "source": [
    "import sys\n",
    "reload(sys)\n",
    "sys.setdefaultencoding('utf8')"
   ]
  },
  {
   "cell_type": "code",
   "execution_count": 25,
   "metadata": {
    "collapsed": false
   },
   "outputs": [],
   "source": [
    "def nounify(in_text):\n",
    "    noun_text = ''\n",
    "    bad_text = False\n",
    "    in_text = in_text.decode('latin1')\n",
    "    try:\n",
    "        langdetect.detect(in_text)\n",
    "    except:\n",
    "        return noun_text\n",
    "    if(langdetect.detect(in_text)=='en'):\n",
    "        parsed_text = en_parse(in_text,lemmata=True,tokenize=True,encoding = 'utf-8')\n",
    "    if(langdetect.detect(in_text)=='es'):\n",
    "        parsed_text = es_parse(in_text,lemmata=True,tokenize=True,encoding = 'utf-8')\n",
    "    elif(langdetect.detect(in_text)=='de'):\n",
    "        parsed_text = de_parse(in_text,lemmata=True,tokenize=True,encoding = 'utf-8')\n",
    "    elif(langdetect.detect(in_text)=='fr'):\n",
    "        parsed_text = fr_parse(in_text,lemmata=True,tokenize=True,encoding = 'utf-8')\n",
    "    else:\n",
    "        bad_text = True\n",
    "    if(not(bad_text)):\n",
    "        for s in parsed_text.sentences:\n",
    "            for c in s.chunks:\n",
    "                for word in c.words:\n",
    "                    if('NN' in word.part_of_speech):\n",
    "                        noun_text+=word.string+' '  \n",
    "    return noun_text"
   ]
  },
  {
   "cell_type": "markdown",
   "metadata": {},
   "source": [
    "#### In testing the algorithm, it is clear that it works best for english, and misidentifies some words as nouns in other languages. Finding software that can identify parts of speech in multiple languages is very difficult"
   ]
  },
  {
   "cell_type": "code",
   "execution_count": 26,
   "metadata": {
    "collapsed": false
   },
   "outputs": [],
   "source": [
    "en_nouns = nounify(text)"
   ]
  },
  {
   "cell_type": "code",
   "execution_count": 27,
   "metadata": {
    "collapsed": false
   },
   "outputs": [
    {
     "data": {
      "text/plain": [
       "''"
      ]
     },
     "execution_count": 27,
     "metadata": {},
     "output_type": "execute_result"
    }
   ],
   "source": [
    "en_nouns"
   ]
  },
  {
   "cell_type": "code",
   "execution_count": 28,
   "metadata": {
    "collapsed": true
   },
   "outputs": [],
   "source": [
    "fr_text = 'Melanie Day et Le vif renard brun saute par dessus le chien paresseux'"
   ]
  },
  {
   "cell_type": "code",
   "execution_count": 29,
   "metadata": {
    "collapsed": false
   },
   "outputs": [],
   "source": [
    "fr_nouns = nounify(fr_text)"
   ]
  },
  {
   "cell_type": "code",
   "execution_count": 30,
   "metadata": {
    "collapsed": false
   },
   "outputs": [
    {
     "data": {
      "text/plain": [
       "u'Melanie Day renard brun chien paresseux '"
      ]
     },
     "execution_count": 30,
     "metadata": {},
     "output_type": "execute_result"
    }
   ],
   "source": [
    "fr_nouns"
   ]
  },
  {
   "cell_type": "code",
   "execution_count": 31,
   "metadata": {
    "collapsed": false
   },
   "outputs": [],
   "source": [
    "de_text = 'Zwölf Boxkämpfer jagen Viktor quer über den großen Sylter Deich'.encode('utf-8')"
   ]
  },
  {
   "cell_type": "code",
   "execution_count": 32,
   "metadata": {
    "collapsed": false
   },
   "outputs": [
    {
     "data": {
      "text/plain": [
       "'Zw\\xc3\\xb6lf Boxk\\xc3\\xa4mpfer jagen Viktor quer \\xc3\\xbcber den gro\\xc3\\x9fen Sylter Deich'"
      ]
     },
     "execution_count": 32,
     "metadata": {},
     "output_type": "execute_result"
    }
   ],
   "source": [
    "de_text"
   ]
  },
  {
   "cell_type": "code",
   "execution_count": 33,
   "metadata": {
    "collapsed": false
   },
   "outputs": [],
   "source": [
    "de_nouns = nounify(de_text)"
   ]
  },
  {
   "cell_type": "code",
   "execution_count": 34,
   "metadata": {
    "collapsed": false
   },
   "outputs": [
    {
     "data": {
      "text/plain": [
       "u'Boxk\\xc3\\xa4mpfer Viktor quer \\xc3\\xbcber gro\\xc3\\x9fen Sylter Deich '"
      ]
     },
     "execution_count": 34,
     "metadata": {},
     "output_type": "execute_result"
    }
   ],
   "source": [
    "de_nouns"
   ]
  },
  {
   "cell_type": "markdown",
   "metadata": {},
   "source": [
    "#### Find that processing the text takes extremely long on my laptop. I implemented the below code in a separate python file (multiprocessing cannot be run inside of a jupyter notebook). However, even with multiprocessing filtering the text still takes >6 hours, and given my time constraints I had to give up on it."
   ]
  },
  {
   "cell_type": "code",
   "execution_count": 40,
   "metadata": {
    "collapsed": true
   },
   "outputs": [],
   "source": [
    "import multiprocessing\n",
    "pool = multiprocessing.Pool(8)"
   ]
  },
  {
   "cell_type": "code",
   "execution_count": 41,
   "metadata": {
    "collapsed": true
   },
   "outputs": [],
   "source": [
    "def noun_apply(df):\n",
    "    res = df.apply(nounify)\n",
    "    return res"
   ]
  },
  {
   "cell_type": "code",
   "execution_count": null,
   "metadata": {
    "collapsed": false
   },
   "outputs": [],
   "source": [
    "name_results = pool.map(noun_apply, numpy.array_split(in_labelling['name'],8))"
   ]
  },
  {
   "cell_type": "code",
   "execution_count": null,
   "metadata": {
    "collapsed": false
   },
   "outputs": [],
   "source": [
    "name_results.head()"
   ]
  },
  {
   "cell_type": "code",
   "execution_count": null,
   "metadata": {
    "collapsed": true
   },
   "outputs": [],
   "source": [
    "pool.close()\n",
    "pool.join()"
   ]
  },
  {
   "cell_type": "code",
   "execution_count": null,
   "metadata": {
    "collapsed": true
   },
   "outputs": [],
   "source": []
  }
 ],
 "metadata": {
  "kernelspec": {
   "display_name": "Python 2",
   "language": "python",
   "name": "python2"
  },
  "language_info": {
   "codemirror_mode": {
    "name": "ipython",
    "version": 2
   },
   "file_extension": ".py",
   "mimetype": "text/x-python",
   "name": "python",
   "nbconvert_exporter": "python",
   "pygments_lexer": "ipython2",
   "version": "2.7.6"
  }
 },
 "nbformat": 4,
 "nbformat_minor": 0
}
